{
 "cells": [
  {
   "cell_type": "markdown",
   "id": "5cc5b624",
   "metadata": {},
   "source": [
    "# Python workshop - 2025\n",
    "\n",
    "<div>\n",
    "    <img src=\"../images/qcbs_logo_v2.svg\" style=\"background-color: #f0f0f0; padding: 20px;\"/>\n",
    "</div>\n",
    "\n",
    "<div>\n",
    "    <img src=\"../images/python_logo_generic.svg\" style=\"background-color: #f0f0f0; padding: 20px;\"/>\n",
    "</div>\n",
    "\n",
    "**Last update**: 2025-05-19  \n",
    "**Author**: El-Amine Mimouni  \n",
    "**Affiliation**: Québec Centre for Biodiversity Science\n",
    "\n",
    "**Overview**: In this notebook, we will see how to use GeoPandas.\n",
    "\n",
    "---\n",
    "\n",
    "# GeoPandas\n",
    "\n",
    "## General information\n",
    "\n",
    "\n",
    "Information about GeoPandas can be found at: [https://geopandas.org/en/stable/index.html](https://geopandas.org/en/stable/index.html)\n"
   ]
  },
  {
   "cell_type": "code",
   "execution_count": 1,
   "id": "e0d6aaab",
   "metadata": {},
   "outputs": [],
   "source": [
    "# The star of today\n",
    "import geopandas as gpd\n",
    "\n",
    "# Supporting actors\n",
    "import pandas as pd\n",
    "import shapely\n",
    "import pyproj\n",
    "import folium\n",
    "import pyogrio"
   ]
  },
  {
   "cell_type": "markdown",
   "id": "37cb4996",
   "metadata": {},
   "source": [
    "# Building a GeoDataFrame"
   ]
  },
  {
   "cell_type": "code",
   "execution_count": 2,
   "id": "6963fcd9",
   "metadata": {},
   "outputs": [
    {
     "name": "stdout",
     "output_type": "stream",
     "text": [
      "Nonspatial data:\n",
      "   some_variable\n",
      "0             38\n",
      "<class 'pandas.core.frame.DataFrame'>\n",
      "\n",
      "Geometry:\n",
      "POINT (-62.2159 -3.4653)\n",
      "<class 'shapely.geometry.point.Point'>\n",
      "\n",
      "CRS:\n",
      "EPSG:4326\n",
      "<class 'pyproj.crs.crs.CRS'>\n"
     ]
    }
   ],
   "source": [
    "# Creating a GeoDataFrame by hand\n",
    "\n",
    "# Define nonspatial data\n",
    "my_nonspatial_df = pd.DataFrame(data=[{\"some_variable\": 38}])\n",
    "\n",
    "# Define geometry\n",
    "my_geometry = shapely.geometry.Point(-62.2159, -3.4653)\n",
    "\n",
    "# Define CRS\n",
    "# This time, use the .from_epsg() method\n",
    "my_crs = pyproj.CRS.from_epsg(4326)\n",
    "\n",
    "# Look at it!\n",
    "print(\"Nonspatial data:\")\n",
    "print(my_nonspatial_df)\n",
    "print(type(my_nonspatial_df))\n",
    "\n",
    "print(\"\\nGeometry:\")\n",
    "print(my_geometry)\n",
    "print(type(my_geometry))\n",
    "\n",
    "print(\"\\nCRS:\")\n",
    "print(my_crs)\n",
    "print(type(my_crs))"
   ]
  },
  {
   "cell_type": "code",
   "execution_count": 3,
   "id": "4e41f5ff",
   "metadata": {},
   "outputs": [
    {
     "name": "stdout",
     "output_type": "stream",
     "text": [
      "A complete GeoDataFrame:\n",
      "   some_variable                  geometry\n",
      "0             38  POINT (-62.2159 -3.4653)\n",
      "<class 'geopandas.geodataframe.GeoDataFrame'>\n"
     ]
    }
   ],
   "source": [
    "# Gotta give the geometry as a list or gpd not happy!\n",
    "my_gdf = gpd.GeoDataFrame(data=my_nonspatial_df, geometry=[my_geometry], crs=my_crs)\n",
    "\n",
    "# Look at it!\n",
    "\n",
    "print(\"A complete GeoDataFrame:\")\n",
    "print(my_gdf)\n",
    "print(type(my_gdf))"
   ]
  },
  {
   "cell_type": "code",
   "execution_count": null,
   "id": "88bcc4ea",
   "metadata": {},
   "outputs": [],
   "source": [
    "# Use the .explore() method of the GeoDataFrame\n",
    "my_gdf.explore(zoom_start=5)"
   ]
  },
  {
   "cell_type": "code",
   "execution_count": 5,
   "id": "1de8d802",
   "metadata": {},
   "outputs": [
    {
     "name": "stdout",
     "output_type": "stream",
     "text": [
      "The my_explore object:\n",
      "<folium.folium.Map object at 0x000002562825DD10>\n",
      "<class 'folium.folium.Map'>\n"
     ]
    }
   ],
   "source": [
    "# See what type of object it is\n",
    "my_explore = my_gdf.explore()\n",
    "\n",
    "# Look at it!\n",
    "print(\"The my_explore object:\")\n",
    "print(my_explore)\n",
    "print(type(my_explore))"
   ]
  },
  {
   "cell_type": "code",
   "execution_count": 6,
   "id": "c1a62516",
   "metadata": {},
   "outputs": [],
   "source": [
    "# Write your GeoDataFrame to file\n",
    "my_gdf.to_file(filename=\"../data/my_gdf.geojson\", driver=\"GeoJSON\")"
   ]
  },
  {
   "cell_type": "code",
   "execution_count": 7,
   "id": "cab44cb4",
   "metadata": {},
   "outputs": [
    {
     "data": {
      "text/plain": [
       "{'PCIDSK': 'rw',\n",
       " 'PDS4': 'rw',\n",
       " 'VICAR': 'rw',\n",
       " 'PDF': 'rw',\n",
       " 'MBTiles': 'rw',\n",
       " 'EEDA': 'r',\n",
       " 'OGCAPI': 'r',\n",
       " 'ESRI Shapefile': 'rw',\n",
       " 'MapInfo File': 'rw',\n",
       " 'UK .NTF': 'r',\n",
       " 'LVBAG': 'r',\n",
       " 'OGR_SDTS': 'r',\n",
       " 'S57': 'rw',\n",
       " 'DGN': 'rw',\n",
       " 'OGR_VRT': 'r',\n",
       " 'Memory': 'rw',\n",
       " 'CSV': 'rw',\n",
       " 'GML': 'rw',\n",
       " 'GPX': 'rw',\n",
       " 'KML': 'rw',\n",
       " 'GeoJSON': 'rw',\n",
       " 'GeoJSONSeq': 'rw',\n",
       " 'ESRIJSON': 'r',\n",
       " 'TopoJSON': 'r',\n",
       " 'OGR_GMT': 'rw',\n",
       " 'GPKG': 'rw',\n",
       " 'SQLite': 'rw',\n",
       " 'WAsP': 'rw',\n",
       " 'OpenFileGDB': 'rw',\n",
       " 'DXF': 'rw',\n",
       " 'FlatGeobuf': 'rw',\n",
       " 'Geoconcept': 'rw',\n",
       " 'GeoRSS': 'rw',\n",
       " 'VFK': 'r',\n",
       " 'PGDUMP': 'rw',\n",
       " 'OSM': 'r',\n",
       " 'GPSBabel': 'rw',\n",
       " 'OGR_PDS': 'r',\n",
       " 'WFS': 'r',\n",
       " 'OAPIF': 'r',\n",
       " 'EDIGEO': 'r',\n",
       " 'SVG': 'r',\n",
       " 'Idrisi': 'r',\n",
       " 'ODS': 'rw',\n",
       " 'XLSX': 'rw',\n",
       " 'Elasticsearch': 'rw',\n",
       " 'Carto': 'rw',\n",
       " 'AmigoCloud': 'rw',\n",
       " 'SXF': 'r',\n",
       " 'Selafin': 'rw',\n",
       " 'JML': 'rw',\n",
       " 'PLSCENES': 'r',\n",
       " 'CSW': 'r',\n",
       " 'VDV': 'rw',\n",
       " 'MVT': 'rw',\n",
       " 'NGW': 'rw',\n",
       " 'MapML': 'rw',\n",
       " 'GTFS': 'r',\n",
       " 'PMTiles': 'rw',\n",
       " 'JSONFG': 'rw',\n",
       " 'MiraMonVector': 'rw',\n",
       " 'TIGER': 'r',\n",
       " 'AVCBin': 'r',\n",
       " 'AVCE00': 'r',\n",
       " 'HTTP': 'r'}"
      ]
     },
     "execution_count": 7,
     "metadata": {},
     "output_type": "execute_result"
    }
   ],
   "source": [
    "# See the various formats GeoPandas can read from and to\n",
    "pyogrio.list_drivers()"
   ]
  },
  {
   "cell_type": "markdown",
   "id": "fbe94977",
   "metadata": {},
   "source": [
    "# Loading spatial data"
   ]
  },
  {
   "cell_type": "code",
   "execution_count": 8,
   "id": "4acbf39c",
   "metadata": {},
   "outputs": [],
   "source": [
    "# Download amphibian distribution areas\n",
    "# From Quebec Ministry\n",
    "amph_gdf = gpd.read_file(filename=\"https://diffusion.mffp.gouv.qc.ca/Diffusion/DonneeGratuite/Faune/Aires_repartition/Amphibien/SQLite/Aires_repartition_amphibiens.sqlite\")\n",
    "\n",
    "# Web landing page:\n",
    "# https://www.donneesquebec.ca/recherche/dataset/aires-de-repartition-faune/resource/4e32d8a8-113a-466c-994d-8b052f5c669c"
   ]
  },
  {
   "cell_type": "code",
   "execution_count": 9,
   "id": "71c65a6d",
   "metadata": {},
   "outputs": [
    {
     "name": "stdout",
     "output_type": "stream",
     "text": [
      "<class 'geopandas.geodataframe.GeoDataFrame'>\n"
     ]
    },
    {
     "data": {
      "text/html": [
       "<div>\n",
       "<style scoped>\n",
       "    .dataframe tbody tr th:only-of-type {\n",
       "        vertical-align: middle;\n",
       "    }\n",
       "\n",
       "    .dataframe tbody tr th {\n",
       "        vertical-align: top;\n",
       "    }\n",
       "\n",
       "    .dataframe thead th {\n",
       "        text-align: right;\n",
       "    }\n",
       "</style>\n",
       "<table border=\"1\" class=\"dataframe\">\n",
       "  <thead>\n",
       "    <tr style=\"text-align: right;\">\n",
       "      <th></th>\n",
       "      <th>desc_entit</th>\n",
       "      <th>producteur</th>\n",
       "      <th>nom_franca</th>\n",
       "      <th>nom_angla</th>\n",
       "      <th>nom_scient</th>\n",
       "      <th>date_maj</th>\n",
       "      <th>grand_groupe</th>\n",
       "      <th>famille</th>\n",
       "      <th>shape_length</th>\n",
       "      <th>shape_area</th>\n",
       "      <th>geometry</th>\n",
       "    </tr>\n",
       "  </thead>\n",
       "  <tbody>\n",
       "    <tr>\n",
       "      <th>0</th>\n",
       "      <td>Aire de rÃ©partition</td>\n",
       "      <td>MinistÃ¨re des ForÃªts, de la Faune et des Parcs</td>\n",
       "      <td>Crapaud d'AmÃ©rique</td>\n",
       "      <td>American Toad</td>\n",
       "      <td>Anaxyrus americanus</td>\n",
       "      <td>2021</td>\n",
       "      <td>Amphibiens</td>\n",
       "      <td>Bufonidae</td>\n",
       "      <td>1.498345e+07</td>\n",
       "      <td>1.184087e+12</td>\n",
       "      <td>MULTIPOLYGON (((-485026.718 132619.355, -48500...</td>\n",
       "    </tr>\n",
       "    <tr>\n",
       "      <th>1</th>\n",
       "      <td>Aire de rÃ©partition</td>\n",
       "      <td>MinistÃ¨re des ForÃªts, de la Faune et des Parcs</td>\n",
       "      <td>Grenouille des bois</td>\n",
       "      <td>Wood Frog</td>\n",
       "      <td>Lithobates sylvaticus</td>\n",
       "      <td>2021</td>\n",
       "      <td>Amphibiens</td>\n",
       "      <td>Ranidae</td>\n",
       "      <td>1.332345e+07</td>\n",
       "      <td>1.198792e+12</td>\n",
       "      <td>MULTIPOLYGON (((-485026.718 132619.355, -48500...</td>\n",
       "    </tr>\n",
       "    <tr>\n",
       "      <th>2</th>\n",
       "      <td>Aire de rÃ©partition</td>\n",
       "      <td>MinistÃ¨re des ForÃªts, de la Faune et des Parcs</td>\n",
       "      <td>Grenouille des marais</td>\n",
       "      <td>Pickerel Frog</td>\n",
       "      <td>Lithobates palustris</td>\n",
       "      <td>2021</td>\n",
       "      <td>Amphibiens</td>\n",
       "      <td>Ranidae</td>\n",
       "      <td>5.387379e+06</td>\n",
       "      <td>1.573200e+11</td>\n",
       "      <td>MULTIPOLYGON (((-485026.718 132619.355, -48500...</td>\n",
       "    </tr>\n",
       "    <tr>\n",
       "      <th>3</th>\n",
       "      <td>Aire de rÃ©partition</td>\n",
       "      <td>MinistÃ¨re des ForÃªts, de la Faune et des Parcs</td>\n",
       "      <td>Grenouille du Nord</td>\n",
       "      <td>Mink Frog</td>\n",
       "      <td>Lithobates septentrionalis</td>\n",
       "      <td>2021</td>\n",
       "      <td>Amphibiens</td>\n",
       "      <td>Ranidae</td>\n",
       "      <td>1.106284e+07</td>\n",
       "      <td>9.748393e+11</td>\n",
       "      <td>MULTIPOLYGON (((-485026.718 132619.355, -48500...</td>\n",
       "    </tr>\n",
       "    <tr>\n",
       "      <th>4</th>\n",
       "      <td>Aire de rÃ©partition</td>\n",
       "      <td>MinistÃ¨re des ForÃªts, de la Faune et des Parcs</td>\n",
       "      <td>Grenouille lÃ©opard du Nord</td>\n",
       "      <td>Northern leopard Frog</td>\n",
       "      <td>Lithobates pipiens</td>\n",
       "      <td>2021</td>\n",
       "      <td>Amphibiens</td>\n",
       "      <td>Ranidae</td>\n",
       "      <td>9.757220e+06</td>\n",
       "      <td>6.338660e+11</td>\n",
       "      <td>MULTIPOLYGON (((-485026.718 132619.355, -48500...</td>\n",
       "    </tr>\n",
       "  </tbody>\n",
       "</table>\n",
       "</div>"
      ],
      "text/plain": [
       "             desc_entit                                        producteur  \\\n",
       "0  Aire de rÃ©partition  MinistÃ¨re des ForÃªts, de la Faune et des Parcs   \n",
       "1  Aire de rÃ©partition  MinistÃ¨re des ForÃªts, de la Faune et des Parcs   \n",
       "2  Aire de rÃ©partition  MinistÃ¨re des ForÃªts, de la Faune et des Parcs   \n",
       "3  Aire de rÃ©partition  MinistÃ¨re des ForÃªts, de la Faune et des Parcs   \n",
       "4  Aire de rÃ©partition  MinistÃ¨re des ForÃªts, de la Faune et des Parcs   \n",
       "\n",
       "                    nom_franca              nom_angla  \\\n",
       "0          Crapaud d'AmÃ©rique          American Toad   \n",
       "1          Grenouille des bois              Wood Frog   \n",
       "2        Grenouille des marais          Pickerel Frog   \n",
       "3           Grenouille du Nord              Mink Frog   \n",
       "4  Grenouille lÃ©opard du Nord  Northern leopard Frog   \n",
       "\n",
       "                   nom_scient date_maj grand_groupe    famille  shape_length  \\\n",
       "0         Anaxyrus americanus     2021   Amphibiens  Bufonidae  1.498345e+07   \n",
       "1       Lithobates sylvaticus     2021   Amphibiens    Ranidae  1.332345e+07   \n",
       "2        Lithobates palustris     2021   Amphibiens    Ranidae  5.387379e+06   \n",
       "3  Lithobates septentrionalis     2021   Amphibiens    Ranidae  1.106284e+07   \n",
       "4          Lithobates pipiens     2021   Amphibiens    Ranidae  9.757220e+06   \n",
       "\n",
       "     shape_area                                           geometry  \n",
       "0  1.184087e+12  MULTIPOLYGON (((-485026.718 132619.355, -48500...  \n",
       "1  1.198792e+12  MULTIPOLYGON (((-485026.718 132619.355, -48500...  \n",
       "2  1.573200e+11  MULTIPOLYGON (((-485026.718 132619.355, -48500...  \n",
       "3  9.748393e+11  MULTIPOLYGON (((-485026.718 132619.355, -48500...  \n",
       "4  6.338660e+11  MULTIPOLYGON (((-485026.718 132619.355, -48500...  "
      ]
     },
     "execution_count": 9,
     "metadata": {},
     "output_type": "execute_result"
    }
   ],
   "source": [
    "# See the first lines of the object\n",
    "# No UTF8\n",
    "print(type(amph_gdf))\n",
    "(amph_gdf.head())"
   ]
  },
  {
   "cell_type": "code",
   "execution_count": null,
   "id": "55cf2b4f",
   "metadata": {},
   "outputs": [],
   "source": [
    "# See distribution of the first species\n",
    "amph_gdf.iloc[0:1].explore()"
   ]
  },
  {
   "cell_type": "code",
   "execution_count": null,
   "id": "84ed669e",
   "metadata": {},
   "outputs": [],
   "source": [
    "# Create and append a new (it already exists but we want to show)\n",
    "# This is a Pandas feature combined with shapely geometry attributes\n",
    "amph_gdf[\"area_now\"] = amph_gdf.geometry.area\n",
    "\n",
    "# Look at it!\n",
    "amph_gdf.head()"
   ]
  },
  {
   "cell_type": "code",
   "execution_count": null,
   "id": "a62ec115",
   "metadata": {},
   "outputs": [],
   "source": [
    "# Since it is an extension of Pandas DataFrame, you can still use similar functions\n",
    "amph_gdf.groupby(\"famille\")[\"area_now\"].agg([\"min\", \"max\", \"std\", \"count\"])"
   ]
  },
  {
   "cell_type": "markdown",
   "id": "d64963d9",
   "metadata": {},
   "source": [
    "# Clipping"
   ]
  },
  {
   "cell_type": "code",
   "execution_count": 13,
   "id": "f3ea3682",
   "metadata": {},
   "outputs": [
    {
     "name": "stdout",
     "output_type": "stream",
     "text": [
      "POLYGON ((-70.32 51.24, -70.32 61.14, -80.18 61.14, -80.18 51.24, -70.32 51.24))\n",
      "<class 'shapely.geometry.polygon.Polygon'>\n"
     ]
    }
   ],
   "source": [
    "# Define a bounding box centered over northern Quebec\n",
    "my_bbox = shapely.geometry.box(minx=-80.18, miny=51.24, maxx=-70.32, maxy=61.14)\n",
    "\n",
    "# Look at it!\n",
    "print(my_bbox)\n",
    "print(type(my_bbox))"
   ]
  },
  {
   "cell_type": "code",
   "execution_count": 14,
   "id": "2cb0d26a",
   "metadata": {},
   "outputs": [
    {
     "data": {
      "text/html": [
       "<div>\n",
       "<style scoped>\n",
       "    .dataframe tbody tr th:only-of-type {\n",
       "        vertical-align: middle;\n",
       "    }\n",
       "\n",
       "    .dataframe tbody tr th {\n",
       "        vertical-align: top;\n",
       "    }\n",
       "\n",
       "    .dataframe thead th {\n",
       "        text-align: right;\n",
       "    }\n",
       "</style>\n",
       "<table border=\"1\" class=\"dataframe\">\n",
       "  <thead>\n",
       "    <tr style=\"text-align: right;\">\n",
       "      <th></th>\n",
       "      <th>name</th>\n",
       "      <th>geometry</th>\n",
       "    </tr>\n",
       "  </thead>\n",
       "  <tbody>\n",
       "    <tr>\n",
       "      <th>0</th>\n",
       "      <td>boxy</td>\n",
       "      <td>POLYGON ((-70.32 51.24, -70.32 61.14, -80.18 6...</td>\n",
       "    </tr>\n",
       "  </tbody>\n",
       "</table>\n",
       "</div>"
      ],
      "text/plain": [
       "   name                                           geometry\n",
       "0  boxy  POLYGON ((-70.32 51.24, -70.32 61.14, -80.18 6..."
      ]
     },
     "execution_count": 14,
     "metadata": {},
     "output_type": "execute_result"
    }
   ],
   "source": [
    "# Create a GeoDataFrame\n",
    "boxy = gpd.GeoDataFrame(data=[{\"name\": \"boxy\"}], geometry=[my_bbox], crs=\"EPSG:4326\")\n",
    "boxy"
   ]
  },
  {
   "cell_type": "code",
   "execution_count": null,
   "id": "6be3e5c3",
   "metadata": {},
   "outputs": [],
   "source": [
    "# Look at the bounding box\n",
    "boxy.explore()"
   ]
  },
  {
   "cell_type": "code",
   "execution_count": null,
   "id": "b8c4bb70",
   "metadata": {},
   "outputs": [],
   "source": [
    "# Clip the random polygons with the box\n",
    "amph_clipped = amph_gdf.clip(mask=boxy, sort=True)\n",
    "\n",
    "# Note: Equivalent to\n",
    "# amph_clipped = gpd.clip(gdf=amph_gdf, mask=boxy, sort=True)"
   ]
  },
  {
   "cell_type": "code",
   "execution_count": null,
   "id": "d150d8c8",
   "metadata": {},
   "outputs": [],
   "source": [
    "# Everything went BAD, look at the first few lines\n",
    "amph_clipped.head()"
   ]
  },
  {
   "cell_type": "code",
   "execution_count": 18,
   "id": "89b536cb",
   "metadata": {},
   "outputs": [],
   "source": [
    "# AN ON PURPOSE ERROR!\n",
    "# Reproject the amphibian distribution areas geometries to the\n",
    "# appropriate CRS (EPSG:4326).\n",
    "# Do it in the same line to avoid creating additional objects\n",
    "amph_clipped = amph_gdf.to_crs(epsg=4326).clip(mask=boxy, sort=True)\n",
    "\n",
    "# Note: Equivalent to\n",
    "# amph_clipped = gpd.clip(gdf=amph_gdf.to_crs(epsg=4326), mask=boxy, sort=True)"
   ]
  },
  {
   "cell_type": "code",
   "execution_count": 19,
   "id": "81575b50",
   "metadata": {},
   "outputs": [
    {
     "data": {
      "text/html": [
       "<div>\n",
       "<style scoped>\n",
       "    .dataframe tbody tr th:only-of-type {\n",
       "        vertical-align: middle;\n",
       "    }\n",
       "\n",
       "    .dataframe tbody tr th {\n",
       "        vertical-align: top;\n",
       "    }\n",
       "\n",
       "    .dataframe thead th {\n",
       "        text-align: right;\n",
       "    }\n",
       "</style>\n",
       "<table border=\"1\" class=\"dataframe\">\n",
       "  <thead>\n",
       "    <tr style=\"text-align: right;\">\n",
       "      <th></th>\n",
       "      <th>desc_entit</th>\n",
       "      <th>producteur</th>\n",
       "      <th>nom_franca</th>\n",
       "      <th>nom_angla</th>\n",
       "      <th>nom_scient</th>\n",
       "      <th>date_maj</th>\n",
       "      <th>grand_groupe</th>\n",
       "      <th>famille</th>\n",
       "      <th>shape_length</th>\n",
       "      <th>shape_area</th>\n",
       "      <th>geometry</th>\n",
       "      <th>area_now</th>\n",
       "    </tr>\n",
       "  </thead>\n",
       "  <tbody>\n",
       "    <tr>\n",
       "      <th>0</th>\n",
       "      <td>Aire de rÃ©partition</td>\n",
       "      <td>MinistÃ¨re des ForÃªts, de la Faune et des Parcs</td>\n",
       "      <td>Crapaud d'AmÃ©rique</td>\n",
       "      <td>American Toad</td>\n",
       "      <td>Anaxyrus americanus</td>\n",
       "      <td>2021</td>\n",
       "      <td>Amphibiens</td>\n",
       "      <td>Bufonidae</td>\n",
       "      <td>1.498345e+07</td>\n",
       "      <td>1.184087e+12</td>\n",
       "      <td>POLYGON ((-79.51779 51.25005, -79.51784 51.316...</td>\n",
       "      <td>1.184087e+12</td>\n",
       "    </tr>\n",
       "    <tr>\n",
       "      <th>1</th>\n",
       "      <td>Aire de rÃ©partition</td>\n",
       "      <td>MinistÃ¨re des ForÃªts, de la Faune et des Parcs</td>\n",
       "      <td>Grenouille des bois</td>\n",
       "      <td>Wood Frog</td>\n",
       "      <td>Lithobates sylvaticus</td>\n",
       "      <td>2021</td>\n",
       "      <td>Amphibiens</td>\n",
       "      <td>Ranidae</td>\n",
       "      <td>1.332345e+07</td>\n",
       "      <td>1.198792e+12</td>\n",
       "      <td>POLYGON ((-79.51779 51.25005, -79.51784 51.316...</td>\n",
       "      <td>1.198792e+12</td>\n",
       "    </tr>\n",
       "    <tr>\n",
       "      <th>3</th>\n",
       "      <td>Aire de rÃ©partition</td>\n",
       "      <td>MinistÃ¨re des ForÃªts, de la Faune et des Parcs</td>\n",
       "      <td>Grenouille du Nord</td>\n",
       "      <td>Mink Frog</td>\n",
       "      <td>Lithobates septentrionalis</td>\n",
       "      <td>2021</td>\n",
       "      <td>Amphibiens</td>\n",
       "      <td>Ranidae</td>\n",
       "      <td>1.106284e+07</td>\n",
       "      <td>9.748393e+11</td>\n",
       "      <td>POLYGON ((-79.51779 51.25005, -79.51784 51.316...</td>\n",
       "      <td>9.748393e+11</td>\n",
       "    </tr>\n",
       "    <tr>\n",
       "      <th>4</th>\n",
       "      <td>Aire de rÃ©partition</td>\n",
       "      <td>MinistÃ¨re des ForÃªts, de la Faune et des Parcs</td>\n",
       "      <td>Grenouille lÃ©opard du Nord</td>\n",
       "      <td>Northern leopard Frog</td>\n",
       "      <td>Lithobates pipiens</td>\n",
       "      <td>2021</td>\n",
       "      <td>Amphibiens</td>\n",
       "      <td>Ranidae</td>\n",
       "      <td>9.757220e+06</td>\n",
       "      <td>6.338660e+11</td>\n",
       "      <td>POLYGON ((-78.80668 53.76057, -78.66113 53.766...</td>\n",
       "      <td>6.338660e+11</td>\n",
       "    </tr>\n",
       "    <tr>\n",
       "      <th>5</th>\n",
       "      <td>Aire de rÃ©partition</td>\n",
       "      <td>MinistÃ¨re des ForÃªts, de la Faune et des Parcs</td>\n",
       "      <td>Grenouille verte</td>\n",
       "      <td>Green Frog</td>\n",
       "      <td>Lithobates clamitans</td>\n",
       "      <td>2021</td>\n",
       "      <td>Amphibiens</td>\n",
       "      <td>Ranidae</td>\n",
       "      <td>9.041373e+06</td>\n",
       "      <td>5.408896e+11</td>\n",
       "      <td>POLYGON ((-74.73656 51.25987, -74.49898 51.337...</td>\n",
       "      <td>5.408896e+11</td>\n",
       "    </tr>\n",
       "  </tbody>\n",
       "</table>\n",
       "</div>"
      ],
      "text/plain": [
       "             desc_entit                                        producteur  \\\n",
       "0  Aire de rÃ©partition  MinistÃ¨re des ForÃªts, de la Faune et des Parcs   \n",
       "1  Aire de rÃ©partition  MinistÃ¨re des ForÃªts, de la Faune et des Parcs   \n",
       "3  Aire de rÃ©partition  MinistÃ¨re des ForÃªts, de la Faune et des Parcs   \n",
       "4  Aire de rÃ©partition  MinistÃ¨re des ForÃªts, de la Faune et des Parcs   \n",
       "5  Aire de rÃ©partition  MinistÃ¨re des ForÃªts, de la Faune et des Parcs   \n",
       "\n",
       "                    nom_franca              nom_angla  \\\n",
       "0          Crapaud d'AmÃ©rique          American Toad   \n",
       "1          Grenouille des bois              Wood Frog   \n",
       "3           Grenouille du Nord              Mink Frog   \n",
       "4  Grenouille lÃ©opard du Nord  Northern leopard Frog   \n",
       "5             Grenouille verte             Green Frog   \n",
       "\n",
       "                   nom_scient date_maj grand_groupe    famille  shape_length  \\\n",
       "0         Anaxyrus americanus     2021   Amphibiens  Bufonidae  1.498345e+07   \n",
       "1       Lithobates sylvaticus     2021   Amphibiens    Ranidae  1.332345e+07   \n",
       "3  Lithobates septentrionalis     2021   Amphibiens    Ranidae  1.106284e+07   \n",
       "4          Lithobates pipiens     2021   Amphibiens    Ranidae  9.757220e+06   \n",
       "5        Lithobates clamitans     2021   Amphibiens    Ranidae  9.041373e+06   \n",
       "\n",
       "     shape_area                                           geometry  \\\n",
       "0  1.184087e+12  POLYGON ((-79.51779 51.25005, -79.51784 51.316...   \n",
       "1  1.198792e+12  POLYGON ((-79.51779 51.25005, -79.51784 51.316...   \n",
       "3  9.748393e+11  POLYGON ((-79.51779 51.25005, -79.51784 51.316...   \n",
       "4  6.338660e+11  POLYGON ((-78.80668 53.76057, -78.66113 53.766...   \n",
       "5  5.408896e+11  POLYGON ((-74.73656 51.25987, -74.49898 51.337...   \n",
       "\n",
       "       area_now  \n",
       "0  1.184087e+12  \n",
       "1  1.198792e+12  \n",
       "3  9.748393e+11  \n",
       "4  6.338660e+11  \n",
       "5  5.408896e+11  "
      ]
     },
     "execution_count": 19,
     "metadata": {},
     "output_type": "execute_result"
    }
   ],
   "source": [
    "# Everything went well, look at the first few lines\n",
    "amph_clipped.head()"
   ]
  },
  {
   "cell_type": "code",
   "execution_count": null,
   "id": "b9b91ace",
   "metadata": {},
   "outputs": [],
   "source": [
    "# Have a look at the data and review folium concepts\n",
    "my_map = boxy.explore(color=\"red\", alpha=0.75)\n",
    "\n",
    "# Add original data\n",
    "folium.GeoJson(data=amph_gdf[0:1].to_crs(epsg=4326).geometry, tooltip=\"I was not clipped!\", color=\"purple\", alpha=0.75).add_to(parent=my_map)\n",
    "\n",
    "# Add clipped data\n",
    "folium.GeoJson(data=amph_clipped[0:1].geometry, tooltip=\"But I was!\", color=\"blue\", alpha=0.75).add_to(parent=my_map)\n",
    "\n",
    "# Show the map\n",
    "my_map"
   ]
  },
  {
   "cell_type": "code",
   "execution_count": null,
   "id": "9db1ca56",
   "metadata": {},
   "outputs": [],
   "source": [
    "# Have a look at the data and review folium concepts (part 2!!!)\n",
    "my_map = boxy.explore(color=\"red\", alpha=0.75)\n",
    "\n",
    "# Add data outside the box\n",
    "folium.GeoJson(data=amph_gdf[2:3].to_crs(epsg=4326).geometry, tooltip=\"I was outside the box!\", color=\"purple\", alpha=0.75).add_to(parent=my_map)\n",
    "\n",
    "# Show the map\n",
    "my_map"
   ]
  },
  {
   "cell_type": "markdown",
   "id": "b8c2b1a5",
   "metadata": {},
   "source": [
    "# Spatial joins"
   ]
  },
  {
   "cell_type": "code",
   "execution_count": 22,
   "id": "22f04860",
   "metadata": {},
   "outputs": [
    {
     "name": "stdout",
     "output_type": "stream",
     "text": [
      "  STE_CODE21         STE_NAME21 CHG_FLAG21  CHG_LBL21 AUS_CODE21 AUS_NAME21  \\\n",
      "0          1    New South Wales          0  No change        AUS  Australia   \n",
      "1          2           Victoria          0  No change        AUS  Australia   \n",
      "2          3         Queensland          0  No change        AUS  Australia   \n",
      "3          4    South Australia          0  No change        AUS  Australia   \n",
      "4          5  Western Australia          0  No change        AUS  Australia   \n",
      "\n",
      "     AREASQKM21                                       LOCI_URI21  \\\n",
      "0  8.007977e+05  http://linked.data.gov.au/dataset/asgsed3/STE/1   \n",
      "1  2.274962e+05  http://linked.data.gov.au/dataset/asgsed3/STE/2   \n",
      "2  1.730171e+06  http://linked.data.gov.au/dataset/asgsed3/STE/3   \n",
      "3  9.842314e+05  http://linked.data.gov.au/dataset/asgsed3/STE/4   \n",
      "4  2.526632e+06  http://linked.data.gov.au/dataset/asgsed3/STE/5   \n",
      "\n",
      "                                            geometry  \n",
      "0  MULTIPOLYGON (((159.0623 -31.50886, 159.06218 ...  \n",
      "1  MULTIPOLYGON (((146.29286 -39.15778, 146.29341...  \n",
      "2  MULTIPOLYGON (((142.5314 -10.68301, 142.53072 ...  \n",
      "3  MULTIPOLYGON (((140.66025 -38.06256, 140.66006...  \n",
      "4  MULTIPOLYGON (((117.86953 -35.19108, 117.86961...  \n",
      "(10, 9)\n"
     ]
    }
   ],
   "source": [
    "# Get Australian territories and boundaries\n",
    "gdf_aus = gpd.read_file(filename=\"https://www.abs.gov.au/statistics/standards/australian-statistical-geography-standard-asgs-edition-3/jul2021-jun2026/access-and-downloads/digital-boundary-files/STE_2021_AUST_SHP_GDA2020.zip\")\n",
    "\n",
    "# Look \n",
    "print(gdf_aus.head())\n",
    "\n",
    "# Have a look at the shape of the GDF\n",
    "# Note: I hate you last line...\n",
    "print(gdf_aus.shape)\n",
    "\n",
    "# Web landing page:\n",
    "# https://www.abs.gov.au/statistics/standards/australian-statistical-geography-standard-asgs-edition-3/jul2021-jun2026/access-and-downloads/digital-boundary-files"
   ]
  },
  {
   "cell_type": "code",
   "execution_count": null,
   "id": "20748394",
   "metadata": {},
   "outputs": [],
   "source": [
    "# Have a look at the geometries\n",
    "gdf_aus.explore()"
   ]
  },
  {
   "cell_type": "code",
   "execution_count": 24,
   "id": "9d2d8411",
   "metadata": {},
   "outputs": [
    {
     "name": "stdout",
     "output_type": "stream",
     "text": [
      "CRS of the Australian digital boundaries:\n",
      "EPSG:7844\n",
      "False\n",
      "- name: Australia including Lord Howe Island, Macquarie Island, Ashmore and Cartier Islands, Christmas Island, Cocos (Keeling) Islands, Norfolk Island. All onshore and offshore.\n",
      "- bounds: (93.41, -60.55, 173.34, -8.47)\n",
      "<class 'pyproj.crs.crs.CRS'>\n"
     ]
    }
   ],
   "source": [
    "# Have a look at the CRS\n",
    "print(\"CRS of the Australian digital boundaries:\")\n",
    "print(gdf_aus.crs)\n",
    "print(gdf_aus.crs.is_projected)\n",
    "print(gdf_aus.crs.area_of_use)\n",
    "print(type(gdf_aus.crs))"
   ]
  },
  {
   "cell_type": "code",
   "execution_count": 25,
   "id": "eda067b1",
   "metadata": {},
   "outputs": [
    {
     "data": {
      "text/html": [
       "<div>\n",
       "<style scoped>\n",
       "    .dataframe tbody tr th:only-of-type {\n",
       "        vertical-align: middle;\n",
       "    }\n",
       "\n",
       "    .dataframe tbody tr th {\n",
       "        vertical-align: top;\n",
       "    }\n",
       "\n",
       "    .dataframe thead th {\n",
       "        text-align: right;\n",
       "    }\n",
       "</style>\n",
       "<table border=\"1\" class=\"dataframe\">\n",
       "  <thead>\n",
       "    <tr style=\"text-align: right;\">\n",
       "      <th></th>\n",
       "      <th>eventId</th>\n",
       "      <th>decimalLatitude</th>\n",
       "      <th>decimalLongitude</th>\n",
       "    </tr>\n",
       "  </thead>\n",
       "  <tbody>\n",
       "    <tr>\n",
       "      <th>0</th>\n",
       "      <td>5087759453</td>\n",
       "      <td>-20.585195</td>\n",
       "      <td>116.787842</td>\n",
       "    </tr>\n",
       "    <tr>\n",
       "      <th>1</th>\n",
       "      <td>5104528592</td>\n",
       "      <td>-22.843242</td>\n",
       "      <td>122.580642</td>\n",
       "    </tr>\n",
       "    <tr>\n",
       "      <th>2</th>\n",
       "      <td>4510177813</td>\n",
       "      <td>-32.524942</td>\n",
       "      <td>136.163344</td>\n",
       "    </tr>\n",
       "    <tr>\n",
       "      <th>3</th>\n",
       "      <td>4512283168</td>\n",
       "      <td>-30.397483</td>\n",
       "      <td>136.874328</td>\n",
       "    </tr>\n",
       "    <tr>\n",
       "      <th>4</th>\n",
       "      <td>4516234716</td>\n",
       "      <td>-32.268875</td>\n",
       "      <td>135.993515</td>\n",
       "    </tr>\n",
       "  </tbody>\n",
       "</table>\n",
       "</div>"
      ],
      "text/plain": [
       "      eventId  decimalLatitude  decimalLongitude\n",
       "0  5087759453       -20.585195        116.787842\n",
       "1  5104528592       -22.843242        122.580642\n",
       "2  4510177813       -32.524942        136.163344\n",
       "3  4512283168       -30.397483        136.874328\n",
       "4  4516234716       -32.268875        135.993515"
      ]
     },
     "execution_count": 25,
     "metadata": {},
     "output_type": "execute_result"
    }
   ],
   "source": [
    "# Read in GBIF data\n",
    "desert_pea = pd.read_csv(filepath_or_buffer=\"../data/desert_pea.csv\")\n",
    "\n",
    "# Look at the first 5 lines\n",
    "desert_pea.head()"
   ]
  },
  {
   "cell_type": "code",
   "execution_count": 26,
   "id": "77457538",
   "metadata": {},
   "outputs": [
    {
     "name": "stdout",
     "output_type": "stream",
     "text": [
      "      eventId                     geometry\n",
      "0  5087759453   POINT (116.78784 -20.5852)\n",
      "1  5104528592  POINT (122.58064 -22.84324)\n",
      "2  4510177813  POINT (136.16334 -32.52494)\n",
      "3  4512283168  POINT (136.87433 -30.39748)\n",
      "4  4516234716  POINT (135.99352 -32.26888)\n"
     ]
    }
   ],
   "source": [
    "# Convert to GeoDataFrame in one go using from_xy\n",
    "#\n",
    "gdf_pea = gpd.GeoDataFrame(data=desert_pea[\"eventId\"],\n",
    "                           geometry=gpd.points_from_xy(x=desert_pea[\"decimalLongitude\"],\n",
    "                                                       y=desert_pea[\"decimalLatitude\"],\n",
    "                                                       crs=4326))\n",
    "\n",
    "# Look at it!\n",
    "print(gdf_pea.head())"
   ]
  },
  {
   "cell_type": "code",
   "execution_count": 27,
   "id": "dc4a59d8",
   "metadata": {},
   "outputs": [
    {
     "name": "stdout",
     "output_type": "stream",
     "text": [
      "EPSG:7844\n"
     ]
    }
   ],
   "source": [
    "# Now convert it to the same CRS as that of the Australian digital boundaries data\n",
    "gdf_pea.to_crs(crs=7844, inplace=True)\n",
    "\n",
    "# Check that it has been correctly changed\n",
    "print(gdf_pea.crs)"
   ]
  },
  {
   "cell_type": "code",
   "execution_count": 28,
   "id": "d973d2df",
   "metadata": {},
   "outputs": [
    {
     "name": "stdout",
     "output_type": "stream",
     "text": [
      "        eventId                     geometry  index_right STE_CODE21  \\\n",
      "0    5087759453   POINT (116.78784 -20.5852)          4.0          5   \n",
      "1    5104528592  POINT (122.58064 -22.84324)          4.0          5   \n",
      "2    4510177813  POINT (136.16334 -32.52494)          3.0          4   \n",
      "3    4512283168  POINT (136.87433 -30.39748)          3.0          4   \n",
      "4    4516234716  POINT (135.99352 -32.26888)          3.0          4   \n",
      "..          ...                          ...          ...        ...   \n",
      "295  3985803395  POINT (136.88933 -30.57152)          3.0          4   \n",
      "296  3986318782  POINT (136.92632 -30.42622)          3.0          4   \n",
      "297  3985793950  POINT (136.55266 -31.27423)          3.0          4   \n",
      "298  3985875946  POINT (136.86227 -33.25164)          3.0          4   \n",
      "299  3985925954  POINT (136.54971 -31.25694)          3.0          4   \n",
      "\n",
      "            STE_NAME21 CHG_FLAG21  CHG_LBL21 AUS_CODE21 AUS_NAME21  \\\n",
      "0    Western Australia          0  No change        AUS  Australia   \n",
      "1    Western Australia          0  No change        AUS  Australia   \n",
      "2      South Australia          0  No change        AUS  Australia   \n",
      "3      South Australia          0  No change        AUS  Australia   \n",
      "4      South Australia          0  No change        AUS  Australia   \n",
      "..                 ...        ...        ...        ...        ...   \n",
      "295    South Australia          0  No change        AUS  Australia   \n",
      "296    South Australia          0  No change        AUS  Australia   \n",
      "297    South Australia          0  No change        AUS  Australia   \n",
      "298    South Australia          0  No change        AUS  Australia   \n",
      "299    South Australia          0  No change        AUS  Australia   \n",
      "\n",
      "       AREASQKM21                                       LOCI_URI21  \n",
      "0    2.526632e+06  http://linked.data.gov.au/dataset/asgsed3/STE/5  \n",
      "1    2.526632e+06  http://linked.data.gov.au/dataset/asgsed3/STE/5  \n",
      "2    9.842314e+05  http://linked.data.gov.au/dataset/asgsed3/STE/4  \n",
      "3    9.842314e+05  http://linked.data.gov.au/dataset/asgsed3/STE/4  \n",
      "4    9.842314e+05  http://linked.data.gov.au/dataset/asgsed3/STE/4  \n",
      "..            ...                                              ...  \n",
      "295  9.842314e+05  http://linked.data.gov.au/dataset/asgsed3/STE/4  \n",
      "296  9.842314e+05  http://linked.data.gov.au/dataset/asgsed3/STE/4  \n",
      "297  9.842314e+05  http://linked.data.gov.au/dataset/asgsed3/STE/4  \n",
      "298  9.842314e+05  http://linked.data.gov.au/dataset/asgsed3/STE/4  \n",
      "299  9.842314e+05  http://linked.data.gov.au/dataset/asgsed3/STE/4  \n",
      "\n",
      "[300 rows x 11 columns]\n"
     ]
    }
   ],
   "source": [
    "# Now you can perform spatial joins between `gdf_pea` and `gdf_aus`\n",
    "# For example, join the points with the Australian territories based on location\n",
    "joined_gdf = gpd.sjoin(left_df=gdf_pea, right_df=gdf_aus, how=\"left\", predicate=\"within\")\n",
    "\n",
    "# Display the resulting GeoDataFrame\n",
    "print(joined_gdf)"
   ]
  },
  {
   "cell_type": "code",
   "execution_count": 29,
   "id": "61336d5b",
   "metadata": {},
   "outputs": [
    {
     "name": "stdout",
     "output_type": "stream",
     "text": [
      "Index(['eventId', 'geometry', 'index_right', 'STE_CODE21', 'STE_NAME21',\n",
      "       'CHG_FLAG21', 'CHG_LBL21', 'AUS_CODE21', 'AUS_NAME21', 'AREASQKM21',\n",
      "       'LOCI_URI21'],\n",
      "      dtype='object')\n"
     ]
    }
   ],
   "source": [
    "# Look at the column names \"a la Pandas\"\n",
    "print(joined_gdf.columns)"
   ]
  },
  {
   "cell_type": "code",
   "execution_count": 30,
   "id": "5ac1de68",
   "metadata": {},
   "outputs": [
    {
     "name": "stdout",
     "output_type": "stream",
     "text": [
      "0      4.0\n",
      "1      4.0\n",
      "2      3.0\n",
      "3      3.0\n",
      "4      3.0\n",
      "      ... \n",
      "295    3.0\n",
      "296    3.0\n",
      "297    3.0\n",
      "298    3.0\n",
      "299    3.0\n",
      "Name: index_right, Length: 300, dtype: float64\n",
      "<class 'pandas.core.series.Series'>\n"
     ]
    }
   ],
   "source": [
    "# VERY IMPORTANT COLUMN\n",
    "# INDEX_RIGHT\n",
    "# The ever important \"index_right\" column gives you\n",
    "# the index of the right geometries based on the predicate\n",
    "# you mentionned\n",
    "\n",
    "print(joined_gdf.index_right)\n",
    "print(type(joined_gdf.index_right))"
   ]
  },
  {
   "cell_type": "code",
   "execution_count": 31,
   "id": "d135b7a5",
   "metadata": {},
   "outputs": [
    {
     "name": "stdout",
     "output_type": "stream",
     "text": [
      "index_right\n",
      "4.0    106\n",
      "3.0     94\n",
      "0.0     74\n",
      "6.0     24\n",
      "Name: count, dtype: int64\n",
      "298\n"
     ]
    }
   ],
   "source": [
    "# The ever important \"index_right\" column gives you\n",
    "# the index of the right geometries based on the predicate\n",
    "# you mentionned\n",
    "print(joined_gdf.index_right.value_counts())\n",
    "#\n",
    "print(joined_gdf.index_right.value_counts().sum())\n",
    "\n",
    "# We lost two along the way... (more later)"
   ]
  },
  {
   "cell_type": "code",
   "execution_count": null,
   "id": "540a3b04",
   "metadata": {},
   "outputs": [],
   "source": [
    "#  Create a map\n",
    "# Use gdf_aus.explore() as a base\n",
    "mapy = gdf_aus.explore()\n",
    "\n",
    "#for idx, point in joined_gdf.iterrows():\n",
    "for _, point in joined_gdf.iterrows():\n",
    "    folium.Marker(\n",
    "        location=[point.geometry.y, point.geometry.x],\n",
    "        # For extra coolness, put the name of the variable in bold HTML tags\n",
    "        popup=f\"<b>eventId</b>: {point.eventId}\",\n",
    "        icon=folium.Icon(color=\"green\", prefix=\"fa\", icon=\"seedling\"),\n",
    "#        tooltip=f\"<b>eventId</b>: {point.eventId}\"\n",
    "    ).add_to(mapy)\n",
    "\n",
    "# Display the map\n",
    "mapy"
   ]
  },
  {
   "cell_type": "code",
   "execution_count": 34,
   "id": "e13e6397",
   "metadata": {},
   "outputs": [
    {
     "name": "stdout",
     "output_type": "stream",
     "text": [
      "        eventId                     geometry  index_right STE_CODE21  \\\n",
      "147  4413908515  POINT (118.63845 -20.30648)          NaN        NaN   \n",
      "284  3947437828   POINT (116.59086 -20.4657)          NaN        NaN   \n",
      "\n",
      "    STE_NAME21 CHG_FLAG21 CHG_LBL21 AUS_CODE21 AUS_NAME21  AREASQKM21  \\\n",
      "147        NaN        NaN       NaN        NaN        NaN         NaN   \n",
      "284        NaN        NaN       NaN        NaN        NaN         NaN   \n",
      "\n",
      "    LOCI_URI21  \n",
      "147        NaN  \n",
      "284        NaN  \n"
     ]
    }
   ],
   "source": [
    "# See which points did not make the cut and why\n",
    "sad_points = joined_gdf[joined_gdf[\"index_right\"].isna()]\n",
    "\n",
    "# Which ones?\n",
    "print(sad_points)"
   ]
  },
  {
   "cell_type": "code",
   "execution_count": null,
   "id": "fb36b21d",
   "metadata": {},
   "outputs": [],
   "source": [
    "# Create another map\n",
    "mapo = gdf_aus.explore()\n",
    "\n",
    "#for idx, point in sad_points.iterrows():\n",
    "for _, point in sad_points.iterrows():\n",
    "    folium.Marker(\n",
    "        location=[point.geometry.y, point.geometry.x],\n",
    "        # For extra coolness, put the name of the variable in bold HTML tags\n",
    "        popup=f\"<b>eventId</b>: {point.eventId}\",\n",
    "        icon=folium.Icon(color=\"red\", prefix=\"fa\", icon=\"plant-wilt\")\n",
    "    ).add_to(mapo)\n",
    "\n",
    "# Display the map\n",
    "mapo"
   ]
  },
  {
   "cell_type": "code",
   "execution_count": 36,
   "id": "54de9dc0",
   "metadata": {},
   "outputs": [
    {
     "name": "stdout",
     "output_type": "stream",
     "text": [
      "\n",
      "Unsorted values:\n",
      "STE_NAME21\n",
      "New South Wales        74\n",
      "Northern Territory     24\n",
      "South Australia        94\n",
      "Western Australia     106\n",
      "dtype: int64\n",
      "\n",
      "Sorted values:\n",
      "STE_NAME21\n",
      "Western Australia     106\n",
      "South Australia        94\n",
      "New South Wales        74\n",
      "Northern Territory     24\n",
      "dtype: int64\n"
     ]
    }
   ],
   "source": [
    "# Use the previously seen Pandas DataFrame .groupby() method to determine\n",
    "# in which territory the observations fall\n",
    "territory_counts = joined_gdf.groupby(\"STE_NAME21\").size()\n",
    "\n",
    "# Step 5: Print the counts of observations per territory\n",
    "print(\"\\nUnsorted values:\")\n",
    "print(territory_counts)\n",
    "\n",
    "# Note: You could also sort the counts in descending order\n",
    "print(\"\\nSorted values:\")\n",
    "print(territory_counts.sort_values(ascending=False))"
   ]
  },
  {
   "cell_type": "markdown",
   "id": "a908c5a9",
   "metadata": {},
   "source": [
    "# Case 2: Dugongs"
   ]
  },
  {
   "cell_type": "code",
   "execution_count": 60,
   "id": "2b9eaae3",
   "metadata": {},
   "outputs": [],
   "source": [
    "# This time quick\n",
    "df_dugong = pd.read_csv(filepath_or_buffer=\"../data/sea_cow.csv\")\n",
    "gdf_dugong = gpd.GeoDataFrame(data=df_dugong[\"eventId\"], geometry=gpd.points_from_xy(df_dugong[\"decimalLongitude\"], df_dugong[\"decimalLatitude\"], crs=4326))\n",
    "\n",
    "# Get also Australian marine parks\n",
    "gdf_marineparks = gpd.read_file(filename=\"https://hub.arcgis.com/api/v3/datasets/2b3eb1d42b8d4319900cf4777f0a83b9_0/downloads/data?format=shp&spatialRefId=4283&where=1%3D1\")\n",
    "\n",
    "# Web landing page:\n",
    "# https://fed.dcceew.gov.au/datasets/erin::australian-marine-parks/about"
   ]
  },
  {
   "cell_type": "code",
   "execution_count": 61,
   "id": "82432df2",
   "metadata": {},
   "outputs": [
    {
     "name": "stdout",
     "output_type": "stream",
     "text": [
      "Dugong sightings CRS: EPSG:4326\n",
      "\n",
      "Australian marine parks CRS: EPSG:4283\n"
     ]
    }
   ],
   "source": [
    "# Safety check: verify both CRS (you set the first one though...)\n",
    "print(\"Dugong sightings CRS:\", gdf_dugong.crs)\n",
    "#\n",
    "print(\"\\nAustralian marine parks CRS:\", gdf_marineparks.crs)"
   ]
  },
  {
   "cell_type": "code",
   "execution_count": 62,
   "id": "3bb2563d",
   "metadata": {},
   "outputs": [
    {
     "name": "stdout",
     "output_type": "stream",
     "text": [
      "Dugong sightings CRS: EPSG:3577\n",
      "\n",
      "Australian marine parks CRS: EPSG:3577\n"
     ]
    }
   ],
   "source": [
    "# Reproject both GeoDataFrames to the same projected CRS (EPSG:3577)\n",
    "gdf_dugong.to_crs(epsg=3577, inplace=True)\n",
    "gdf_marineparks.to_crs(epsg=3577, inplace=True)\n",
    "\n",
    "# Safety check:\n",
    "print(\"Dugong sightings CRS:\", gdf_dugong.crs)\n",
    "#\n",
    "print(\"\\nAustralian marine parks CRS:\", gdf_marineparks.crs)"
   ]
  },
  {
   "cell_type": "code",
   "execution_count": 56,
   "id": "d05157c9",
   "metadata": {},
   "outputs": [
    {
     "data": {
      "text/plain": [
       "[Axis(name=Easting, abbrev=E, direction=east, unit_auth_code=EPSG, unit_code=9001, unit_name=metre),\n",
       " Axis(name=Northing, abbrev=N, direction=north, unit_auth_code=EPSG, unit_code=9001, unit_name=metre)]"
      ]
     },
     "execution_count": 56,
     "metadata": {},
     "output_type": "execute_result"
    }
   ],
   "source": [
    "# STOOOOOOOOOP!\n",
    "# Check the units of the CRS\n",
    "pyproj.CRS.from_string(\"EPSG:3577\").axis_info\n",
    "# Proceed"
   ]
  },
  {
   "cell_type": "code",
   "execution_count": 63,
   "id": "ee6cdabc",
   "metadata": {},
   "outputs": [
    {
     "data": {
      "text/html": [
       "<div>\n",
       "<style scoped>\n",
       "    .dataframe tbody tr th:only-of-type {\n",
       "        vertical-align: middle;\n",
       "    }\n",
       "\n",
       "    .dataframe tbody tr th {\n",
       "        vertical-align: top;\n",
       "    }\n",
       "\n",
       "    .dataframe thead th {\n",
       "        text-align: right;\n",
       "    }\n",
       "</style>\n",
       "<table border=\"1\" class=\"dataframe\">\n",
       "  <thead>\n",
       "    <tr style=\"text-align: right;\">\n",
       "      <th></th>\n",
       "      <th>OBJECTID</th>\n",
       "      <th>NETNAME</th>\n",
       "      <th>RESNAME</th>\n",
       "      <th>ZONENAME</th>\n",
       "      <th>ZONEIUCN</th>\n",
       "      <th>POLYGONID</th>\n",
       "      <th>NATLEGEND</th>\n",
       "      <th>AREA_KM2</th>\n",
       "      <th>SHAPEAREA</th>\n",
       "      <th>SHAPELEN</th>\n",
       "      <th>geometry</th>\n",
       "    </tr>\n",
       "  </thead>\n",
       "  <tbody>\n",
       "    <tr>\n",
       "      <th>0</th>\n",
       "      <td>1</td>\n",
       "      <td>South-west</td>\n",
       "      <td>South-west Corner</td>\n",
       "      <td>Special Purpose Zone (Mining Exclusion)</td>\n",
       "      <td>VI</td>\n",
       "      <td>swswcspm03</td>\n",
       "      <td>Special Purpose Zone (Mining Exclusion) (IUCN VI)</td>\n",
       "      <td>5897.166603</td>\n",
       "      <td>0.574243</td>\n",
       "      <td>3.845637</td>\n",
       "      <td>POLYGON ((-1616240.278 -3726962.412, -1614840....</td>\n",
       "    </tr>\n",
       "    <tr>\n",
       "      <th>1</th>\n",
       "      <td>2</td>\n",
       "      <td>South-west</td>\n",
       "      <td>Southern Kangaroo Island</td>\n",
       "      <td>Special Purpose Zone (Mining Exclusion)</td>\n",
       "      <td>VI</td>\n",
       "      <td>swskispm01</td>\n",
       "      <td>Special Purpose Zone (Mining Exclusion) (IUCN VI)</td>\n",
       "      <td>629.938756</td>\n",
       "      <td>0.063069</td>\n",
       "      <td>1.749836</td>\n",
       "      <td>POLYGON ((483704.268 -3908783.148, 486016.344 ...</td>\n",
       "    </tr>\n",
       "    <tr>\n",
       "      <th>2</th>\n",
       "      <td>3</td>\n",
       "      <td>Temperate East</td>\n",
       "      <td>Lord Howe</td>\n",
       "      <td>National Park Zone</td>\n",
       "      <td>II</td>\n",
       "      <td>telhinpz06</td>\n",
       "      <td>National Park Zone (IUCN II)</td>\n",
       "      <td>6302.226441</td>\n",
       "      <td>0.601856</td>\n",
       "      <td>3.360809</td>\n",
       "      <td>POLYGON ((2547264.478 -3696281.302, 2550631.98...</td>\n",
       "    </tr>\n",
       "    <tr>\n",
       "      <th>3</th>\n",
       "      <td>4</td>\n",
       "      <td>Temperate East</td>\n",
       "      <td>Lord Howe</td>\n",
       "      <td>National Park Zone</td>\n",
       "      <td>II</td>\n",
       "      <td>telhinpz05</td>\n",
       "      <td>National Park Zone (IUCN II)</td>\n",
       "      <td>203.064013</td>\n",
       "      <td>0.019288</td>\n",
       "      <td>0.670249</td>\n",
       "      <td>POLYGON ((2495939.867 -3700975.953, 2496208.50...</td>\n",
       "    </tr>\n",
       "    <tr>\n",
       "      <th>4</th>\n",
       "      <td>5</td>\n",
       "      <td>Temperate East</td>\n",
       "      <td>Lord Howe</td>\n",
       "      <td>National Park Zone</td>\n",
       "      <td>II</td>\n",
       "      <td>telhinpz02</td>\n",
       "      <td>National Park Zone (IUCN II)</td>\n",
       "      <td>2767.488053</td>\n",
       "      <td>0.257778</td>\n",
       "      <td>2.033333</td>\n",
       "      <td>POLYGON ((2636033.534 -3538313.004, 2635010.92...</td>\n",
       "    </tr>\n",
       "  </tbody>\n",
       "</table>\n",
       "</div>"
      ],
      "text/plain": [
       "   OBJECTID         NETNAME                   RESNAME  \\\n",
       "0         1      South-west         South-west Corner   \n",
       "1         2      South-west  Southern Kangaroo Island   \n",
       "2         3  Temperate East                 Lord Howe   \n",
       "3         4  Temperate East                 Lord Howe   \n",
       "4         5  Temperate East                 Lord Howe   \n",
       "\n",
       "                                  ZONENAME ZONEIUCN   POLYGONID  \\\n",
       "0  Special Purpose Zone (Mining Exclusion)       VI  swswcspm03   \n",
       "1  Special Purpose Zone (Mining Exclusion)       VI  swskispm01   \n",
       "2                       National Park Zone       II  telhinpz06   \n",
       "3                       National Park Zone       II  telhinpz05   \n",
       "4                       National Park Zone       II  telhinpz02   \n",
       "\n",
       "                                           NATLEGEND     AREA_KM2  SHAPEAREA  \\\n",
       "0  Special Purpose Zone (Mining Exclusion) (IUCN VI)  5897.166603   0.574243   \n",
       "1  Special Purpose Zone (Mining Exclusion) (IUCN VI)   629.938756   0.063069   \n",
       "2                       National Park Zone (IUCN II)  6302.226441   0.601856   \n",
       "3                       National Park Zone (IUCN II)   203.064013   0.019288   \n",
       "4                       National Park Zone (IUCN II)  2767.488053   0.257778   \n",
       "\n",
       "   SHAPELEN                                           geometry  \n",
       "0  3.845637  POLYGON ((-1616240.278 -3726962.412, -1614840....  \n",
       "1  1.749836  POLYGON ((483704.268 -3908783.148, 486016.344 ...  \n",
       "2  3.360809  POLYGON ((2547264.478 -3696281.302, 2550631.98...  \n",
       "3  0.670249  POLYGON ((2495939.867 -3700975.953, 2496208.50...  \n",
       "4  2.033333  POLYGON ((2636033.534 -3538313.004, 2635010.92...  "
      ]
     },
     "execution_count": 63,
     "metadata": {},
     "output_type": "execute_result"
    }
   ],
   "source": [
    "# Create a buffer around the marine park.\n",
    "# For example, 40 km buffer, seems like a reasonable dugong-ish area (verify)\n",
    "gdf_mpbuff = gpd.GeoDataFrame(data=gdf_marineparks,\n",
    "                              geometry=gdf_marineparks.buffer(distance=40000),\n",
    "                              crs=3577)\n",
    "\n",
    "# Have a look at the data\n",
    "gdf_mpbuff.head()"
   ]
  },
  {
   "cell_type": "code",
   "execution_count": null,
   "id": "64aaf362",
   "metadata": {},
   "outputs": [],
   "source": [
    "# Have a look at the data\n",
    "gdf_mpbuff.explore()"
   ]
  },
  {
   "cell_type": "code",
   "execution_count": 64,
   "id": "f61bcc00",
   "metadata": {},
   "outputs": [
    {
     "name": "stdout",
     "output_type": "stream",
     "text": [
      "(309, 13)\n"
     ]
    }
   ],
   "source": [
    "# Perform a spatial join to find dugong sightings within the buffer\n",
    "join_dugong = gpd.sjoin(left_df=gdf_dugong,\n",
    "                        right_df=gdf_mpbuff,\n",
    "                        how=\"left\",\n",
    "                        predicate=\"within\")\n",
    "\n",
    "# Look at the dimensions of the joined DataFrame\n",
    "# NONONONO\n",
    "print(join_dugong.shape)"
   ]
  },
  {
   "cell_type": "code",
   "execution_count": 65,
   "id": "c6ee0b73",
   "metadata": {},
   "outputs": [
    {
     "data": {
      "text/plain": [
       "eventId\n",
       "4138745637    4\n",
       "4405405111    3\n",
       "4405391134    3\n",
       "4954727789    2\n",
       "3391347177    2\n",
       "             ..\n",
       "4155461500    1\n",
       "4155552348    1\n",
       "4155568245    1\n",
       "4155457594    1\n",
       "4155570396    1\n",
       "Name: count, Length: 164, dtype: int64"
      ]
     },
     "execution_count": 65,
     "metadata": {},
     "output_type": "execute_result"
    }
   ],
   "source": [
    "# Be careful!\n",
    "# Joins are done per cominations!!!!\n",
    "join_dugong.dropna(subset=\"index_right\")[\"eventId\"].value_counts()\n",
    "\n",
    "# Here, some 1s are actual 1s"
   ]
  },
  {
   "cell_type": "code",
   "execution_count": null,
   "id": "668d96b2",
   "metadata": {},
   "outputs": [],
   "source": [
    "# Extract happy dugongs and sad dugongs\n",
    "happy_dugongs = join_dugong.dropna(subset=[\"index_right\"]).copy()\n",
    "\n",
    "# Avoid getting duplicate eventId values with .drop_duplicates()\n",
    "# This is just for a map\n",
    "happy_dugongs.drop_duplicates(subset=\"eventId\", keep=\"first\")\n",
    "happy_dugongs.to_crs(4326, inplace=True)\n",
    "#\n",
    "sad_dugongs = join_dugong[join_dugong[\"index_right\"].isna()].copy()\n",
    "sad_dugongs.to_crs(4326, inplace=True)\n",
    "\n",
    "# Map them both on the same map\n",
    "mapa = gdf_mpbuff.explore()\n",
    "\n",
    "for _, point in happy_dugongs.iterrows():\n",
    "    folium.Marker(\n",
    "        location=[point.geometry.y, point.geometry.x],\n",
    "        popup=f\"<b>eventId</b>: {point.eventId}\",\n",
    "        icon=folium.Icon(color=\"green\", prefix=\"fa\", icon=\"hippo\")\n",
    "    ).add_to(mapa)\n",
    "\n",
    "for _, point in sad_dugongs.iterrows():\n",
    "    folium.Marker(\n",
    "        location=[point.geometry.y, point.geometry.x],\n",
    "        popup=f\"<b>eventId</b>: {point.eventId}\",\n",
    "        icon=folium.Icon(color=\"red\", prefix=\"fa\", icon=\"hippo\")\n",
    "    ).add_to(mapa)\n",
    "\n",
    "# Display the map\n",
    "mapa"
   ]
  },
  {
   "cell_type": "code",
   "execution_count": 72,
   "id": "ff25291b",
   "metadata": {},
   "outputs": [
    {
     "data": {
      "text/plain": [
       "ZONEIUCN  ZONENAME                    \n",
       "II        National Park Zone                3\n",
       "IV        Habitat Protection Zone         150\n",
       "          Recreational Use Zone             5\n",
       "VI        Multiple Use Zone                13\n",
       "          Special Purpose Zone              1\n",
       "          Special Purpose Zone (Trawl)      1\n",
       "dtype: int64"
      ]
     },
     "execution_count": 72,
     "metadata": {},
     "output_type": "execute_result"
    }
   ],
   "source": [
    "join_dugong.dropna(subset=\"index_right\").groupby(by=[\"ZONEIUCN\", \"ZONENAME\"]).size()"
   ]
  }
 ],
 "metadata": {
  "kernelspec": {
   "display_name": ".venv",
   "language": "python",
   "name": "python3"
  },
  "language_info": {
   "codemirror_mode": {
    "name": "ipython",
    "version": 3
   },
   "file_extension": ".py",
   "mimetype": "text/x-python",
   "name": "python",
   "nbconvert_exporter": "python",
   "pygments_lexer": "ipython3",
   "version": "3.13.3"
  }
 },
 "nbformat": 4,
 "nbformat_minor": 5
}
