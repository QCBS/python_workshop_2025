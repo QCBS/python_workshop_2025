{
 "cells": [
  {
   "cell_type": "markdown",
   "id": "567a803a",
   "metadata": {},
   "source": [
    "# Python workshop - 2025\n",
    "\n",
    "<div>\n",
    "    <img src=\"../images/qcbs_logo_v2.svg\" style=\"background-color: #f0f0f0; padding: 20px;\"/>\n",
    "</div>\n",
    "\n",
    "<div>\n",
    "    <img src=\"../images/python_logo_generic.svg\" style=\"background-color: #f0f0f0; padding: 20px;\"/>\n",
    "</div>\n",
    "\n",
    "**Last update**: 2025-05-19  \n",
    "**Author**: El-Amine Mimouni  \n",
    "**Affiliation**: Québec Centre for Biodiversity Science\n",
    "\n",
    "**Overview**: In this notebook, we will see how to use Pandas.\n",
    "\n",
    "---\n",
    "\n",
    "# Pandas\n",
    "\n",
    "Pandas stands for Panel Data (so not the animal 🐼). It is a more upgrade of NumPy.\n",
    "\n",
    "If you want to learn more about it, visit [https://pandas.pydata.org/](https://pandas.pydata.org/)."
   ]
  },
  {
   "cell_type": "code",
   "execution_count": null,
   "id": "e4d785d6",
   "metadata": {},
   "outputs": [],
   "source": [
    "# Import dependencies\n",
    "import pandas as pd"
   ]
  },
  {
   "cell_type": "markdown",
   "id": "e5dedab4",
   "metadata": {},
   "source": [
    "# Creating a pandas dataframe"
   ]
  },
  {
   "cell_type": "code",
   "execution_count": null,
   "id": "2793db08",
   "metadata": {},
   "outputs": [],
   "source": [
    "# Create a Series\n",
    "my_series = pd.Series(data=[10, 20, 30, 40, 180])\n",
    "\n",
    "print(my_series)\n",
    "print(type(my_series))"
   ]
  },
  {
   "cell_type": "code",
   "execution_count": null,
   "id": "993ae7f2",
   "metadata": {},
   "outputs": [],
   "source": [
    "# Create a Series with a factorial variable\n",
    "my_series2 = pd.Series(data=[\"Biscoe\", \"Biscoe\", \"Dream\", \"Dream\", \"Dream\"])\n",
    "\n",
    "print(my_series2)\n",
    "print(type(my_series2))"
   ]
  },
  {
   "cell_type": "code",
   "execution_count": null,
   "id": "aa24cc0d",
   "metadata": {},
   "outputs": [],
   "source": [
    "# Create a small dictionary\n",
    "# You should know by now\n",
    "penguins_dico = {\n",
    "    \"bill_length_mm\": [39.1, 39.5, 40.3],\n",
    "    \"bill_depth_mm\": [18.7, 17.4, 18.0]\n",
    "    }\n",
    "\n",
    "print(penguins_dico)"
   ]
  },
  {
   "cell_type": "code",
   "execution_count": null,
   "id": "7e62fefe",
   "metadata": {},
   "outputs": [],
   "source": [
    "penguins_df = pd.DataFrame(data=penguins_dico)\n",
    "\n",
    "print(type(penguins_df))\n",
    "(penguins_df)"
   ]
  },
  {
   "cell_type": "code",
   "execution_count": null,
   "id": "1cd66eb9",
   "metadata": {},
   "outputs": [],
   "source": [
    "# But look under the hood\n",
    "print(penguins_df.values)\n",
    "print(type(penguins_df.values))"
   ]
  },
  {
   "cell_type": "code",
   "execution_count": null,
   "id": "4231d898",
   "metadata": {},
   "outputs": [],
   "source": [
    "# So you still have access to familiar methods\n",
    "penguins_df.sum(axis=0)"
   ]
  },
  {
   "cell_type": "code",
   "execution_count": null,
   "id": "3e4e9826",
   "metadata": {},
   "outputs": [],
   "source": [
    "# It has additional mathematical methods\n",
    "print(my_series.skew())\n",
    "print(my_series.kurtosis())"
   ]
  },
  {
   "cell_type": "markdown",
   "id": "f690c698",
   "metadata": {},
   "source": [
    "# Better indexing\n",
    "\n",
    "Pandas is more than just sugarcoating NumPy.\n",
    "\n",
    "Location versus integer based indexing.\n",
    "\n",
    "Because Pandas has column indices, it is capable of indexing based on their names."
   ]
  },
  {
   "cell_type": "code",
   "execution_count": null,
   "id": "333a7721",
   "metadata": {},
   "outputs": [],
   "source": [
    "# Read the entire Palmer penguins dataset\n",
    "palmer = pd.read_csv(filepath_or_buffer=\"../data/penguins.csv\")\n",
    "\n",
    "# See it!\n",
    "print(type(palmer))\n",
    "print(type(palmer.values))\n",
    "palmer"
   ]
  },
  {
   "cell_type": "code",
   "execution_count": null,
   "id": "1f520cb3",
   "metadata": {},
   "outputs": [],
   "source": [
    "# Columns are now attributes of the DataFrame\n",
    "# This means that you can select individual columns by their name rather than by their number\n",
    "palmer[[\"island\"]]"
   ]
  },
  {
   "cell_type": "code",
   "execution_count": null,
   "id": "5ca65a18",
   "metadata": {},
   "outputs": [],
   "source": [
    "# If you want to choose several columns, supply them as a list.\n",
    "palmer[[\"island\", \"species\", \"bill_length_mm\"]]"
   ]
  },
  {
   "cell_type": "code",
   "execution_count": null,
   "id": "699c7578",
   "metadata": {},
   "outputs": [],
   "source": [
    "# Again the most general indexing method is:\n",
    "palmer.loc[:, :]\n",
    "\n",
    "# So that your previous command was:\n",
    "palmer.loc[:, [\"island\", \"species\", \"bill_length_mm\"]]"
   ]
  },
  {
   "cell_type": "code",
   "execution_count": null,
   "id": "b929a437",
   "metadata": {},
   "outputs": [],
   "source": [
    "# In addition, you can also create boolean indices\n",
    "palmer[[\"species\"]] == \"Adelie\""
   ]
  },
  {
   "cell_type": "code",
   "execution_count": null,
   "id": "30fc486c",
   "metadata": {},
   "outputs": [],
   "source": [
    "# You can use this boolean filter for row indexing\n",
    "palmer.loc[palmer[\"island\"] == \"Dream\", [\"island\", \"species\", \"bill_length_mm\"]]"
   ]
  },
  {
   "cell_type": "code",
   "execution_count": null,
   "id": "829df949",
   "metadata": {},
   "outputs": [],
   "source": [
    "# Again, several boolean filters can be chosen\n",
    "# Note the parentheses\n",
    "palmer.loc[(palmer[\"island\"] == \"Dream\") & (palmer[\"species\"] == \"Adelie\"), [\"island\", \"species\", \"bill_length_mm\"]]"
   ]
  },
  {
   "cell_type": "markdown",
   "id": "5ba7dd5e",
   "metadata": {},
   "source": [
    "# IMPORTANT\n",
    "ESPECIALLY FOR NEWCOMERS"
   ]
  },
  {
   "cell_type": "code",
   "execution_count": null,
   "id": "218dd928",
   "metadata": {},
   "outputs": [],
   "source": [
    "# In Pandas, the .loc[] method selects based on its filter\n",
    "# so that\n",
    "palmer.loc[0:10, :]\n",
    "\n",
    "# Will return all observations from 0:10 INCLUDED!!!\n",
    "# Which is not what you saw in Python lists or NumPy arrays"
   ]
  },
  {
   "cell_type": "code",
   "execution_count": null,
   "id": "06f95e9a",
   "metadata": {},
   "outputs": [],
   "source": [
    "# In Pandas, the .loc[] method selects based on its filter\n",
    "# Either way, it is unsuited for integer location based selection\n",
    "# for columns\n",
    "\n",
    "# The following code will give you an error\n",
    "#palmer.loc[0:10, 0:3]"
   ]
  },
  {
   "cell_type": "code",
   "execution_count": null,
   "id": "d78c4eda",
   "metadata": {},
   "outputs": [],
   "source": [
    "# If you need integer location subsetting, the .iloc[] method\n",
    "# can be used.\n",
    "# It behaves like we saw for Python lists and NumPy arrays.\n",
    "\n",
    "# The following code will NOT give you an error\n",
    "palmer.iloc[0:10, 0:3]"
   ]
  },
  {
   "cell_type": "markdown",
   "id": "c9af5a70",
   "metadata": {},
   "source": [
    "# Quick summaries"
   ]
  },
  {
   "cell_type": "code",
   "execution_count": null,
   "id": "e3c92b77",
   "metadata": {},
   "outputs": [],
   "source": [
    "# You can also get quick summaries of variables\n",
    "palmer.describe(include=\"number\")"
   ]
  },
  {
   "cell_type": "code",
   "execution_count": null,
   "id": "2369e5a2",
   "metadata": {},
   "outputs": [],
   "source": [
    "# If you want to save this table (or any other for\n",
    "# that matter), you can use the .to_csv() method.\n",
    "\n",
    "# Save the .describe() method table, then save it\n",
    "# to a .csv table.\n",
    "summary_tab = palmer.describe(include=\"number\")\n",
    "summary_tab.to_csv(path_or_buf=\"../data/penguins_summary.csv\", sep=\",\")"
   ]
  },
  {
   "cell_type": "code",
   "execution_count": null,
   "id": "4aba631e",
   "metadata": {},
   "outputs": [],
   "source": [
    "# Qualitative variables use the argument \"object\"\n",
    "palmer.describe(include=\"object\")"
   ]
  },
  {
   "cell_type": "markdown",
   "id": "efc60966",
   "metadata": {},
   "source": [
    "# Data cleaning\n",
    "\n",
    "Data cleaning is efficient, you can remove NaN values easily and precisely."
   ]
  },
  {
   "cell_type": "code",
   "execution_count": null,
   "id": "6c14d180",
   "metadata": {},
   "outputs": [],
   "source": [
    "palmer.head()"
   ]
  },
  {
   "cell_type": "code",
   "execution_count": null,
   "id": "49755224",
   "metadata": {},
   "outputs": [],
   "source": [
    "palmer.dropna(inplace=False).head()"
   ]
  },
  {
   "cell_type": "code",
   "execution_count": null,
   "id": "8649a9be",
   "metadata": {},
   "outputs": [],
   "source": [
    "# Removing NaN on only a particular variable\n",
    "# .dropna() removes values that are \n",
    "palmer_piece = palmer.loc[267:272, :].copy()\n",
    "#\n",
    "palmer_piece"
   ]
  },
  {
   "cell_type": "code",
   "execution_count": null,
   "id": "8b688a81",
   "metadata": {},
   "outputs": [],
   "source": [
    "# If you use .dropna(), you will remove both rows 268 and 271\n",
    "#\n",
    "palmer_piece.dropna()"
   ]
  },
  {
   "cell_type": "code",
   "execution_count": null,
   "id": "34defcf4",
   "metadata": {},
   "outputs": [],
   "source": [
    "# But you can specify on which columns you want to drop rows if they contain NaN values\n",
    "#\n",
    "palmer_piece.dropna(subset=[\"bill_depth_mm\"])"
   ]
  },
  {
   "cell_type": "markdown",
   "id": "c2adb822",
   "metadata": {},
   "source": [
    "# Constructing new variables"
   ]
  },
  {
   "cell_type": "code",
   "execution_count": null,
   "id": "5f3a913c",
   "metadata": {},
   "outputs": [],
   "source": [
    "#  You can build new variables\n",
    "print(palmer[\"bill_length_mm\"] / palmer[\"bill_depth_mm\"])\n",
    "\n",
    "# Adding a column is done simply by \n",
    "palmer[\"bill_ratio\"] = palmer[\"bill_length_mm\"] / palmer[\"bill_depth_mm\"]"
   ]
  },
  {
   "cell_type": "code",
   "execution_count": null,
   "id": "ea9f71d4",
   "metadata": {},
   "outputs": [],
   "source": [
    "# You can check to make sure it is there.\n",
    "print(palmer.columns)"
   ]
  },
  {
   "cell_type": "markdown",
   "id": "ee9791fd",
   "metadata": {},
   "source": [
    "# Summarizing variables using .groupby"
   ]
  },
  {
   "cell_type": "code",
   "execution_count": null,
   "id": "b97b670d",
   "metadata": {},
   "outputs": [],
   "source": [
    "# You can use the .groupby() method to group dataframes by a qualitative variable\n",
    "print(palmer.groupby(by=\"island\"))\n",
    "print(type(palmer.groupby(by=\"island\")))"
   ]
  },
  {
   "cell_type": "code",
   "execution_count": null,
   "id": "39909889",
   "metadata": {},
   "outputs": [],
   "source": [
    "# You can get the function you want by using it as a method afterwards\n",
    "# .count()\n",
    "# .mean()\n",
    "# .min()\n",
    "# .max()\n",
    "print(\"Average penguin bill length by island\")\n",
    "palmer.groupby(by=\"island\").count()"
   ]
  },
  {
   "cell_type": "code",
   "execution_count": null,
   "id": "00e651e3",
   "metadata": {},
   "outputs": [],
   "source": [
    "# The following code will fail, but look at the output to\n",
    "# understand\n",
    "#\n",
    "# You want to change the aggregate function\n",
    "print(\"Average penguin bill length by island\")\n",
    "#palmer.groupby(by=\"island\").mean()"
   ]
  },
  {
   "cell_type": "code",
   "execution_count": null,
   "id": "eb78c6f4",
   "metadata": {},
   "outputs": [],
   "source": [
    "# You can consider a single variable by appending it at the end\n",
    "print(\"Average penguin bill length by island\")\n",
    "palmer.groupby(by=\"island\")[[\"bill_length_mm\"]].mean()"
   ]
  },
  {
   "cell_type": "code",
   "execution_count": null,
   "id": "e5f68936",
   "metadata": {},
   "outputs": [],
   "source": [
    "# You can submit more than one variable in the \"by\" parameter\n",
    "# These are considered in succession\n",
    "print(\"Average penguin bill length by island, then by species:\")\n",
    "palmer.groupby(by=[\"island\", \"species\"])[[\"bill_length_mm\"]].mean()"
   ]
  },
  {
   "cell_type": "code",
   "execution_count": null,
   "id": "0a97f8f3",
   "metadata": {},
   "outputs": [],
   "source": [
    "# More than one variable can be submitted, in which case they must be a list\n",
    "# You can submit more than one variable in the \"by\" parameter\n",
    "# These are considered in succession\n",
    "print(\"Average penguin bill length and depth by island, then by species:\")\n",
    "palmer.groupby(by=[\"island\", \"species\"])[[\"bill_length_mm\", \"bill_depth_mm\"]].mean()"
   ]
  },
  {
   "cell_type": "code",
   "execution_count": null,
   "id": "d30c2eff",
   "metadata": {},
   "outputs": [],
   "source": [
    "# You can even go full complexity by aggregating multiple variables\n",
    "\n",
    "# More than one variable can be submitted, in which case they must be a list\n",
    "# You can submit more than one variable in the \"by\" parameter\n",
    "# These are considered in succession\n",
    "print(\"Average penguin bill length and depth by island, then by species:\")\n",
    "palmer.groupby(by=[\"island\", \"species\"])[[\"bill_length_mm\", \"bill_depth_mm\"]].agg([\"min\", \"max\"])"
   ]
  },
  {
   "cell_type": "markdown",
   "id": "9bdef1ab",
   "metadata": {},
   "source": [
    "# Pivot, stack et al."
   ]
  },
  {
   "cell_type": "code",
   "execution_count": null,
   "id": "c4216c30",
   "metadata": {},
   "outputs": [],
   "source": [
    "# You can submit more than one variable in the \"by\" parameter\n",
    "# These are considered in succession\n",
    "toto = (palmer.groupby(by=[\"island\", \"species\"])[\"bill_length_mm\"].mean())\n",
    "\n",
    "print(\"Average penguin bill length by island, then by species\")\n",
    "print(toto)"
   ]
  },
  {
   "cell_type": "code",
   "execution_count": null,
   "id": "5c0fb20a",
   "metadata": {},
   "outputs": [],
   "source": [
    "# Unstack\n",
    "print(toto.unstack())"
   ]
  }
 ],
 "metadata": {
  "kernelspec": {
   "display_name": ".venv",
   "language": "python",
   "name": "python3"
  },
  "language_info": {
   "codemirror_mode": {
    "name": "ipython",
    "version": 3
   },
   "file_extension": ".py",
   "mimetype": "text/x-python",
   "name": "python",
   "nbconvert_exporter": "python",
   "pygments_lexer": "ipython3",
   "version": "3.13.3"
  }
 },
 "nbformat": 4,
 "nbformat_minor": 5
}
