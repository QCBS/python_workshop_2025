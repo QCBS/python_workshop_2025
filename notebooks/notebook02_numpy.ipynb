{
 "cells": [
  {
   "cell_type": "markdown",
   "id": "a1b5983e",
   "metadata": {},
   "source": [
    "# Python workshop - 2025\n",
    "\n",
    "<div>\n",
    "    <img src=\"../images/qcbs_logo_v2.svg\" style=\"background-color: #f0f0f0; padding: 20px;\"/>\n",
    "</div>\n",
    "\n",
    "<div>\n",
    "    <img src=\"../images/python_logo_generic.svg\" style=\"background-color: #f0f0f0; padding: 20px;\"/>\n",
    "</div>\n",
    "\n",
    "**Last update**: 2025-05-19  \n",
    "**Author**: El-Amine Mimouni  \n",
    "**Affiliation**: Québec Centre for Biodiversity Science\n",
    "\n",
    "**Overview**: In this notebook, we will see how to work with NumPy arrays.\n",
    "\n",
    "---\n",
    "\n",
    "# NumPy\n",
    "\n",
    "NumPy (Numerical Python) is the core library for numerical and scientific computing in Python. It is the main computational workhorse behind much of the compuations that are done in Python. It provides powerful support for multi-dimensional arrays and a wide range of mathematical operations.\n",
    "\n",
    "If you want to learn more about it, visit [https://numpy.org/](https://numpy.org/)."
   ]
  },
  {
   "cell_type": "code",
   "execution_count": null,
   "id": "430730d0",
   "metadata": {},
   "outputs": [],
   "source": [
    "# Import numpy\n",
    "import numpy as np"
   ]
  },
  {
   "cell_type": "markdown",
   "id": "a960ad92",
   "metadata": {},
   "source": [
    "# Creating Arrays\n",
    "\n",
    "A NumPy array is similar to a mathematical vector or a matrix. It provides a powerful way to work with numerical data in Python. NumPy arrays are highly efficient for performing mathematical operations and offer more flexibility compared to regular Python lists. Arrays in NumPy can be constructed in many ways."
   ]
  },
  {
   "cell_type": "code",
   "execution_count": null,
   "id": "f67d8e05",
   "metadata": {},
   "outputs": [],
   "source": [
    "# Create a 1-dimensional array (i.e. a vector)\n",
    "arr_1d = np.array(object=[1, 2, 3, 4, 5])\n",
    "\n",
    "print(\"Value of arr_1d:\", arr_1d)\n",
    "print(\"Type of arr_1d:\", type(arr_1d))\n",
    "\n",
    "# Important attributes\n",
    "print(\"\\nShape of arr_1d:\", arr_1d.shape)\n",
    "print(\"Data type of arr_1d:\", arr_1d.dtype)"
   ]
  },
  {
   "cell_type": "code",
   "execution_count": null,
   "id": "e6101cae",
   "metadata": {},
   "outputs": [],
   "source": [
    "# Create a 2-dimensional array (i.e. a matrix)\n",
    "# Note the fact that you are giving each row as a list in a list [[row1], [row2]].\n",
    "arr_2d = np.array(object=[[1.2, 2.5, 3.1], [4.8, 5.1, 6.5]])\n",
    "\n",
    "print(\"Value of arr_2d:\\n\", arr_2d)\n",
    "print(\"Type of arr_2d:\", type(arr_2d))\n",
    "\n",
    "# Important attributes\n",
    "print(\"\\nShape of arr_2d:\", arr_2d.shape)\n",
    "print(\"Data type of arr_2d:\", arr_2d.dtype)"
   ]
  },
  {
   "cell_type": "code",
   "execution_count": null,
   "id": "4af5788a",
   "metadata": {},
   "outputs": [],
   "source": [
    "# Contrary to lists, NumPy arrays behave correctly with regards to the basic operators.\n",
    "print(\"The result of multiplying every value of arr_1d by 2:\")\n",
    "print(arr_1d * 2)\n",
    "#\n",
    "print(\"\\nThe result of adding 5.8 to every value of arr_2d:\")\n",
    "print(arr_2d + 5.8)"
   ]
  },
  {
   "cell_type": "code",
   "execution_count": null,
   "id": "34c05ccb",
   "metadata": {},
   "outputs": [],
   "source": [
    "# If you have doubts, create the list-equivalent of arr_1d\n",
    "list_1d = [1, 2, 3, 4, 5]\n",
    "#\n",
    "print(\"Values in list_1d:\", list_1d)\n",
    "print(\"Values in arr_1d:\", arr_1d)\n",
    "\n",
    "# Look at how they react with the + operator\n",
    "print(\"\\nlist_1d.__add__:\", list_1d.__add__)\n",
    "print(\"arr_1d.__add__:\", arr_1d.__add__)"
   ]
  },
  {
   "cell_type": "markdown",
   "id": "85e7ff91",
   "metadata": {},
   "source": [
    "# Slicing and accessing elements\n",
    "\n",
    "It is done like with conventional Python lists."
   ]
  },
  {
   "cell_type": "code",
   "execution_count": null,
   "id": "bea07a52",
   "metadata": {},
   "outputs": [],
   "source": [
    "# The most general form\n",
    "# Select everything\n",
    "print(arr_2d[:, :])"
   ]
  },
  {
   "cell_type": "code",
   "execution_count": null,
   "id": "318179f1",
   "metadata": {},
   "outputs": [],
   "source": [
    "# Input the indices of the rows you want to select\n",
    "print(\"The first row of arr_2d:\")\n",
    "print(arr_2d[0, :])\n",
    "\n",
    "# Input the indices of the rows you want to select\n",
    "print(\"\\nThe third column of arr_2d:\")\n",
    "print(arr_2d[:, 2])\n"
   ]
  },
  {
   "cell_type": "code",
   "execution_count": null,
   "id": "536e7060",
   "metadata": {},
   "outputs": [],
   "source": [
    "# The : and even , can be omitted in the case of rows\n",
    "# But I recommend leaving them for clarity\n",
    "# Also since it clearly shows the dimension of your array\n",
    "print(\"The result of arr_2d[0, :]:\")\n",
    "print(arr_2d[0, :])\n",
    "\n",
    "print(\"\\nThe result of arr_2d[0,]:\")\n",
    "print(arr_2d[0,])\n",
    "\n",
    "print(\"\\nThe result of arr_2d[0]:\")\n",
    "print(arr_2d[0])"
   ]
  },
  {
   "cell_type": "code",
   "execution_count": null,
   "id": "52a16584",
   "metadata": {},
   "outputs": [],
   "source": [
    "# If you want to select a range of rows or columns, use the colon :\n",
    "print(\"Rows 1 to 2 of arr_2d:\")\n",
    "print(arr_2d[0:2, :])\n",
    "#\n",
    "print(\"\\nColumns 2 to 3 of arr_2d:\")\n",
    "print(arr_2d[:, 1:4])"
   ]
  },
  {
   "cell_type": "code",
   "execution_count": null,
   "id": "8549f313",
   "metadata": {},
   "outputs": [],
   "source": [
    "# If you particular values, you can input them as lists:\n",
    "print(\"Rows 1 to 2, and columns 1 and 3 of arr_2d:\")\n",
    "print(arr_2d[0:2, [0, 2]])\n"
   ]
  },
  {
   "cell_type": "markdown",
   "id": "19ce1837",
   "metadata": {},
   "source": [
    "# Important methods"
   ]
  },
  {
   "cell_type": "code",
   "execution_count": null,
   "id": "14d7bb5d",
   "metadata": {},
   "outputs": [],
   "source": [
    "# Each matrix has the usual mathematical methods\n",
    "# These are .mean(), .min(), .max()\n",
    "\n",
    "# Note: axis=None can be left as an empty field.\n",
    "print(\"Grand mean of arr_2d:\")\n",
    "print(arr_2d.mean(axis=None))\n",
    "#\n",
    "print(\"\\nColumn means of arr_2d:\")\n",
    "print(arr_2d.mean(axis=0))\n",
    "#\n",
    "print(\"\\nRow means of arr_2d:\")\n",
    "print(arr_2d.mean(axis=1))"
   ]
  },
  {
   "cell_type": "code",
   "execution_count": null,
   "id": "7a0e5be3",
   "metadata": {},
   "outputs": [],
   "source": [
    "# Special notice needs to be mentionned regarding the variance/stdev\n",
    "# You can calculate it by hand as shown below:\n",
    "print(\"Variance of variables in arr_2d:\")\n",
    "print(arr_2d.var(axis=0))\n",
    "\n",
    "# It is different than what you would obtain by hand.\n",
    "# The reason for this difference is that NumPy considers\n",
    "# the MLE estimate of the variance.\n",
    "# Therefore, sor a sample of N observations, the estimate will be\n",
    "# divided by N rather than (N - 1)."
   ]
  },
  {
   "cell_type": "code",
   "execution_count": null,
   "id": "d9cc7d09",
   "metadata": {},
   "outputs": [],
   "source": [
    "# This can be seen in the np.cov() function:\n",
    "\n",
    "# The default considers rowvar=True, so that the variance of the rows\n",
    "# is computed. If your variables are in the columns, always use\n",
    "# rowvar=False.\n",
    "\n",
    "# Thankfully for most analyses, the value of bias=False is the default\n",
    "print(\"\\nResult of np.cov() with rowvar=False and bias=True:\")\n",
    "print(np.cov(arr_2d, rowvar=False, bias=True))\n",
    "\n",
    "# Thankfully for most analyses, the value of bias=False is the default\n",
    "print(\"\\nResult of np.cov() with rowvar=False and bias=False:\")\n",
    "print(np.cov(arr_2d, rowvar=False, bias=False))"
   ]
  },
  {
   "cell_type": "markdown",
   "id": "f146df3b",
   "metadata": {},
   "source": [
    "# Reading data"
   ]
  },
  {
   "cell_type": "code",
   "execution_count": null,
   "id": "83a08b12",
   "metadata": {},
   "outputs": [],
   "source": [
    "# The function works on other formats besides .txt BTW\n",
    "mite_env = np.genfromtxt(fname=\"../data/mite_env.csv\", skip_header=1, delimiter=\",\")\n",
    "\n",
    "# Print the first five lines\n",
    "print(\"The first five lines of mite_env:\")\n",
    "print(mite_env[0:5,])"
   ]
  },
  {
   "cell_type": "code",
   "execution_count": null,
   "id": "bcdc3770",
   "metadata": {},
   "outputs": [],
   "source": [
    "print(\"Dimensions of mite_env:\", mite_env.shape)\n",
    "print(\"Data type of mite_env:\", mite_env.dtype)"
   ]
  },
  {
   "cell_type": "code",
   "execution_count": null,
   "id": "69bf8050",
   "metadata": {},
   "outputs": [],
   "source": [
    "# Numpy is not well-suited for qualitative variables\n",
    "# Extract only the quantitative variables\n",
    "mite_env_quant = mite_env[:, 0:2]\n",
    "\n",
    "# Print the first five lines\n",
    "print(\"The first five lines of mite_env_quant:\")\n",
    "print(mite_env_quant[0:5,])"
   ]
  },
  {
   "cell_type": "markdown",
   "id": "baa05a3d",
   "metadata": {},
   "source": [
    "# Mini-matrix primer"
   ]
  },
  {
   "cell_type": "code",
   "execution_count": null,
   "id": "603fedf1",
   "metadata": {},
   "outputs": [],
   "source": [
    "# Create a small matrix\n",
    "mat1 = np.array([[2, 4],\n",
    "                 [1, 6],\n",
    "                 [5, 3]])\n",
    "\n",
    "print(\"Values in mat1:\\n\", mat1)\n",
    "print(\"\\nShape of mat1:\", mat1.shape)"
   ]
  },
  {
   "cell_type": "code",
   "execution_count": null,
   "id": "5b4e4ff8",
   "metadata": {},
   "outputs": [],
   "source": [
    "# The transpose of a matrix is defined as the same matrix\n",
    "# but with rows and columns inverted\n",
    "# This is an attribute .T\n",
    "\n",
    "print(\"Values in mat1.T:\\n\", mat1.T)\n",
    "print(\"\\nShape of mat1.T:\", mat1.T.shape)"
   ]
  },
  {
   "cell_type": "code",
   "execution_count": null,
   "id": "a2f82147",
   "metadata": {},
   "outputs": [],
   "source": [
    "# A vector is a matrix but with a single dimension\n",
    "# It can be a 1xp row vector or a px1 column vector\n",
    "# When entering values into NumPy, mind the [[]] notation\n",
    "\n",
    "# NumPy assumes that when you give it a vector, it is a\n",
    "# 1xp row vector\n",
    "\n",
    "vec1 = np.array(object=[[3], [2]])\n",
    "\n",
    "print(\"Values in vec1:\\n\", vec1)\n",
    "print(\"\\nShape of vec1:\", vec1.shape)"
   ]
  },
  {
   "cell_type": "code",
   "execution_count": null,
   "id": "b6b41558",
   "metadata": {},
   "outputs": [],
   "source": [
    "# If the number of columns in the first matrix\n",
    "# matches the number of columns in the second\n",
    "# matrix, the product can be computed.\n",
    "\n",
    "print(\"Shape of mat1:\", mat1.shape)\n",
    "print(\"\\nShape of vec1:\", vec1.shape)"
   ]
  },
  {
   "cell_type": "code",
   "execution_count": null,
   "id": "a435a5dc",
   "metadata": {},
   "outputs": [],
   "source": [
    "print(\"Values in mat1:\\n\", mat1)\n",
    "print(\"Values in vec1:\\n\", vec1)"
   ]
  },
  {
   "cell_type": "code",
   "execution_count": null,
   "id": "be2f53ca",
   "metadata": {},
   "outputs": [],
   "source": [
    "# The matrix product in Python can be done\n",
    "# as a method or with an operator\n",
    "\n",
    "print(\"Matrix product as a method:\")\n",
    "print(mat1.dot(b=vec1))\n",
    "#\n",
    "print(\"\\nMatrix product with an operator:\")\n",
    "print(mat1 @ vec1)"
   ]
  },
  {
   "cell_type": "code",
   "execution_count": null,
   "id": "b01c2e6c",
   "metadata": {},
   "outputs": [],
   "source": [
    "# Variance-covariance matrices can be obtained\n",
    "# very efficiently using matrix algebra.\n",
    "\n",
    "# Get the number of observations\n",
    "n = mat1.shape[0]\n",
    "# Center the data\n",
    "mat1_c = (mat1 - mat1.mean(axis=0))\n",
    "# Compute the variance-covariance matrix\n",
    "S = 1.0 / (n - 1.0) * mat1_c.T @ mat1_c\n",
    "\n",
    "print(\"Variance-covariance matrix:\")\n",
    "print(S)"
   ]
  },
  {
   "cell_type": "code",
   "execution_count": null,
   "id": "6e9ccf86",
   "metadata": {},
   "outputs": [],
   "source": [
    "# Special arrays can be built for linear algebra\n",
    "\n",
    "# Zeros\n",
    "zeros = np.zeros((2, 2))\n",
    "print(\"A 2x2 matrix of 0's:\")\n",
    "print(zeros)\n",
    "\n",
    "# Ones\n",
    "ones = np.ones((4, 1))\n",
    "print(\"\\nA 4x1 matrix of 1's:\")\n",
    "print(ones)\n",
    "\n",
    "# Identity matrix\n",
    "print(\"\\nA 3x3 identity matrix:\")\n",
    "print(np.eye(N=3))"
   ]
  },
  {
   "cell_type": "code",
   "execution_count": null,
   "id": "3b4d3e91",
   "metadata": {},
   "outputs": [],
   "source": [
    "# By supplying matrices into np.hstack() (horizontal stack),\n",
    "# you can concatenate matrices together.\n",
    "# Can be useful for linear regression for example.\n",
    "\n",
    "# Get the number of observations and generate a column\n",
    "# matrix of 1's \n",
    "n = mite_env_quant.shape[0]\n",
    "ones_n = np.ones((n, 1))\n",
    "\n",
    "# Concatenate a column matrix of 1's\n",
    "mite_env_con1 = np.hstack(tup=[ones_n, mite_env_quant])\n",
    "\n",
    "# Show the first five values\n",
    "print(\"The first five values of mite_env_con1:\")\n",
    "print(mite_env_con1[0:5, ])\n",
    "\n",
    "# There is also np.vstack() (vertical stack) for concatenating observations by\n",
    "# columns.\n",
    "\n",
    "# If you know R, these are similar to rbind() and cbind()."
   ]
  },
  {
   "cell_type": "markdown",
   "id": "8651a230",
   "metadata": {},
   "source": [
    "# LINALG\n"
   ]
  },
  {
   "cell_type": "code",
   "execution_count": null,
   "id": "eb14cee9",
   "metadata": {},
   "outputs": [],
   "source": [
    "#np.linalg.cholesky()\n",
    "#np.linalg.eig()\n",
    "#np.linalg.qr()\n",
    "#np.linalg.svd()\n",
    "#np.linalg.inv()"
   ]
  },
  {
   "cell_type": "code",
   "execution_count": null,
   "id": "bdf70ac9",
   "metadata": {},
   "outputs": [],
   "source": [
    "# Create a square matrix that could be a covariance matrix\n",
    "# between two variables\n",
    "S = np.array([[1.0, 0.8],\n",
    "              [0.8, 1.0]])"
   ]
  },
  {
   "cell_type": "code",
   "execution_count": null,
   "id": "1d8168cb",
   "metadata": {},
   "outputs": [],
   "source": [
    "# Compute its determinant\n",
    "print(\"The determinant of S:\")\n",
    "print(np.linalg.det(a=S))\n",
    "print(type(np.linalg.det(a=S)))"
   ]
  },
  {
   "cell_type": "code",
   "execution_count": null,
   "id": "6f1a8808",
   "metadata": {},
   "outputs": [],
   "source": [
    "# Get the inverse of the S matrix\n",
    "Sm1 = np.linalg.inv(a=S)\n",
    "\n",
    "print(\"The inverse of S:\")\n",
    "print(Sm1)\n",
    "print(type(Sm1))"
   ]
  },
  {
   "cell_type": "code",
   "execution_count": null,
   "id": "60308c97",
   "metadata": {},
   "outputs": [],
   "source": [
    "print(\"\\nThe result of Sm1 x S:\")\n",
    "print(Sm1 @ S)\n",
    "print(type(Sm1 @ S))\n",
    "\n",
    "print(\"\\nThe result of S x Sm1:\")\n",
    "print(S @ Sm1)\n",
    "print(type(S @ Sm1))"
   ]
  },
  {
   "cell_type": "code",
   "execution_count": null,
   "id": "e74801a1",
   "metadata": {},
   "outputs": [],
   "source": [
    "# Invert matrix S2 which is singular\n",
    "# Uncomment at your own risk\n",
    "# (There ain't no risk, it's mathematically impossible)\n",
    "#np.linalg.inv(S2)"
   ]
  },
  {
   "cell_type": "markdown",
   "id": "7595ec92",
   "metadata": {},
   "source": [
    "# The return of list unpacking"
   ]
  },
  {
   "cell_type": "code",
   "execution_count": null,
   "id": "67c5b165",
   "metadata": {},
   "outputs": [],
   "source": [
    "# Perform eigenanalysis of S\n",
    "print(np.linalg.eig(a=S))"
   ]
  },
  {
   "cell_type": "code",
   "execution_count": null,
   "id": "9c430294",
   "metadata": {},
   "outputs": [],
   "source": [
    "# So you'd better catch them as:\n",
    "out_values, out_vectors = np.linalg.eig(a=S)\n",
    "\n",
    "# Look at them!\n",
    "print(\"\\nThe eigenvalues:\")\n",
    "print(out_values)\n",
    "\n",
    "print(\"\\nThe eigenvectors:\")\n",
    "print(out_vectors)"
   ]
  },
  {
   "cell_type": "code",
   "execution_count": null,
   "id": "d071126e",
   "metadata": {},
   "outputs": [],
   "source": [
    "# You can now write a small function for PCA\n",
    "def pca(X):\n",
    "    n = X.shape[0]\n",
    "    Xc = X - X.mean(axis=0)\n",
    "    S = 1.0 / (n - 1.0) * Xc.T @ Xc\n",
    "    lam, U = np.linalg.eig(a=S)\n",
    "    F = Xc @ U\n",
    "    return [lam, U, F]"
   ]
  },
  {
   "cell_type": "code",
   "execution_count": null,
   "id": "961a5e4c",
   "metadata": {},
   "outputs": [],
   "source": [
    "# Apply it on the mite_env_quant dataset\n",
    "pca(X=mite_env_quant)\n",
    "\n",
    "# Note: You would actually need to standardize\n",
    "# variables, but this is for explanatory purposes."
   ]
  },
  {
   "cell_type": "markdown",
   "id": "d692f149",
   "metadata": {},
   "source": [
    "# Masked matrices"
   ]
  },
  {
   "cell_type": "code",
   "execution_count": null,
   "id": "2a96e159",
   "metadata": {},
   "outputs": [],
   "source": [
    "# Generate a 5x5 matrix with values either -1 or 1\n",
    "ex_array = np.random.choice(a=[0.0, 1.0, 2.0, 3.0, -999.0], size=(5, 5))\n",
    "\n",
    "# See the values in my array\n",
    "print(\"Array with some values as -999\")\n",
    "print(ex_array)\n",
    "\n",
    "# Create a copy of the array and\n",
    "# Replace values that are equal to -999 with np.nan\n",
    "ex_nan = ex_array.copy()\n",
    "ex_nan[ex_nan == -999] = np.nan\n",
    "\n",
    "# See the values in the mask\n",
    "print(\"\\nArray with -999 coded as np.nan:\")\n",
    "print(ex_nan)"
   ]
  },
  {
   "cell_type": "code",
   "execution_count": null,
   "id": "3750f85f",
   "metadata": {},
   "outputs": [],
   "source": [
    "# Determine a boolean mask defined by whether or not\n",
    "# values are equal to -999\n",
    "mymask = ex_array == -999\n",
    "\n",
    "# See the values in the mask\n",
    "print(\"Boolean mask:\")\n",
    "print(mymask)\n",
    "\n",
    "# Create a masked array from this mask\n",
    "print(\"\\nMasked array:\")\n",
    "ex_mask = np.ma.masked_array(data=ex_array, mask=mymask)\n",
    "print(ex_mask)"
   ]
  },
  {
   "cell_type": "code",
   "execution_count": null,
   "id": "a391abde",
   "metadata": {},
   "outputs": [],
   "source": [
    "# Print out the mean of these arrays\n",
    "print(\"The mean of ex_array is:\", ex_array.mean())\n",
    "print(\"The mean of ex_nan is:\", ex_nan.mean())\n",
    "print(\"The nanmean of ex_nan is:\", np.nanmean(ex_nan))\n",
    "print(\"The mean of ex_mask is:\", ex_mask.mean())"
   ]
  },
  {
   "cell_type": "markdown",
   "id": "d9feed9d",
   "metadata": {},
   "source": [
    "# Views and copies"
   ]
  },
  {
   "cell_type": "code",
   "execution_count": null,
   "id": "33fd508f",
   "metadata": {},
   "outputs": [],
   "source": [
    "# Create two vectors\n",
    "vec_1 = np.array([1, 2, 3, 4, 5])\n",
    "vec_2 = vec_1[2:]\n",
    "vec_3 = vec_1[2:].copy()\n",
    "\n",
    "# Look at them!\n",
    "print(vec_1)\n",
    "print(vec_2)\n",
    "print(vec_3)"
   ]
  },
  {
   "cell_type": "code",
   "execution_count": null,
   "id": "066947a6",
   "metadata": {},
   "outputs": [],
   "source": [
    "print(\"ID of vec_1:\", id(vec_1))\n",
    "print(\"ID of vec_2:\", id(vec_2))\n",
    "print(\"ID of vec_3:\", id(vec_3))"
   ]
  },
  {
   "cell_type": "code",
   "execution_count": null,
   "id": "f936751a",
   "metadata": {},
   "outputs": [],
   "source": [
    "print(\"Does vec_1 share memory with vec_2?\")\n",
    "print(np.shares_memory(vec_1, vec_2))\n",
    "\n",
    "print(\"\\nDoes vec_1 share memory with vec_3?\")\n",
    "print(np.shares_memory(vec_1, vec_3))\n",
    "\n",
    "print(\"\\nDoes vec_2 share memory with vec_3?\")\n",
    "print(np.shares_memory(vec_2, vec_3))"
   ]
  },
  {
   "cell_type": "code",
   "execution_count": null,
   "id": "b46a8f7e",
   "metadata": {},
   "outputs": [],
   "source": [
    "# Change a value in vec_2\n",
    "vec_2[1] = 9999\n",
    "\n",
    "# Look at them!\n",
    "print(\"Values of vec_1:\")\n",
    "print(vec_1)\n",
    "\n",
    "print(\"\\nValues of vec_2:\")\n",
    "print(vec_2)\n",
    "\n",
    "print(\"\\nValues of vec_3:\")\n",
    "print(vec_3)"
   ]
  },
  {
   "cell_type": "code",
   "execution_count": null,
   "id": "4f46f82b",
   "metadata": {},
   "outputs": [],
   "source": [
    "# So ask yourself when subsetting with NumPy:\n",
    "\n",
    "# Will I do some analyses on this part and then go back to the original data?\n",
    "\n",
    "# - If YES: Consider a .copy() of the data so you don't alter it unintentionally.\n",
    "# - If NO: You can stick with a view, it is more memory-efficient (i.e. you weren't going to use it anyways)."
   ]
  }
 ],
 "metadata": {
  "kernelspec": {
   "display_name": ".venv",
   "language": "python",
   "name": "python3"
  },
  "language_info": {
   "codemirror_mode": {
    "name": "ipython",
    "version": 3
   },
   "file_extension": ".py",
   "mimetype": "text/x-python",
   "name": "python",
   "nbconvert_exporter": "python",
   "pygments_lexer": "ipython3",
   "version": "3.13.3"
  }
 },
 "nbformat": 4,
 "nbformat_minor": 5
}
