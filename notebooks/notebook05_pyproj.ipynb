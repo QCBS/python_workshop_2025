{
 "cells": [
  {
   "cell_type": "markdown",
   "id": "e8e67d3f",
   "metadata": {},
   "source": [
    "# Python Workshop - 2025\n",
    "\n",
    "<div>\n",
    "    <img src=\"../images/qcbs_logo_v2.svg\" style=\"background-color: #f0f0f0; padding: 20px;\"/>\n",
    "</div>\n",
    "\n",
    "<div>\n",
    "    <img src=\"../images/python_logo_generic.svg\" style=\"background-color: #f0f0f0; padding: 20px;\"/>\n",
    "</div>\n",
    "\n",
    "**Last update**: 2025-05-19  \n",
    "**Author**: El-Amine Mimouni  \n",
    "**Affiliation**: Québec Centre for Biodiversity Science\n",
    "\n",
    "**Overview**: In this notebook, we will see how to use PyProj.\n",
    "\n",
    "---\n",
    "\n",
    "# PyProj\n",
    "\n",
    "Information about PyProj can be found at [https://pyproj4.github.io/pyproj/stable/index.html](https://pyproj4.github.io/pyproj/stable/index.html).\n",
    "\n",
    "Information about the actual Proj can be found at [https://proj.org/en/stable/index.html](https://proj.org/en/stable/index.html)."
   ]
  },
  {
   "cell_type": "code",
   "execution_count": null,
   "id": "da13cfdd",
   "metadata": {},
   "outputs": [],
   "source": [
    "# The star of today\n",
    "import pyproj\n",
    "\n",
    "# Other actors\n",
    "import pandas as pd\n",
    "import matplotlib.pyplot as plt\n",
    "from pprint import pprint"
   ]
  },
  {
   "cell_type": "markdown",
   "id": "943d8adb",
   "metadata": {},
   "source": [
    "# 2. Projections and CRS\n",
    "\n",
    "A projection is a way of representing FEATURES, which are on a 3D surface of the Earth, on a flat 2D map. A Coordinate Reference System (CRS) defines how spatial data relates to real-world locations, combining a projection with a coordinate system and a datum."
   ]
  },
  {
   "cell_type": "code",
   "execution_count": null,
   "id": "9afd3f1d",
   "metadata": {},
   "outputs": [],
   "source": [
    "# Create instances of CRS for three CRS\n",
    "# Use their EPSG codes\n",
    "# Note: Check out the other .from_x() methods\n",
    "wgs84 = pyproj.CRS.from_string(\"EPSG:4326\")\n",
    "nad83_ql = pyproj.CRS.from_string(\"EPSG:32198\")\n",
    "nad83_cali = pyproj.CRS.from_string(\"EPSG:2227\")\n",
    "\n",
    "# Print info about each CRS!\n",
    "print(\"WGS84 info:\")\n",
    "print(wgs84)\n",
    "print(type(wgs84))\n",
    "#\n",
    "print(\"\\nNAD83 / QL info:\")\n",
    "print(nad83_ql)\n",
    "print(type(nad83_ql))\n",
    "#\n",
    "print(\"\\nNAD83 / Cali info:\")\n",
    "print(nad83_cali)\n",
    "print(type(nad83_cali))"
   ]
  },
  {
   "cell_type": "code",
   "execution_count": null,
   "id": "28349cef",
   "metadata": {},
   "outputs": [],
   "source": [
    "# More info can be obtained from the WKT representation of each CRS\n",
    "print(\"WKT representation of WGS84:\")\n",
    "pprint(wgs84.to_wkt())\n",
    "\n",
    "print(\"\\nWKT representation of NAD83 / QL:\")\n",
    "pprint(nad83_ql.to_wkt())\n",
    "\n",
    "print(\"\\nWKT representation of NAD83 / Cali:\")\n",
    "pprint(nad83_cali.to_wkt())"
   ]
  },
  {
   "cell_type": "code",
   "execution_count": null,
   "id": "651b072c",
   "metadata": {},
   "outputs": [],
   "source": [
    "# A lot of information\n",
    "print(\"Area of use for WGS84:\")\n",
    "print(wgs84.area_of_use)\n",
    "#\n",
    "print(\"\\nArea of use for NAD83 / QL:\")\n",
    "print(nad83_ql.area_of_use)\n",
    "#\n",
    "print(\"\\nArea of use for NAD83 / Cali:\")\n",
    "print(nad83_cali.area_of_use)"
   ]
  },
  {
   "cell_type": "code",
   "execution_count": null,
   "id": "167d1665",
   "metadata": {},
   "outputs": [],
   "source": [
    "# Pertinent information\n",
    "print(\"Is WGS84 projected?\")\n",
    "print(wgs84.is_projected)\n",
    "#\n",
    "print(\"\\nIs NAD83 / QL projected?\")\n",
    "print(nad83_ql.is_projected)\n",
    "#\n",
    "print(\"\\nIs NAD83 / Cali projected?\")\n",
    "print(nad83_cali.is_projected)"
   ]
  },
  {
   "cell_type": "code",
   "execution_count": null,
   "id": "1d36a9b0",
   "metadata": {},
   "outputs": [],
   "source": [
    "# Pertinent information\n",
    "print(\"\\nAxis information for WGS84:\")\n",
    "print(wgs84.axis_info)\n",
    "#\n",
    "print(\"\\nAxis information for NAD83 / QL:\")\n",
    "print(nad83_ql.axis_info)\n",
    "#\n",
    "print(\"\\nAxis information for NAD83 / Cali:\")\n",
    "print(nad83_cali.axis_info)"
   ]
  },
  {
   "cell_type": "code",
   "execution_count": null,
   "id": "aece8152",
   "metadata": {},
   "outputs": [],
   "source": [
    "# Note the two values of ellipsoid for WGS84\n",
    "print(\"\\nEllipsoid information for WGS84:\")\n",
    "print(\"- Semi-major axis:\", wgs84.ellipsoid.semi_major_metre)\n",
    "print(\"- Inverse flattening:\", wgs84.ellipsoid.inverse_flattening)"
   ]
  },
  {
   "cell_type": "code",
   "execution_count": null,
   "id": "952313b5",
   "metadata": {},
   "outputs": [],
   "source": [
    "# We don't want another Mars Climate Orbiter Incident..."
   ]
  },
  {
   "cell_type": "markdown",
   "id": "7a96e9d6",
   "metadata": {},
   "source": [
    "# Passing from one CRS to another\n",
    "\n",
    "To switch from one CRS to another requires TRANSFORMERS"
   ]
  },
  {
   "cell_type": "code",
   "execution_count": null,
   "id": "efd2df01",
   "metadata": {},
   "outputs": [],
   "source": [
    "# Create an instance of a Transformer\n",
    "my_transformer = pyproj.Transformer.from_crs(crs_from=wgs84, crs_to=nad83_ql, always_xy=True)\n",
    "\n",
    "# Print out info about it!\n",
    "print(my_transformer)\n",
    "print(type(my_transformer))"
   ]
  },
  {
   "cell_type": "code",
   "execution_count": null,
   "id": "8b4a0b23",
   "metadata": {},
   "outputs": [],
   "source": [
    "# Create tuples containing the coordinates of Montreal and Quebec\n",
    "# Notice they are in the Lon-Lat format\n",
    "montreal_wgs84 = (-73.5673, 45.5017)\n",
    "quebec_wgs84 = (-71.2082, 46.8139)\n",
    "\n",
    "print(\"Coordinates of Montreal in WGS84: \", montreal_wgs84)\n",
    "print(\"Coordinates of Quebec in WGS84: \", quebec_wgs84)"
   ]
  },
  {
   "cell_type": "code",
   "execution_count": null,
   "id": "21c4f440",
   "metadata": {},
   "outputs": [],
   "source": [
    "# Use the .transform() method of my_transformer to get the coordinates\n",
    "# Note: It needs the order Lon-Lat, which is what we had\n",
    "montreal_nad83_ql = my_transformer.transform(xx=montreal_wgs84[0], yy=montreal_wgs84[1])\n",
    "quebec_nad83_ql = my_transformer.transform(xx=quebec_wgs84[0], yy=quebec_wgs84[1])\n",
    "\n",
    "#\n",
    "print(f\"Coordinates of Montreal in NAD83 / QL: ({montreal_nad83_ql[0]:.2f}, {montreal_nad83_ql[1]:.2f})\")\n",
    "print(f\"Coordinates of Quebec in NAD83 / QL: ({quebec_nad83_ql[0]:.2f}, {quebec_nad83_ql[1]:.2f})\")"
   ]
  },
  {
   "cell_type": "markdown",
   "id": "2e628ac7",
   "metadata": {},
   "source": [
    "To verify them (in case you doubt your own self):\n",
    "\n",
    "https://epsg.io/map#srs=32198&x=-396122.43209208664&y=181374.14914630336&z=9&layer=streets\n",
    "https://epsg.io/map#srs=32198&x=-206315.6389128428&y=317060.9367326632&z=8&layer=streets"
   ]
  },
  {
   "cell_type": "markdown",
   "id": "e47f07ac",
   "metadata": {},
   "source": [
    "# Calculating geodetic distances\n",
    "\n",
    "Pyproj allows for the calculation of geodetic distances"
   ]
  },
  {
   "cell_type": "code",
   "execution_count": null,
   "id": "01195787",
   "metadata": {},
   "outputs": [],
   "source": [
    "# Initialize a Geod for WGS84:\n",
    "geod_wgs84 = pyproj.Geod(ellps=\"WGS84\")\n",
    "\n",
    "# Identical to:\n",
    "geod_wgs84 = pyproj.Geod(a=wgs84.ellipsoid.semi_major_metre, f = 1.0 / wgs84.ellipsoid.inverse_flattening)\n",
    "\n",
    "# Print info about it!\n",
    "print(geod_wgs84)\n",
    "print(type(geod_wgs84))"
   ]
  },
  {
   "cell_type": "code",
   "execution_count": null,
   "id": "d82a3a21",
   "metadata": {},
   "outputs": [],
   "source": [
    "# Coordinates of two points: Montreal and Paris\n",
    "# We already defined Montreal, so let's just add Paris in Lon-Lat form\n",
    "paris_wgs84 = (2.3522, 48.8566)"
   ]
  },
  {
   "cell_type": "code",
   "execution_count": null,
   "id": "80cfd229",
   "metadata": {},
   "outputs": [],
   "source": [
    "# Compute the inverse (distance, azimuths) using the WGS84 ellipsoidal model\n",
    "# Note: Slightly more informative ARGUMENTS (and plural at that!)\n",
    "azimuth1_wgs84, azimuth2_wgs84, distance_wgs84 = geod_wgs84.inv(lons1=montreal_wgs84[0],\n",
    "                                                                lats1=montreal_wgs84[1],\n",
    "                                                                lons2=paris_wgs84[0],\n",
    "                                                                lats2=paris_wgs84[1])\n",
    "\n",
    "# BTW, in geodesy:\n",
    "# \n",
    "# - Forward problem: You are given the coordinates of a starting point, a distance and an azimuth.\n",
    "#                    Based on these, and you want to compute the destination point coordinates.\n",
    "#\n",
    "# - Inverse problem: You are given the coordinates of two points.\n",
    "#                    Based on these, you want to compute the distance and the azimuth between them."
   ]
  },
  {
   "cell_type": "code",
   "execution_count": null,
   "id": "d5624819",
   "metadata": {},
   "outputs": [],
   "source": [
    "# WGS84 distance (in km)\n",
    "print(f\"Distance (WGS84): {distance_wgs84 / 1000:.2f} km\")"
   ]
  },
  {
   "cell_type": "code",
   "execution_count": null,
   "id": "f4e09eab",
   "metadata": {},
   "outputs": [],
   "source": [
    "# Spherical model just for fun\n",
    "# Same planet, but a perfect sphere\n",
    "#geod_sphere = pyproj.Geod(a=6371000.00, f = 0.0)\n",
    "#geod_sphere = pyproj.Geod(ellps=\"sphere\")\n",
    "\n",
    "# Consider\n",
    "geod_sphere = pyproj.Geod(a=(wgs84.ellipsoid.semi_major_metre + wgs84.ellipsoid.semi_minor_metre) / 2.0, f=0.0)\n",
    "\n",
    "# Compute the inverse (distance, azimuths) using the WGS84 ellipsoidal model\n",
    "azimuth1_sphere, azimuth2_sphere, distance_sphere = geod_sphere.inv(lons1=montreal_wgs84[0],\n",
    "                                                                    lats1=montreal_wgs84[1],\n",
    "                                                                    lons2=paris_wgs84[0],\n",
    "                                                                    lats2=paris_wgs84[1])\n",
    "\n",
    "# Spherical distance in km:\n",
    "print(f\"Distance (Spherical): {distance_sphere / 1000:.2f} km\")"
   ]
  },
  {
   "cell_type": "code",
   "execution_count": null,
   "id": "d651944d",
   "metadata": {},
   "outputs": [],
   "source": [
    "# How different are the two distances?\n",
    "print(f\"Difference between the two distances: {(distance_wgs84 - distance_sphere) / 1000:.2f} km\")"
   ]
  },
  {
   "cell_type": "markdown",
   "id": "59ac3ef7",
   "metadata": {},
   "source": [
    "# Biological application\n"
   ]
  },
  {
   "cell_type": "code",
   "execution_count": null,
   "id": "9c269ad6",
   "metadata": {},
   "outputs": [],
   "source": [
    "# Calculating\n",
    "# Load the journey of KOR0104\n",
    "df_104 = pd.read_csv(filepath_or_buffer=\"../data/KOR0104-43589.csv\")\n",
    "df_104.head()\n",
    "\n",
    "# Original data landing page:\n",
    "# https://www.movebank.org/cms/webapp?gwt_fragment=page=studies,path=study3030282201"
   ]
  },
  {
   "cell_type": "code",
   "execution_count": null,
   "id": "5ca8914b",
   "metadata": {},
   "outputs": [],
   "source": [
    "# Compute the inverse (distance, azimuths) using the WGS84 ellipsoidal model\n",
    "# By removing the last and first values (.iloc() is of choice here), we can\n",
    "# match each successive stop by the turtle\n",
    "azimuth1s_wgs84, azimuths2_wgs84, distances_kor104 = geod_wgs84.inv(lons1=df_104.iloc[:-1][\"location-long\"],\n",
    "                                                                    lats1=df_104.iloc[:-1][\"location-lat\"],\n",
    "                                                                    lons2=df_104.iloc[1:][\"location-long\"],\n",
    "                                                                    lats2=df_104.iloc[1:][\"location-lat\"])"
   ]
  },
  {
   "cell_type": "code",
   "execution_count": null,
   "id": "adbc67be",
   "metadata": {},
   "outputs": [],
   "source": [
    "# Print the distances!\n",
    "print(\"Array of distances:\")\n",
    "print(distances_kor104)"
   ]
  },
  {
   "cell_type": "code",
   "execution_count": null,
   "id": "79f4e72a",
   "metadata": {},
   "outputs": [],
   "source": [
    "# BTW try and guess what type distances_kor104 is?\n",
    "print(type(distances_kor104))"
   ]
  },
  {
   "cell_type": "code",
   "execution_count": null,
   "id": "277531a2",
   "metadata": {},
   "outputs": [],
   "source": [
    "# Print mini-message\n",
    "print(f\"Total distance traveled by KOR-104: {distances_kor104.sum() / 1000:.2f} km\")"
   ]
  },
  {
   "cell_type": "code",
   "execution_count": null,
   "id": "e674eb91",
   "metadata": {},
   "outputs": [],
   "source": [
    "# Create a figure and axis\n",
    "fig, ax = plt.subplots(nrows=1, ncols=1, figsize=(18, 10))\n",
    "ax.set_aspect(aspect=\"auto\", adjustable=\"box\")\n",
    "\n",
    "# Scatter plot for original data points (assuming distances_wgs84 is defined)\n",
    "ax.plot(distances_kor104)\n",
    "\n",
    "# Add axis labels and title\n",
    "ax.set_title(label=\"Lineplot of distances traveled by the turtle KOR-0104!\")\n",
    "ax.set_xlabel(xlabel=\"Series\")\n",
    "ax.set_ylabel(ylabel=\"Distance traveled (in km)\")\n",
    "\n",
    "# Adjust layout and show the plot\n",
    "fig.tight_layout()\n",
    "plt.show()"
   ]
  },
  {
   "cell_type": "markdown",
   "id": "3d5403ff",
   "metadata": {},
   "source": [
    "# Bonus round: time series in Pandas"
   ]
  },
  {
   "cell_type": "code",
   "execution_count": null,
   "id": "aff2a31b",
   "metadata": {},
   "outputs": [],
   "source": [
    "# Have a look at the \"timestamp\" column\n",
    "print(df_104[\"timestamp\"].head())\n",
    "print(df_104[\"timestamp\"].dtype)"
   ]
  },
  {
   "cell_type": "code",
   "execution_count": null,
   "id": "c9f6e87b",
   "metadata": {},
   "outputs": [],
   "source": [
    "# Use Pandas particular datetime format\n",
    "print(pd.to_datetime(df_104[\"timestamp\"]).head())\n",
    "print(pd.to_datetime(df_104[\"timestamp\"]).dtype)"
   ]
  },
  {
   "cell_type": "code",
   "execution_count": null,
   "id": "4d1f61f3",
   "metadata": {},
   "outputs": [],
   "source": [
    "# Use it to replace the \"timestamp\" variable\n",
    "# No need for an additional column\n",
    "df_104[\"timestamp\"] = pd.to_datetime(df_104[\"timestamp\"])"
   ]
  },
  {
   "cell_type": "code",
   "execution_count": null,
   "id": "2f96bd89",
   "metadata": {},
   "outputs": [],
   "source": [
    "# Create a figure and axis\n",
    "fig, ax = plt.subplots(nrows=1, ncols=1, figsize=(18, 10))\n",
    "ax.set_aspect(aspect=\"auto\", adjustable=\"box\")\n",
    "\n",
    "# Scatter plot for original data points\n",
    "ax.plot(df_104[\"timestamp\"][1:], distances_kor104)\n",
    "\n",
    "# Add axis labels and title\n",
    "ax.set_title(label=\"Distance traveled by the turtle KOR-104!\\nWith time on the x-axis!\")\n",
    "ax.set_xlabel(xlabel=\"Time\")\n",
    "ax.set_ylabel(ylabel=\"Distance traveled (in km)\")\n",
    "\n",
    "# Adjust layout and show the plot\n",
    "fig.tight_layout()\n",
    "plt.show()"
   ]
  }
 ],
 "metadata": {
  "kernelspec": {
   "display_name": ".venv",
   "language": "python",
   "name": "python3"
  },
  "language_info": {
   "codemirror_mode": {
    "name": "ipython",
    "version": 3
   },
   "file_extension": ".py",
   "mimetype": "text/x-python",
   "name": "python",
   "nbconvert_exporter": "python",
   "pygments_lexer": "ipython3",
   "version": "3.13.3"
  }
 },
 "nbformat": 4,
 "nbformat_minor": 5
}
