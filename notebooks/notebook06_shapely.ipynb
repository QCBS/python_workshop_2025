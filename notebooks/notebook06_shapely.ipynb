{
 "cells": [
  {
   "cell_type": "markdown",
   "id": "0ef139ca",
   "metadata": {},
   "source": [
    "# Python Workshop - 2025\n",
    "\n",
    "<div>\n",
    "    <img src=\"../images/qcbs_logo_v2.svg\" style=\"background-color: #f0f0f0; padding: 20px;\"/>\n",
    "</div>\n",
    "\n",
    "<div>\n",
    "    <img src=\"../images/python_logo_generic.svg\" style=\"background-color: #f0f0f0; padding: 20px;\"/>\n",
    "</div>\n",
    "\n",
    "**Last update**: 2025-05-19  \n",
    "**Author**: El-Amine Mimouni  \n",
    "**Affiliation**: Québec Centre for Biodiversity Science\n",
    "\n",
    "**Overview**: In this notebook, we will see how to use shapely.\n",
    "\n",
    "---\n",
    "\n",
    "# Shapely\n",
    "\n",
    "Information about Shapely can be found at [https://shapely.readthedocs.io/en/stable/index.html](https://shapely.readthedocs.io/en/stable/index.html).\n",
    "\n",
    "\n",
    "Information about GEOS can be found at [https://libgeos.org/](https://libgeos.org/)."
   ]
  },
  {
   "cell_type": "code",
   "execution_count": null,
   "id": "c066e10d",
   "metadata": {},
   "outputs": [],
   "source": [
    "# Import dependencies\n",
    "import shapely\n",
    "\n",
    "# Other actors\n",
    "import numpy as np\n",
    "import pandas as pd\n",
    "import matplotlib.pyplot as plt\n",
    "import geopandas as gpd\n",
    "import pyproj\n",
    "import json"
   ]
  },
  {
   "cell_type": "markdown",
   "id": "294988e3",
   "metadata": {},
   "source": [
    "# Creating Geometries"
   ]
  },
  {
   "cell_type": "code",
   "execution_count": null,
   "id": "a0548e6e",
   "metadata": {},
   "outputs": [],
   "source": [
    "# Points\n",
    "# Create a point\n",
    "ex_point = shapely.geometry.Point(1.5, 2.5)\n",
    "#\n",
    "print(ex_point)\n",
    "print(type(ex_point))"
   ]
  },
  {
   "cell_type": "code",
   "execution_count": null,
   "id": "2b953dcc",
   "metadata": {},
   "outputs": [],
   "source": [
    "# LineStrings\n",
    "# Create a line (sequence of points)\n",
    "ex_lines = shapely.geometry.LineString(coordinates=[(-2, 1), (1, 2), (2, 0), (3, 2)])\n",
    "#\n",
    "print(ex_lines)\n",
    "print(type(ex_lines))"
   ]
  },
  {
   "cell_type": "code",
   "execution_count": null,
   "id": "ab44c490",
   "metadata": {},
   "outputs": [],
   "source": [
    "# Polygons\n",
    "# Create a polygon\n",
    "ex_poly = shapely.geometry.Polygon(shell=[(-1, 0), (1, 1), (1, 0)])\n",
    "#\n",
    "# The actual command should be\n",
    "#ex_poly = shapely.geometry.Polygon(shell=[(-1, 0), (1, 1), (1, 0), (-1, 0)])\n",
    "#\n",
    "print(ex_poly)\n",
    "print(type(ex_poly))"
   ]
  },
  {
   "cell_type": "code",
   "execution_count": null,
   "id": "46a7c2d0",
   "metadata": {},
   "outputs": [],
   "source": [
    "# MultiPolygons\n",
    "# Create a multipolygon\n",
    "polygon1 = shapely.geometry.Polygon(shell=[(0, 0), (4, 0), (4, 4), (0, 4)])\n",
    "polygon2 = shapely.geometry.Polygon(shell=[(5, 5), (7, 5), (7, 7), (5, 7)])\n",
    "#\n",
    "# The actual commands should be\n",
    "#polygon1 = shapely.geometry.Polygon(shell=[(0, 0), (4, 0), (4, 4), (0, 4), (0, 0)])\n",
    "#polygon2 = shapely.geometry.Polygon(shell=[(5, 5), (7, 5), (7, 7), (5, 7), (5, 5)])\n",
    "#\n",
    "ex_mpoly = shapely.geometry.MultiPolygon(polygons=[polygon1, polygon2])\n",
    "#\n",
    "print(ex_mpoly)\n",
    "print(type(ex_poly))"
   ]
  },
  {
   "cell_type": "code",
   "execution_count": null,
   "id": "c34b7f76",
   "metadata": {},
   "outputs": [],
   "source": [
    "# Fun aspect:\n",
    "# In a Jupyter notebook, entering the name of the geometry will give you a mini-image of it.\n",
    "\n",
    "#ex_point\n",
    "#ex_lines\n",
    "#ex_poly\n",
    "#ex_mpoly"
   ]
  },
  {
   "cell_type": "code",
   "execution_count": null,
   "id": "67406a9a",
   "metadata": {},
   "outputs": [],
   "source": [
    "# Polygons have an important attribute .exterior and .xy\n",
    "print(\"Exterior ring of ex_polygon\")\n",
    "print(ex_poly.exterior)\n",
    "\n",
    "print(\"\\nTuple of coordinate arrays for ex_poly:\")\n",
    "print(ex_poly.exterior.xy)\n",
    "\n",
    "# These arrays, which correspond to the xy coordinates of the polygon\n",
    "# are indexable, as:\n",
    "print(\"\\nArray of ex_poly on the x-axis\")\n",
    "print(ex_poly.exterior.xy[0])\n",
    "#\n",
    "print(\"\\nArray of ex_poly on the y-axis\")\n",
    "print(ex_poly.exterior.xy[1])"
   ]
  },
  {
   "cell_type": "code",
   "execution_count": null,
   "id": "0aefd002",
   "metadata": {},
   "outputs": [],
   "source": [
    "# MultiPolygons are a special type of type known as a GeometrySequence\n",
    "print(\"Value of ex_mpoly.geoms:\")\n",
    "print(ex_mpoly.geoms)\n",
    "\n",
    "print(\"\\nType of ex_mpoly.geoms:\")\n",
    "print(type(ex_mpoly.geoms))\n",
    "\n",
    "# They are indexable\n",
    "print(\"\\nIndividual geometries in ex_mpoly:\")\n",
    "print(ex_mpoly.geoms[0])\n",
    "print(ex_mpoly.geoms[1])"
   ]
  },
  {
   "cell_type": "code",
   "execution_count": null,
   "id": "dcaa61fa",
   "metadata": {},
   "outputs": [],
   "source": [
    "# Create a plot\n",
    "# Geometries are visual thingies\n",
    "fig, ax = plt.subplots(nrows=1, ncols=1, figsize=(16, 10))\n",
    "ax.set_aspect(aspect=\"equal\", adjustable=\"datalim\")\n",
    "\n",
    "# Plot the point\n",
    "ax.plot(*ex_point.xy, marker=\"o\", color=\"red\", linestyle=\"None\", label=\"Point\")\n",
    "\n",
    "# Plot the LineString\n",
    "ax.plot(ex_lines.xy[0], ex_lines.xy[1], linestyle=\"-\", color=\"blue\", label=\"LineString\")\n",
    "\n",
    "# Plot the Polygon\n",
    "ax.plot(ex_poly.exterior.xy[0], ex_poly.exterior.xy[1], color=\"green\", linestyle=\"-\", label=\"Polygon\")\n",
    "\n",
    "# Plot the MultiPolygon\n",
    "for idx, poly in enumerate(ex_mpoly.geoms):\n",
    "    ax.plot(poly.exterior.xy[0], poly.exterior.xy[1], color=\"magenta\", linestyle=\"-\", label=\"MultiPolygon\" if idx == 0 else None)\n",
    "#    ax.plot(poly.exterior.xy[0], poly.exterior.xy[1], color=\"magenta\", linestyle=\"--\", label=\"MultiPolygon\")\n",
    "\n",
    "# Finalize plot\n",
    "ax.legend()\n",
    "ax.set_title(label=\"My geometries!\")\n",
    "ax.set_xlabel(xlabel=\"X-axis (in some units)\")\n",
    "ax.set_ylabel(ylabel=\"Y-axis (in some units)\")\n",
    "\n",
    "# Show the plot\n",
    "plt.show()"
   ]
  },
  {
   "cell_type": "markdown",
   "id": "57e9d01b",
   "metadata": {},
   "source": [
    "# Geometries have attributes"
   ]
  },
  {
   "cell_type": "code",
   "execution_count": null,
   "id": "1f5aa718",
   "metadata": {},
   "outputs": [],
   "source": [
    "# For the Point\n",
    "print(\"Length and area values for the Point\")\n",
    "print(ex_point.length)\n",
    "print(ex_point.area)\n",
    "\n",
    "# For the LineString\n",
    "print(\"\\nLength and area values for the LineString\")\n",
    "print(ex_lines.length)\n",
    "print(ex_lines.area)\n",
    "\n",
    "# For the Polygon\n",
    "print(\"\\nLength and area values for the Polygon\")\n",
    "print(ex_poly.length)\n",
    "print(ex_poly.area)\n",
    "\n",
    "# For the MultiPolygon\n",
    "print(\"\\nLength and area values for the MultiPolygon\")\n",
    "print(ex_mpoly.length)\n",
    "print(ex_mpoly.area)\n",
    "\n",
    "# For each Polygon in the MultiPolygon\n",
    "print(\"\\nLength and area values for each Polygon in the MultiPolygon LISTO EXPANSIONO\")\n",
    "print([poly.length for poly in ex_mpoly.geoms])\n",
    "print([poly.area for poly in ex_mpoly.geoms])\n"
   ]
  },
  {
   "cell_type": "markdown",
   "id": "2df20cad",
   "metadata": {},
   "source": [
    "# Shapely is not just graphic"
   ]
  },
  {
   "cell_type": "code",
   "execution_count": null,
   "id": "0d34660b",
   "metadata": {},
   "outputs": [],
   "source": [
    "# You can also perform logical operations\n",
    "# Contains determines whether or not a point is within a polygon\n",
    "print(\"Does the Polygon contain the Point?\")\n",
    "print(ex_poly.contains(other=ex_point))\n",
    "\n",
    "print(\"\\nDoes the MultiPolygon contain the Point?\")\n",
    "print(ex_mpoly.contains(other=ex_point))"
   ]
  },
  {
   "cell_type": "code",
   "execution_count": null,
   "id": "f55696dc",
   "metadata": {},
   "outputs": [],
   "source": [
    "# You can also perform logical operations\n",
    "print(\"Is the Point within the Polygon?\")\n",
    "print(ex_point.within(other=ex_poly))\n",
    "\n",
    "print(\"\\nIs the Point within the MultiPolygon?\")\n",
    "print(ex_point.within(other=ex_mpoly))"
   ]
  },
  {
   "cell_type": "markdown",
   "id": "86c360a6",
   "metadata": {},
   "source": [
    "# Buffering geometries"
   ]
  },
  {
   "cell_type": "code",
   "execution_count": null,
   "id": "17bd1806",
   "metadata": {},
   "outputs": [],
   "source": [
    "# Buffer the Point\n",
    "buff_point = ex_point.buffer(distance=2)\n",
    "\n",
    "# Print information about it!\n",
    "print(buff_point)\n",
    "print(type(buff_point))"
   ]
  },
  {
   "cell_type": "code",
   "execution_count": null,
   "id": "3897b619",
   "metadata": {},
   "outputs": [],
   "source": [
    "# Buffer the LineString\n",
    "buff_lines = ex_lines.buffer(distance=1)\n",
    "\n",
    "# Print information about it!\n",
    "print(buff_lines)\n",
    "print(type(buff_lines))"
   ]
  },
  {
   "cell_type": "code",
   "execution_count": null,
   "id": "515d2df7",
   "metadata": {},
   "outputs": [],
   "source": [
    "# Buffer the MultiPolygon\n",
    "buff_poly = ex_poly.buffer(distance=0.1)\n",
    "\n",
    "# Print information about it!\n",
    "print(buff_poly)\n",
    "print(type(buff_poly))"
   ]
  },
  {
   "cell_type": "code",
   "execution_count": null,
   "id": "282787d9",
   "metadata": {},
   "outputs": [],
   "source": [
    "# Buffer the MultiPolygon\n",
    "buff_mpoly = ex_mpoly.buffer(distance=0.5)\n",
    "\n",
    "# Print information about it!\n",
    "print(buff_mpoly)\n",
    "print(type(buff_mpoly))"
   ]
  },
  {
   "cell_type": "code",
   "execution_count": null,
   "id": "08c636aa",
   "metadata": {},
   "outputs": [],
   "source": [
    "# Create a plot\n",
    "fig, ax = plt.subplots(nrows=1, ncols=1, figsize=(16, 10))\n",
    "ax.set_aspect(aspect=\"equal\", adjustable=\"datalim\")\n",
    "\n",
    "###########################################ORIGINAL GEOMETRIES\n",
    "# Plot the point\n",
    "ax.plot(*ex_point.xy, marker=\"o\", color=\"red\", linestyle=\"None\", label=\"Point\")\n",
    "\n",
    "# Plot the LineString\n",
    "ax.plot(ex_lines.xy[0], ex_lines.xy[1], linestyle=\"-\", color=\"blue\", label=\"LineString\")\n",
    "\n",
    "# Plot the Polygon\n",
    "ax.plot(ex_poly.exterior.xy[0], ex_poly.exterior.xy[1], color=\"green\", linestyle=\"-\", label=\"Polygon\")\n",
    "\n",
    "# Plot the MultiPolygon\n",
    "for idx, poly in enumerate(ex_mpoly.geoms):\n",
    "    ax.plot(poly.exterior.xy[0], poly.exterior.xy[1], color=\"magenta\", linestyle=\"-\", label=\"MultiPolygon\" if idx == 0 else None)\n",
    "\n",
    "###########################################BUFFERED GEOMETRIES\n",
    "# Plot the buffered Point (now a Polygon)\n",
    "ax.plot(buff_point.exterior.xy[0], buff_point.exterior.xy[1], color=\"red\", linestyle=\"--\", label=\"Buffered Point\")\n",
    "\n",
    "# Plot the buffered LineString (now a Polygon)\n",
    "ax.plot(buff_lines.exterior.xy[0], buff_lines.exterior.xy[1], color=\"blue\", linestyle=\"--\", label=\"Buffered LineString\")\n",
    "\n",
    "# Plot the Polygon\n",
    "ax.plot(buff_poly.exterior.xy[0], buff_poly.exterior.xy[1], color=\"green\", linestyle=\"--\", label=\"Polygon\")\n",
    "\n",
    "# Plot the buffered MultiPolygon\n",
    "for idx, poly in enumerate(buff_mpoly.geoms):\n",
    "    ax.plot(poly.exterior.xy[0], poly.exterior.xy[1], color=\"magenta\", linestyle=\"--\", label=\"Buffered MultiPolygon\" if idx == 0 else None)\n",
    "\n",
    "# Finalize plot\n",
    "ax.legend()\n",
    "ax.set_title(label=\"My BUFFERED geometries!\")\n",
    "ax.set_xlabel(xlabel=\"X-axis (in some units)\")\n",
    "ax.set_ylabel(ylabel=\"Y-axis (in some units)\")\n",
    "\n",
    "# Show the plot\n",
    "plt.show()\n"
   ]
  },
  {
   "cell_type": "code",
   "execution_count": null,
   "id": "d0d88cd7",
   "metadata": {},
   "outputs": [],
   "source": [
    "# Combine it with buffering, and you can create statements of the sort\n",
    "print(\"Is the Point within 1 unit of the LineString?\")\n",
    "print(ex_point.within(other=buff_lines))\n",
    "\n",
    "\n",
    "print(\"\\nIs the Point within 0.5 unit of the first Polygon in MultiPolygon?\")\n",
    "print(ex_point.within(other=buff_mpoly.geoms[0]))"
   ]
  },
  {
   "cell_type": "markdown",
   "id": "aa728465",
   "metadata": {},
   "source": [
    "# Set operations"
   ]
  },
  {
   "cell_type": "code",
   "execution_count": null,
   "id": "95049082",
   "metadata": {},
   "outputs": [],
   "source": [
    "# Union operation\n",
    "union_poly = ex_poly.union(other=ex_mpoly)\n",
    "#union_poly = ex_poly | ex_mpoly\n",
    "\n",
    "# Intersection operation\n",
    "inter_poly = ex_poly.intersection(other=ex_mpoly)\n",
    "#inter_poly = ex_poly & ex_mpoly\n",
    "\n",
    "# Difference operation\n",
    "diff_poly = ex_poly.difference(other=ex_mpoly)\n",
    "#diff_poly = ex_poly - ex_mpoly\n",
    "\n",
    "# Symmetric difference operation\n",
    "symdiff_poly = ex_poly.symmetric_difference(other=ex_mpoly)\n",
    "#symdiff_poly = ex_poly ^ ex_mpoly"
   ]
  },
  {
   "cell_type": "code",
   "execution_count": null,
   "id": "850a5d40",
   "metadata": {},
   "outputs": [],
   "source": [
    "# The result of each operation is (possibly) a polygon:\n",
    "print(union_poly)"
   ]
  },
  {
   "cell_type": "code",
   "execution_count": null,
   "id": "c2c8fcd3",
   "metadata": {},
   "outputs": [],
   "source": [
    "# Create a plot\n",
    "fig, ax = plt.subplots(nrows=1, ncols=1, figsize=(16, 10))\n",
    "ax.set_aspect(aspect=\"equal\", adjustable=\"datalim\")\n",
    "\n",
    "\n",
    "## Plot the Polygon\n",
    "ax.plot(ex_poly.exterior.xy[0], ex_poly.exterior.xy[1], color=\"green\", linestyle=\"-\", label=\"Polygon\")\n",
    "\n",
    "# Plot the MultiPolygon\n",
    "for idx, poly in enumerate(ex_mpoly.geoms):\n",
    "    ax.plot(poly.exterior.xy[0], poly.exterior.xy[1], color=\"magenta\", linestyle=\"-\", label=\"MultiPolygon\" if idx == 0 else None)\n",
    "\n",
    "# Plot the UNION\n",
    "for idx, poly in enumerate(union_poly.geoms):\n",
    "    ax.plot(poly.exterior.xy[0], poly.exterior.xy[1], color=\"brown\", linestyle=\"--\", label=\"Union\" if idx == 0 else None, linewidth=5)\n",
    "\n",
    "# Plot the INTERSECTION\n",
    "#ax.plot(inter_poly.exterior.xy[0], inter_poly.exterior.xy[1], color=\"brown\", linestyle=\"--\", label=\"Intersection\", linewidth=5)\n",
    "\n",
    "# Plot the DIFFERENCE\n",
    "#ax.plot(diff_poly.exterior.xy[0], diff_poly.exterior.xy[1], color=\"brown\", linestyle=\"--\", label=\"Difference\", linewidth=5)\n",
    "\n",
    "# Plot the SYMMETRIC DIFFERENCE\n",
    "#for idx, poly in enumerate(symdiff_poly.geoms):\n",
    "#    ax.plot(poly.exterior.xy[0], poly.exterior.xy[1], color=\"brown\", linestyle=\"--\", label=\"SymDiff\" if idx == 0 else None, linewidth=5)\n",
    "\n",
    "# Finalize plot\n",
    "ax.legend()\n",
    "ax.set_title(label=\"My OPERATION geometries!\")\n",
    "ax.set_xlabel(xlabel=\"X-axis (in some units)\")\n",
    "ax.set_ylabel(ylabel=\"Y-axis (in some units)\")\n",
    "\n",
    "# Show the plot\n",
    "plt.show()\n"
   ]
  },
  {
   "cell_type": "markdown",
   "id": "181c0579",
   "metadata": {},
   "source": [
    "# Real world application"
   ]
  },
  {
   "cell_type": "code",
   "execution_count": null,
   "id": "ccd2f6b3",
   "metadata": {},
   "outputs": [],
   "source": [
    "# Get amphibian distribution area from Quebec\n",
    "# Note: you don't need to know about GeoPandas until a while (more like couple of minutes)\n",
    "gdf_amp = gpd.read_file(filename=\"https://diffusion.mffp.gouv.qc.ca/Diffusion/DonneeGratuite/Faune/Aires_repartition/Amphibien/SQLite/Aires_repartition_amphibiens.sqlite\")\n",
    "amph_geom = gdf_amp.geometry\n",
    "amph_crs = gdf_amp.crs"
   ]
  },
  {
   "cell_type": "code",
   "execution_count": null,
   "id": "2d9a9f68",
   "metadata": {},
   "outputs": [],
   "source": [
    "# For now, suppose you have geometries and know their CRS\n",
    "print(\"CRS for the amphibian geometries:\")\n",
    "print(amph_crs)\n",
    "print(type(amph_crs))\n",
    "print(amph_crs.is_projected)\n",
    "print(amph_crs.area_of_use)"
   ]
  },
  {
   "cell_type": "code",
   "execution_count": null,
   "id": "30159768",
   "metadata": {},
   "outputs": [],
   "source": [
    "# What is amph_geom?\n",
    "print(amph_geom.head())\n",
    "print(\"\\nType of amph_geom:\", type(amph_geom.geometry))\n",
    "print(\"Type of amph_geom[0]:\", type(amph_geom.geometry[0]))"
   ]
  },
  {
   "cell_type": "code",
   "execution_count": null,
   "id": "8eebfebe",
   "metadata": {},
   "outputs": [],
   "source": [
    "# Look at the first one\n",
    "#amph_geom[0]"
   ]
  },
  {
   "cell_type": "code",
   "execution_count": null,
   "id": "e15d9e01",
   "metadata": {},
   "outputs": [],
   "source": [
    "# Get geometries\n",
    "#\n",
    "# anam = Anaxyrus americanus, American toad\n",
    "# lysi = Lithobates sylvaticus, Wood frog\n",
    "# lipa = Lithobates palustris, Leopard frog\n",
    "#\n",
    "anam = amph_geom[0]\n",
    "lysi = amph_geom[1]\n",
    "lipa = amph_geom[2]"
   ]
  },
  {
   "cell_type": "code",
   "execution_count": null,
   "id": "a3e81a7f",
   "metadata": {},
   "outputs": [],
   "source": [
    "# Print number of geometries in each MultiPolygon\n",
    "print(\"Number of geometries in anam:\", len(anam.geoms))\n",
    "print(\"Number of geometries in lysi:\", len(lysi.geoms))\n",
    "print(\"Number of geometries in lipa:\", len(lipa.geoms))"
   ]
  },
  {
   "cell_type": "code",
   "execution_count": null,
   "id": "653916d9",
   "metadata": {},
   "outputs": [],
   "source": [
    "# Plot them\n",
    "# Geometries are visual thingies (bis)\n",
    "fig, ax = plt.subplots(nrows=1, ncols=1, figsize=(16, 10))\n",
    "ax.set_aspect(aspect=\"equal\", adjustable=\"datalim\")\n",
    "\n",
    "for idx, polygon in enumerate(anam.geoms):\n",
    "    ax.plot(polygon.exterior.xy[0], polygon.exterior.xy[1], color=\"green\", label=\"Anaxyrus americanus\" if idx == 0 else None, linewidth=0.5)\n",
    "\n",
    "for idx, polygon in enumerate(lysi.geoms):\n",
    "    ax.plot(polygon.exterior.xy[0], polygon.exterior.xy[1], color=\"blue\", label=\"Lithobates sylvaticus\" if idx == 0 else None, linewidth=0.5)\n",
    "\n",
    "for idx, polygon in enumerate(lipa.geoms):\n",
    "    ax.plot(polygon.exterior.xy[0], polygon.exterior.xy[1], color=\"red\", label=\"Lithobates palustris\" if idx == 0 else None, linewidth=0.5)\n",
    "\n",
    "# Set title and axes\n",
    "ax.set_title(label=\"Distribution areas for three amphibian species in Quebec\")\n",
    "ax.set_xlabel(xlabel=\"Easting (in m)\")\n",
    "ax.set_ylabel(ylabel=\"Northing (in m)\")\n",
    "\n",
    "# Show legend\n",
    "ax.legend()\n",
    "\n",
    "# Show plot\n",
    "plt.show()"
   ]
  },
  {
   "cell_type": "code",
   "execution_count": null,
   "id": "f416b2ff",
   "metadata": {},
   "outputs": [],
   "source": [
    "# Get some operations\n",
    "ope_1 = anam & lysi & lipa\n",
    "#ope_1 = anam.union(lysi.union(lipa))\n",
    "#\n",
    "ope_2 = anam - lysi \n",
    "#ope_2 = anam.difference(lysi)\n",
    "#\n",
    "ope_3 = lysi - (anam | lipa)\n",
    "#ope_3 = lysi.difference(anam.union(lipa))"
   ]
  },
  {
   "cell_type": "code",
   "execution_count": null,
   "id": "5cdf8def",
   "metadata": {},
   "outputs": [],
   "source": [
    "# Plotting\n",
    "fig, ax = plt.subplots(nrows=1, ncols=1, figsize=(16, 10))\n",
    "ax.set_aspect(aspect=\"equal\", adjustable=\"datalim\")\n",
    "\n",
    "for idx, polygon in enumerate(ope_1.geoms):\n",
    "    if isinstance(polygon, shapely.geometry.Polygon):\n",
    "        ax.plot(polygon.exterior.xy[0], polygon.exterior.xy[1], color=\"blue\", label=\"Either species\" if idx == 0 else None, linewidth=0.5)\n",
    "\n",
    "for idx, polygon in enumerate(ope_2.geoms):\n",
    "    if isinstance(polygon, shapely.geometry.Polygon):\n",
    "        ax.plot(polygon.exterior.xy[0], polygon.exterior.xy[1], color=\"green\", label=\"LYSI, but not ANAM\" if idx == 0 else None, linewidth=0.5)\n",
    "\n",
    "for idx, polygon in enumerate(ope_3.geoms):\n",
    "    if isinstance(polygon, shapely.geometry.Polygon):\n",
    "        ax.plot(polygon.exterior.xy[0], polygon.exterior.xy[1], color=\"red\", label=\"ANAM, but neither LYSI nor LIPA\" if idx == 0 else None, linewidth=0.5)\n",
    "\n",
    "\n",
    "# Set title and axes\n",
    "ax.set_title(label=\"Calculations using distribution areas for three amphibians in Quebec (ugly version)\")\n",
    "ax.set_xlabel(xlabel=\"Easting (in m)\")\n",
    "ax.set_ylabel(ylabel=\"Northing (in m)\")\n",
    "\n",
    "# Show legend\n",
    "ax.legend()\n",
    "\n",
    "# Show plot\n",
    "plt.show()"
   ]
  },
  {
   "cell_type": "code",
   "execution_count": null,
   "id": "1ad3a6b8",
   "metadata": {},
   "outputs": [],
   "source": [
    "# Print basic info for each operation\n",
    "#\n",
    "print(\"# of geoms in ope_1:\", len(ope_1.geoms))\n",
    "print(\"# geoms with area < 1m^2 in ope_1:\", sum(1 for poly in ope_1.geoms if poly.area > 1.0))\n",
    "#\n",
    "print(\"\\n# of geoms in ope_2:\", len(ope_2.geoms))\n",
    "print(\"# geoms with area < 1m^2 in ope_1:\", sum(1 for poly in ope_2.geoms if poly.area > 1.0))\n",
    "#\n",
    "print(\"\\n# of geoms in ope_3:\", len(ope_3.geoms))\n",
    "print(\"# geoms with area < 1m^2 in ope_1:\", sum(1 for poly in ope_3.geoms if poly.area > 1.0))\n"
   ]
  },
  {
   "cell_type": "code",
   "execution_count": null,
   "id": "11c373c1",
   "metadata": {},
   "outputs": [],
   "source": [
    "# Write small but HELPFUL function\n",
    "def filter_by_area(geom, min_area=0):\n",
    "    return [polygon for polygon in geom.geoms if isinstance(polygon, shapely.geometry.Polygon) and polygon.area >= min_area]"
   ]
  },
  {
   "cell_type": "code",
   "execution_count": null,
   "id": "3d11bb3f",
   "metadata": {},
   "outputs": [],
   "source": [
    "# Plotting\n",
    "fig, ax = plt.subplots(nrows=1, ncols=1, figsize=(16, 10))\n",
    "ax.set_aspect(aspect=\"equal\", adjustable=\"datalim\")\n",
    "\n",
    "# Set a cutoff value\n",
    "cutoff_val = 1.0\n",
    "\n",
    "for idx, polygon in enumerate(filter_by_area(geom=ope_1, min_area=cutoff_val)):\n",
    "        ax.plot(polygon.exterior.xy[0], polygon.exterior.xy[1], color=\"blue\", label=\"Either species\" if idx == 0 else None, linewidth=0.5)\n",
    "\n",
    "for idx, polygon in enumerate(filter_by_area(geom=ope_2, min_area=cutoff_val)):\n",
    "        ax.plot(polygon.exterior.xy[0], polygon.exterior.xy[1], color=\"green\", label=\"ANAM, but neither LYSI or LIPA\" if idx == 0 else None, linewidth=0.5)\n",
    "\n",
    "for idx, polygon in enumerate(filter_by_area(geom=ope_3, min_area=cutoff_val)):\n",
    "        ax.plot(polygon.exterior.xy[0], polygon.exterior.xy[1], color=\"red\", label=\"LYSI, but not ANAM\" if idx == 0 else None, linewidth=0.5)\n",
    "\n",
    "# Set title and axes labels\n",
    "ax.set_title(label=\"Calculations using distribution areas for three amphibians in Quebec (pretty version)\")\n",
    "ax.set_xlabel(xlabel=\"Easting (in m)\")\n",
    "ax.set_ylabel(ylabel=\"Northing (in m)\")\n",
    "\n",
    "# Show legend\n",
    "ax.legend()\n",
    "\n",
    "# Show plot\n",
    "plt.show()"
   ]
  },
  {
   "cell_type": "markdown",
   "id": "aa10632f",
   "metadata": {},
   "source": [
    "# HANDO PYPROJO"
   ]
  },
  {
   "cell_type": "code",
   "execution_count": null,
   "id": "2a194907",
   "metadata": {},
   "outputs": [],
   "source": [
    "# Load GeoJSON file\n",
    "with open(file=\"../data/dinagat.geojson\", mode=\"r\") as f:\n",
    "    geojson_dico = json.load(fp=f)"
   ]
  },
  {
   "cell_type": "code",
   "execution_count": null,
   "id": "64f00c5c",
   "metadata": {},
   "outputs": [],
   "source": [
    "print(geojson_dico)\n",
    "print(type(geojson_dico))"
   ]
  },
  {
   "cell_type": "code",
   "execution_count": null,
   "id": "be1592b6",
   "metadata": {},
   "outputs": [],
   "source": [
    "geojson_dico"
   ]
  },
  {
   "cell_type": "code",
   "execution_count": null,
   "id": "2097e1c2",
   "metadata": {},
   "outputs": [],
   "source": [
    "# Extract the \"geometry\" key of the dictionary and use\n",
    "# the shape() function to transform it into a shapely geometry\n",
    "dinagat_point = shapely.geometry.shape(context=geojson_dico[\"geometry\"])\n",
    "\n",
    "# Print it!\n",
    "print(dinagat_point)\n",
    "print(type(dinagat_point))"
   ]
  },
  {
   "cell_type": "code",
   "execution_count": null,
   "id": "a6b4974a",
   "metadata": {},
   "outputs": [],
   "source": [
    "# Select geometry for Pseudacris triseta, western chorus frog\n",
    "pstr = amph_geom[10]\n",
    "\n",
    "# Look at it!\n",
    "print(\"Info about pstr:\")\n",
    "print(\"\\n- Type:\", type(pstr))\n",
    "print(\"\\n- Number of geometries:\", len(pstr.geoms), \"\\n\")\n",
    "for idx, poly in enumerate(pstr.geoms):\n",
    "    print(f\"- Number of points in poly #{idx}:\", len(poly.exterior.xy[0]))"
   ]
  },
  {
   "cell_type": "code",
   "execution_count": null,
   "id": "f407ae95",
   "metadata": {},
   "outputs": [],
   "source": [
    "# Look at it!\n",
    "print(pstr)"
   ]
  },
  {
   "cell_type": "code",
   "execution_count": null,
   "id": "3fefb68b",
   "metadata": {},
   "outputs": [],
   "source": [
    "# Define transformer from NAD83 to WGS84\n",
    "# (Just like a couple of minutes ago!)\n",
    "transformer = pyproj.Transformer.from_crs(crs_from=\"EPSG:32198\", crs_to=\"EPSG:4326\", always_xy=True)\n",
    "\n",
    "# Transform the MultiPolygon\n",
    "pstr_4326 = shapely.ops.transform(func=transformer.transform, geom=pstr)\n",
    "\n",
    "# Look at it!\n",
    "print(pstr_4326)"
   ]
  },
  {
   "cell_type": "code",
   "execution_count": null,
   "id": "a781b270",
   "metadata": {},
   "outputs": [],
   "source": [
    "# The mapping function maps (duh) an object from shapely's WKT\n",
    "# format to a GeoJSON-like dictionary.\n",
    "pstr_map = shapely.geometry.mapping(ob=pstr_4326)\n",
    "#\n",
    "print(type(pstr_map))\n",
    "(pstr_map)"
   ]
  },
  {
   "cell_type": "code",
   "execution_count": null,
   "id": "4ba6fb6f",
   "metadata": {},
   "outputs": [],
   "source": [
    "# Insert your mapped dictionary into a geojson-like dictionary.\n",
    "geojson_dico_pstr = {\n",
    "    \"type\": \"FeatureCollection\",\n",
    "    \"features\": [\n",
    "        {\n",
    "            \"type\": \"Feature\",\n",
    "            \"geometry\": pstr_map,\n",
    "            \"properties\": {\n",
    "                \"sc_name\": \"Pseudacris triseriata\",\n",
    "                \"fr_name\": \"Rainette faux-grillon de l'ouest\",\n",
    "                \"en_name\": \"Western chorus frog\",\n",
    "            }\n",
    "        }\n",
    "    ]\n",
    "}"
   ]
  },
  {
   "cell_type": "code",
   "execution_count": null,
   "id": "78d8fe1e",
   "metadata": {},
   "outputs": [],
   "source": [
    "# Have a look at it!\n",
    "print(json.dumps(obj=geojson_dico_pstr, indent=2))"
   ]
  },
  {
   "cell_type": "code",
   "execution_count": null,
   "id": "54a447a2",
   "metadata": {},
   "outputs": [],
   "source": [
    "# Save the file as a .geojson file\n",
    "with open(file=\"../data/pstr_area.geojson\", mode=\"w\") as f:\n",
    "    json.dump(obj=geojson_dico_pstr, fp=f, indent=2)"
   ]
  }
 ],
 "metadata": {
  "kernelspec": {
   "display_name": ".venv",
   "language": "python",
   "name": "python3"
  },
  "language_info": {
   "codemirror_mode": {
    "name": "ipython",
    "version": 3
   },
   "file_extension": ".py",
   "mimetype": "text/x-python",
   "name": "python",
   "nbconvert_exporter": "python",
   "pygments_lexer": "ipython3",
   "version": "3.13.3"
  }
 },
 "nbformat": 4,
 "nbformat_minor": 5
}
