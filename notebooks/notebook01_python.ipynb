{
 "cells": [
  {
   "cell_type": "markdown",
   "id": "dde6fb46",
   "metadata": {},
   "source": [
    "# Python workshop - 2025\n",
    "\n",
    "<div>\n",
    "    <img src=\"../images/qcbs_logo_v2.svg\" style=\"background-color: #f0f0f0; padding: 20px;\"/>\n",
    "</div>\n",
    "\n",
    "<div>\n",
    "    <img src=\"../images/python_logo_generic.svg\" style=\"background-color: #f0f0f0; padding: 20px;\"/>\n",
    "</div>\n",
    "\n",
    "**Last update**: 2025-05-19  \n",
    "**Author**: El-Amine Mimouni  \n",
    "**Affiliation**: Québec Centre for Biodiversity Science\n",
    "\n",
    "**Overview**: In this notebook, we will have a general introduction to Python.\n",
    "\n",
    "---\n",
    "\n",
    "# Python\n",
    "\n",
    "Python is a programming language.\n"
   ]
  },
  {
   "cell_type": "markdown",
   "id": "c6af2292",
   "metadata": {},
   "source": [
    "## Section 0: Notebook considerations\n",
    "\n",
    "In a notebook, only the last command is returned to the standard output.\n",
    "\n",
    "If in a cell you want to see several outputs, you need to explicitly use the `print()` function."
   ]
  },
  {
   "cell_type": "code",
   "execution_count": null,
   "id": "d4a7a82b",
   "metadata": {},
   "outputs": [],
   "source": [
    "# Create a variable\n",
    "x = 3\n",
    "x"
   ]
  },
  {
   "cell_type": "code",
   "execution_count": null,
   "id": "cbbd9151",
   "metadata": {},
   "outputs": [],
   "source": [
    "# Cells are connected in a linear way\n",
    "x"
   ]
  },
  {
   "cell_type": "code",
   "execution_count": null,
   "id": "ece89794",
   "metadata": {},
   "outputs": [],
   "source": [
    "# Only the last declared variable gets\n",
    "# printed out to the standard output.\n",
    "x\n",
    "x * 2"
   ]
  },
  {
   "cell_type": "code",
   "execution_count": null,
   "id": "ca6d0007",
   "metadata": {},
   "outputs": [],
   "source": [
    "# If you want more than one variable to be\n",
    "# returned to the standard output, you must\n",
    "# explicitly use the print() function.\n",
    "print(x)\n",
    "print(x * 2)"
   ]
  },
  {
   "cell_type": "code",
   "execution_count": null,
   "id": "b112174e",
   "metadata": {},
   "outputs": [],
   "source": [
    "# I will add comments so that the results\n",
    "# printed do not appear like numbers without\n",
    "# meaning.\n",
    "#\n",
    "print(\"The value of x is:\", x)\n",
    "#\n",
    "print(\"\\nThe value of x * 2 is:\", x * 2)"
   ]
  },
  {
   "cell_type": "markdown",
   "id": "f1dc9175",
   "metadata": {},
   "source": [
    "# Section 1: Variables and basic data types\n",
    "\n",
    "\n",
    "In Python, **variables** are used to store information.\n",
    "\n",
    "The variable is the name that you assign to your object.\n",
    "It refers to a particular object in memory (more on that in a while).\n",
    "\n",
    "The **object** is the actual data that the variable \n",
    "\n",
    "In conclusion, the variable does not **contain** an object but **refers** to it."
   ]
  },
  {
   "cell_type": "code",
   "execution_count": null,
   "id": "852a5efc",
   "metadata": {},
   "outputs": [],
   "source": [
    "# Create a variable called \"my_var\" and assign it\n",
    "# the value 15.\n",
    "my_var = 15\n",
    "\n",
    "# Print it out to the standard output (explicitly)\n",
    "print(my_var)"
   ]
  },
  {
   "cell_type": "markdown",
   "id": "3806236d",
   "metadata": {},
   "source": [
    "In Python, there are various data **types**"
   ]
  },
  {
   "cell_type": "code",
   "execution_count": null,
   "id": "10974896",
   "metadata": {},
   "outputs": [],
   "source": [
    "# Integer\n",
    "x1 = 5\n",
    "print(\"The value of x1 is:\", x1)\n",
    "\n",
    "# Float\n",
    "x2 = 3.14\n",
    "print(\"\\nThe value of x2 is:\", x2)\n",
    "\n",
    "# String\n",
    "x3 = \"Guido van Rossum\"\n",
    "print(\"\\nThe value of x3 is:\", x3)\n",
    "\n",
    "# Boolean\n",
    "x4 = True\n",
    "print(\"\\nThe value of x4 is:\", x4)"
   ]
  },
  {
   "cell_type": "markdown",
   "id": "e36da57c",
   "metadata": {},
   "source": [
    "# Basic math operators"
   ]
  },
  {
   "cell_type": "code",
   "execution_count": null,
   "id": "0cace900",
   "metadata": {},
   "outputs": [],
   "source": [
    "# Addition\n",
    "print(\"An addition: 3 + 2 =\",  3 + 2)\n",
    "\n",
    "# Subtraction\n",
    "print(\"\\nA subtraction: 3 - 2 =\",  3 - 2)\n",
    "\n",
    "# Multiplication\n",
    "print(\"\\nA multiplication: 3 * 2 =\",  3 * 2)\n",
    "\n",
    "# Multiplication\n",
    "print(\"\\nA division: 3 / 2 =\",  3 / 2)\n",
    "\n",
    "# Note: in Python, the power operator is ** and not ^ (as in some languages like R)\n",
    "print(\"\\nAn exponentiation: 3 ** 2 =\",  3 ** 2)"
   ]
  },
  {
   "cell_type": "markdown",
   "id": "d8ca83fc",
   "metadata": {},
   "source": [
    "# Functions, types and class\n",
    "Functions are identified by their parenthese and are applied to values.\n",
    "The function `print()` was one of them.\n",
    "\n",
    "In the `print()` function, `sep` is an **parameter** (which is a variable) and the value you pass to it is the **argument**."
   ]
  },
  {
   "cell_type": "code",
   "execution_count": null,
   "id": "75abc128",
   "metadata": {},
   "outputs": [],
   "source": [
    "# The round() function will round a floating point\n",
    "# value to the nearest integer\n",
    "round(number=2.86)"
   ]
  },
  {
   "cell_type": "code",
   "execution_count": null,
   "id": "a04ca754",
   "metadata": {},
   "outputs": [],
   "source": [
    "# The print() function will print something to the\n",
    "# standard output\n",
    "print(\"hello, world\")"
   ]
  },
  {
   "cell_type": "code",
   "execution_count": null,
   "id": "11c0a0a4",
   "metadata": {},
   "outputs": [],
   "source": [
    "# Some function can accept several values\n",
    "print(\"a1\", \"b2\", \"c3\")"
   ]
  },
  {
   "cell_type": "code",
   "execution_count": null,
   "id": "066babb4",
   "metadata": {},
   "outputs": [],
   "source": [
    "# Some parameters can be named, others not\n",
    "# BTW parameter is the name of the variable\n",
    "# and argument is the value given.\n",
    "print(\"a1\", \"b2\", \"c3\", sep=\" \")"
   ]
  },
  {
   "cell_type": "code",
   "execution_count": null,
   "id": "26eccabc",
   "metadata": {},
   "outputs": [],
   "source": [
    "# The type() function returns the type of an object\n",
    "type(x1)"
   ]
  },
  {
   "cell_type": "code",
   "execution_count": null,
   "id": "1f9498cb",
   "metadata": {},
   "outputs": [],
   "source": [
    "# Functions can be nested, as can be seen below:\n",
    "print(\"The type of x1 is:\", type(x1))\n",
    "\n",
    "print(\"\\nThe type of x2 is:\", type(x2))\n",
    "\n",
    "print(\"\\nThe type of x3 is:\", type(x3))\n",
    "\n",
    "print(\"\\nThe type of x4 is:\", type(x4))"
   ]
  },
  {
   "cell_type": "code",
   "execution_count": null,
   "id": "bd8ae518",
   "metadata": {},
   "outputs": [],
   "source": [
    "# Special notice regarding f-strings\n",
    "y = 1/3\n",
    "\n",
    "#\n",
    "print(\"The value of y is\", y)\n",
    "print(f\"The value of y is {y}\")\n",
    "print(f\"The value of y is {y:.2f}\")\n",
    "\n",
    "# Despite its formatting, it remains a string\n",
    "print(\"\\nThe type of the f-string is:\", type(f\"The value of y is {y:.2f}\"))"
   ]
  },
  {
   "cell_type": "markdown",
   "id": "5c92da04",
   "metadata": {},
   "source": [
    "# Writing functions\n",
    "\n",
    "In Python, as in other programming languages, you can use functions, which are blocks of reusable code.\n",
    "\n",
    "You can evidently also write your own functions.\n",
    "\n",
    "In Python, INDENTATION is life!"
   ]
  },
  {
   "cell_type": "code",
   "execution_count": null,
   "id": "ac9ff99c",
   "metadata": {},
   "outputs": [],
   "source": [
    "# Define your own function\n",
    "def add_two(num1, num2):\n",
    "    # A block of code\n",
    "    out = num1 + num2\n",
    "    # Return statement\n",
    "    return out"
   ]
  },
  {
   "cell_type": "code",
   "execution_count": null,
   "id": "2c1504d0",
   "metadata": {},
   "outputs": [],
   "source": [
    "# Errors in your function\n",
    "#def add_two_v2(num1, num2):\n",
    "# A block of code\n",
    "#out = num1 + num2\n",
    "# Return statement\n",
    "#return out"
   ]
  },
  {
   "cell_type": "code",
   "execution_count": null,
   "id": "8a48fa63",
   "metadata": {},
   "outputs": [],
   "source": [
    "# Try it out\n",
    "print(\"Result of add_two(1, 5):\", add_two(1, 5))\n",
    "print(\"\\nResult of add_two(18.5, 1.2):\", add_two(18.5, 1.2))"
   ]
  },
  {
   "cell_type": "code",
   "execution_count": null,
   "id": "d8ff4d5a",
   "metadata": {},
   "outputs": [],
   "source": [
    "# You can use them with named parameters or not\n",
    "print(\"Result of add_two(1, 5):\", add_two(1, 5))\n",
    "print(\"\\nResult of add_two(num1=1, num2=5):\", add_two(num1=1, num2=5))"
   ]
  },
  {
   "cell_type": "code",
   "execution_count": null,
   "id": "b6a3c97f",
   "metadata": {},
   "outputs": [],
   "source": [
    "# But beware that a unnamed parameter must follow a named parameter\n",
    "print(\"Result of add_two(1, num2=5):\", add_two(1, num2=5))"
   ]
  },
  {
   "cell_type": "code",
   "execution_count": null,
   "id": "70af1715",
   "metadata": {},
   "outputs": [],
   "source": [
    "# But beware that a unnamed parameter must follow a named parameter\n",
    "#print(\"Result of add_two(num1=1, 5):\", add_two(num1=1, 5))"
   ]
  },
  {
   "cell_type": "markdown",
   "id": "1504064e",
   "metadata": {},
   "source": [
    "# Control flow logic\n",
    "\n",
    "This determines how the logic of your code behaves"
   ]
  },
  {
   "cell_type": "code",
   "execution_count": null,
   "id": "f03a1b4b",
   "metadata": {},
   "outputs": [],
   "source": [
    "# Comparison operators Return a bool value\n",
    "print(\"Result of 5.8 < 6.2:\", 5.8 < 6.2)\n",
    "print(\"\\nResult of 5.8 <= 6.2:\", 5.8 <= 6.2)\n",
    "print(\"\\nResult of 5.8 == 6.2:\", 5.8 == 6.2)\n",
    "print(\"\\nResult of 5.8 >= 6.2:\", 5.8 >= 6.2)\n",
    "print(\"\\nResult of 5.8 > 6.2:\", 5.8 > 6.2)\n",
    "print(\"\\nResult of 5.8 != 6.2:\", 5.8 != 6.2)"
   ]
  },
  {
   "cell_type": "code",
   "execution_count": null,
   "id": "4927da9d",
   "metadata": {},
   "outputs": [],
   "source": [
    "# For loops and indentation.\n",
    "# Note the colon at the end and the loop\n",
    "for num in range(0, 5):\n",
    "    print(2 * num)"
   ]
  },
  {
   "cell_type": "code",
   "execution_count": null,
   "id": "fab966c8",
   "metadata": {},
   "outputs": [],
   "source": [
    "# Example from Criterion C (Small population size and decline):\n",
    "# The number of mature individuals is fewer than 2,500, and (more things)\n",
    "\n",
    "population = 867\n",
    "\n",
    "if population <= 2500:\n",
    "    print(\"This species is endangered!\")\n",
    "else:\n",
    "    print(\"It's okay.\")"
   ]
  },
  {
   "cell_type": "code",
   "execution_count": null,
   "id": "eeb560be",
   "metadata": {},
   "outputs": [],
   "source": [
    "# Possibility of considering ternary operator\n",
    "# Makes it look less programmatic and closer to human language\n",
    "\n",
    "population = 867\n",
    "print(\"This species is endangered!\" if population <= 2500 else \"It's okay.\")"
   ]
  },
  {
   "cell_type": "markdown",
   "id": "e9dedcd9",
   "metadata": {},
   "source": [
    "# Classes and instantiation\n",
    "\n",
    "Objects can be created through class instantiation.\n",
    "\n",
    "Classes are the blueprint for types (we will create one later).\n",
    "\n",
    "it uses the constructor method (i.e. `__init__`)\n"
   ]
  },
  {
   "cell_type": "code",
   "execution_count": null,
   "id": "2da1739d",
   "metadata": {},
   "outputs": [],
   "source": [
    "# Integer\n",
    "x5 = int(5)\n",
    "print(\"The type of x5 is:\", type(x5))\n",
    "\n",
    "# Float\n",
    "x6 = float(18.57)\n",
    "print(\"\\nThe type of x6 is:\", type(x6))\n",
    "\n",
    "# String\n",
    "x7 = str(\"I am a bird\")\n",
    "print(\"\\nThe type of x7 is:\", type(x7))\n",
    "\n",
    "# Boolean\n",
    "x8 = bool(False)\n",
    "print(\"\\nThe type of x8 is:\", type(x8))"
   ]
  },
  {
   "cell_type": "code",
   "execution_count": null,
   "id": "755bc1f6",
   "metadata": {},
   "outputs": [],
   "source": [
    "# The classes themselves belong to the class \"type\", which is a class and the metaclass\n",
    "print(\"int is of type:\", type(int))\n",
    "print(\"\\nfloat is of type:\", type(float))\n",
    "print(\"\\nstr is of type:\", type(str))\n",
    "print(\"\\nbool is of type:\", type(bool))"
   ]
  },
  {
   "cell_type": "code",
   "execution_count": null,
   "id": "c7f99381",
   "metadata": {},
   "outputs": [],
   "source": [
    "# Ask questions about the classes\n",
    "print(\"Is x5 an instance of int?\", isinstance(x5, int))\n",
    "print(\"Is x5 an instance of str?\", isinstance(x5, str))\n",
    "print(\"Is x5 an instance of bool?\", isinstance(x5, bool))\n",
    "#\n",
    "print(\"\\nIs x6 an instance of float?\", isinstance(x6, float))\n",
    "print(\"Is x7 an instance of str?\", isinstance(x7, str))\n",
    "print(\"Is x8 an instance of bool?\", isinstance(x8, bool))"
   ]
  },
  {
   "cell_type": "markdown",
   "id": "6c7f26d4",
   "metadata": {},
   "source": [
    "# Attributes and methods\n",
    "\n",
    "In python, OBJECT hold both data and functions. That is to say that they hold both data and ways to operate on it.\n",
    "\n",
    "Class attributes can be instance attributes or class attributes (not seen here but straightforward)\n",
    "\n",
    "Methods are accessed through `.` notation.\n",
    "\n",
    "**NEVER** use `.` in variable names!\n",
    "\n",
    "In comparison, **method** is a function that is only accessible to objects of a certain type."
   ]
  },
  {
   "cell_type": "code",
   "execution_count": null,
   "id": "b7101b26",
   "metadata": {},
   "outputs": [],
   "source": [
    "print(\"The value of x7:\")\n",
    "print(x7)\n",
    "#\n",
    "print(\"\\nFirst use of the function upper() - not Pythonic:\")\n",
    "print(str.upper(x7))\n",
    "#\n",
    "print(\"\\nSecond use of the function upper() as a method - Pythonic:\")\n",
    "print(x7.upper())"
   ]
  },
  {
   "cell_type": "code",
   "execution_count": null,
   "id": "c5e9380e",
   "metadata": {},
   "outputs": [],
   "source": [
    "# .upper() is a method only accessible to objects of type \"str\"\n",
    "# bool, int or float can't use it\n",
    "#print(True.upper())"
   ]
  },
  {
   "cell_type": "code",
   "execution_count": null,
   "id": "2224fbce",
   "metadata": {},
   "outputs": [],
   "source": [
    "# See the difference visually\n",
    "print(sum)\n",
    "print(add_two)\n",
    "#\n",
    "print(\"\\n\")\n",
    "#\n",
    "print(str.upper)\n",
    "print(str.capitalize)"
   ]
  },
  {
   "cell_type": "code",
   "execution_count": null,
   "id": "04af7b67",
   "metadata": {},
   "outputs": [],
   "source": [
    "# Note that methods can be chained\n",
    "# Uppercase then replace\n",
    "# Similar to a pipe operator\n",
    "print(\"Value of x7:\")\n",
    "print(x7)\n",
    "\n",
    "print(\"\\nResult of x7.upper():\")\n",
    "print(x7.upper())\n",
    "\n",
    "#\n",
    "print('\\nResult of x7.upper().replace(\"BIRD\", \"FISH\"):')\n",
    "print(x7.upper().replace(\"BIRD\", \"FISH\"))"
   ]
  },
  {
   "cell_type": "markdown",
   "id": "1d5743f2",
   "metadata": {},
   "source": [
    "# Another\n",
    "\n",
    "You may not have noticed it, but in VARIOUS programming languages, operators are functions.\n",
    "\n",
    "But they can be different \n",
    "\n",
    "Dunder methods come in the form of `__something__`."
   ]
  },
  {
   "cell_type": "code",
   "execution_count": null,
   "id": "eaf0ff28",
   "metadata": {},
   "outputs": [],
   "source": [
    "print(\"Value of x6:\", x6)\n",
    "print(\"Result of x6 * 4:\", x6 * 4)\n",
    "#\n",
    "print(\"\\n\")\n",
    "#\n",
    "print(\"Value of x7:\", x7)\n",
    "print(\"Result of x7 * 4:\", x7 * 4)"
   ]
  },
  {
   "cell_type": "code",
   "execution_count": null,
   "id": "4fd67a5e",
   "metadata": {},
   "outputs": [],
   "source": [
    "# The method .__rmul__ relates to how the objects relate to the * operator\n",
    "print(\"For x6:\", x6.__rmul__)\n",
    "print(\"For x7:\", x7.__rmul__)"
   ]
  },
  {
   "cell_type": "code",
   "execution_count": null,
   "id": "4f37f4dc",
   "metadata": {},
   "outputs": [],
   "source": [
    "# Example of creating your own class\n",
    "# Note the uppercase\n",
    "class Vector:\n",
    "\n",
    "    # Use CONSTRUCTOR function to create an instance\n",
    "    def __init__(self, v1, v2):\n",
    "        self.v1 = v1\n",
    "        self.v2 = v2\n",
    "\n",
    "    # Define how it is represented\n",
    "    # We can use an f-string (which we just saw)\n",
    "    def __repr__(self):\n",
    "        return f\"Vector({self.v1}, {self.v2})\"\n",
    "\n",
    "    # Define a method to return the norm of a vector\n",
    "    def norm(self):\n",
    "        return (self.v1 ** 2.0  + self.v2 ** 2.0) ** 0.5\n",
    "\n",
    "    # Define a method to return the normalized vector\n",
    "    # Here, the vector doesn't just give you a value, but a new instance\n",
    "    # of a Vector() object\n",
    "    def normalize(self):\n",
    "        v_norm = self.norm()\n",
    "        return Vector(self.v1 / v_norm, self.v2 / v_norm)\n",
    "\n",
    "    # Define a method to return the addition of two vectors\n",
    "    def addition(self, other):\n",
    "            return Vector(self.v1 + other.v1, self.v2 + other.v2)\n",
    "\n",
    "    # Define a method to return the addition of two vectors\n",
    "    # But this time, define how it interacts with the + operator\n",
    "    def __add__(self, other):\n",
    "            return Vector(self.v1 + other.v1, self.v2 + other.v2)"
   ]
  },
  {
   "cell_type": "code",
   "execution_count": null,
   "id": "af77b46e",
   "metadata": {},
   "outputs": [],
   "source": [
    "# Create an instance of the Vector class.\n",
    "my_vec = Vector(v1=3, v2=4)\n",
    "\n",
    "# Look at it!\n",
    "print(my_vec)"
   ]
  },
  {
   "cell_type": "code",
   "execution_count": null,
   "id": "f35812b1",
   "metadata": {},
   "outputs": [],
   "source": [
    "# We can access attributes of the Vectors\n",
    "print(my_vec.v1)"
   ]
  },
  {
   "cell_type": "code",
   "execution_count": null,
   "id": "c5b73c26",
   "metadata": {},
   "outputs": [],
   "source": [
    "# We can have them access methods\n",
    "print(my_vec.norm())"
   ]
  },
  {
   "cell_type": "code",
   "execution_count": null,
   "id": "085716c1",
   "metadata": {},
   "outputs": [],
   "source": [
    "# We can have them access methods\n",
    "print(my_vec.normalize())\n",
    "\n",
    "# Verify that after normalization, the norm of\n",
    "# a vector is 1.\n",
    "print(my_vec.normalize().norm())"
   ]
  },
  {
   "cell_type": "code",
   "execution_count": null,
   "id": "c6eabb4e",
   "metadata": {},
   "outputs": [],
   "source": [
    "# Create two instance of your vector class\n",
    "vector1 = Vector(v1=3, v2=4)\n",
    "vector2 = Vector(v1=1, v2=2)\n",
    "\n",
    "# Compare results of addition and __add__\n",
    "print(\"\\nResult of vector1.addition(vector2):\", vector1.addition(vector2))\n",
    "print(\"Result of vector1 + vector2:\", vector1 + vector2)\n"
   ]
  },
  {
   "cell_type": "markdown",
   "id": "acb734f7",
   "metadata": {},
   "source": [
    "# Lists and Dictionaries\n",
    "\n",
    "## Lists\n",
    "Lists store **ordered** collections. They are ordered because they can be indexed.\n"
   ]
  },
  {
   "cell_type": "code",
   "execution_count": null,
   "id": "a03ce89a",
   "metadata": {},
   "outputs": [],
   "source": [
    "# List of numbers\n",
    "ex_list = [10, 20, 30, 40, 50]\n",
    "print(ex_list)"
   ]
  },
  {
   "cell_type": "markdown",
   "id": "4f7927d8",
   "metadata": {},
   "source": [
    "Python indexing is 0-based, so the first element is numbered 0 and not 1."
   ]
  },
  {
   "cell_type": "code",
   "execution_count": null,
   "id": "b76197a5",
   "metadata": {},
   "outputs": [],
   "source": [
    "# Access elements\n",
    "print(\"Value at index 0:\", ex_list[0])\n",
    "print(\"Value at index 1:\", ex_list[1])\n",
    "print(\"Value at index 2:\", ex_list[2])"
   ]
  },
  {
   "cell_type": "markdown",
   "id": "5e3172d7",
   "metadata": {},
   "source": [
    "Python also allows negative based indexing, which is based on 1-indexing."
   ]
  },
  {
   "cell_type": "code",
   "execution_count": null,
   "id": "dcabc0b9",
   "metadata": {},
   "outputs": [],
   "source": [
    "# Access elements\n",
    "print(ex_list[-1])\n",
    "print(ex_list[-2])\n",
    "print(ex_list[-3])"
   ]
  },
  {
   "cell_type": "markdown",
   "id": "26b62306",
   "metadata": {},
   "source": [
    "You can also use slicing to select particular ranges of values.\n",
    "In this case, considered elements range from the first up to BUT NOT CONSIDERING the last value."
   ]
  },
  {
   "cell_type": "code",
   "execution_count": null,
   "id": "16ff1fdd",
   "metadata": {},
   "outputs": [],
   "source": [
    "print(\"The example list:\")\n",
    "print(ex_list)\n",
    "\n",
    "print(\"\\nThe first two values:\")\n",
    "print(ex_list[0:2])\n",
    "\n",
    "print(\"\\nValues three to five:\")\n",
    "print(ex_list[2:5])"
   ]
  },
  {
   "cell_type": "code",
   "execution_count": null,
   "id": "a991f668",
   "metadata": {},
   "outputs": [],
   "source": [
    "# Be careful when considering negative based slicing!\n",
    "print(ex_list[-2:-1])\n",
    "print(ex_list[-2:])"
   ]
  },
  {
   "cell_type": "code",
   "execution_count": null,
   "id": "3d452b36",
   "metadata": {},
   "outputs": [],
   "source": [
    "# Actually the most general form of indexing is:\n",
    "print(ex_list[:])\n",
    "\n",
    "# It selects all elements of the list"
   ]
  },
  {
   "cell_type": "code",
   "execution_count": null,
   "id": "3ce7903d",
   "metadata": {},
   "outputs": [],
   "source": [
    "# List arithmetic\n",
    "# Funny unexpected behavior for newcomers\n",
    "\n",
    "# Adding 1 to the list will throw an error\n",
    "#ex_list + 1"
   ]
  },
  {
   "cell_type": "code",
   "execution_count": null,
   "id": "e2562460",
   "metadata": {},
   "outputs": [],
   "source": [
    "# List arithmetic\n",
    "# Funny unexpected behavior for newcomers\n",
    "\n",
    "# Adding [1] to the list will CONCATENATE it to the list\n",
    "ex_list + [1]"
   ]
  },
  {
   "cell_type": "code",
   "execution_count": null,
   "id": "2de34068",
   "metadata": {},
   "outputs": [],
   "source": [
    "# List arithmetic\n",
    "# Funny unexpected behavior for newcomers\n",
    "\n",
    "# Multiplying the list by 2 will NOT give you a new list with values doubled.\n",
    "ex_list * 2"
   ]
  },
  {
   "cell_type": "code",
   "execution_count": null,
   "id": "7814f2eb",
   "metadata": {},
   "outputs": [],
   "source": [
    "# You should use list comprehension\n",
    "[2 * x for x in ex_list]"
   ]
  },
  {
   "cell_type": "code",
   "execution_count": null,
   "id": "8dda8dbc",
   "metadata": {},
   "outputs": [],
   "source": [
    "# List comprehension is more than just changing the list\n",
    "# It can involve filtering it on particular values\n",
    "#\n",
    "# for, in, if and and are reserved keywords that add flexibility\n",
    "# to your statements\n",
    "#\n",
    "[x for x in ex_list if x > 20]"
   ]
  },
  {
   "cell_type": "code",
   "execution_count": null,
   "id": "b221d8d3",
   "metadata": {},
   "outputs": [],
   "source": [
    "# List comprehension is more than just changing the list\n",
    "# It can involve filtering it on particular values\n",
    "#\n",
    "# for, in, if and and are reserved keywords that add flexibility\n",
    "# to your statements\n",
    "#\n",
    "[x for x in ex_list if x > 20 and x != 40]"
   ]
  },
  {
   "cell_type": "markdown",
   "id": "5c1ed1c4",
   "metadata": {},
   "source": [
    "# Tuples\n"
   ]
  },
  {
   "cell_type": "code",
   "execution_count": null,
   "id": "3a3b888b",
   "metadata": {},
   "outputs": [],
   "source": [
    "# TUPLES\n",
    "ex_tuple = (50, 40, 30, 20, 10)"
   ]
  },
  {
   "cell_type": "code",
   "execution_count": null,
   "id": "63014c73",
   "metadata": {},
   "outputs": [],
   "source": [
    "# Tuples values are accessed in the same way as lists\n",
    "ex_tuple[0:3]"
   ]
  },
  {
   "cell_type": "code",
   "execution_count": null,
   "id": "3dfb2b13",
   "metadata": {},
   "outputs": [],
   "source": [
    "# A tuple is similar to a list but one difference is that\n",
    "# it is immutable\n",
    "# Values cannot be changed once set.\n",
    "#ex_tuple[0] = 20"
   ]
  },
  {
   "cell_type": "code",
   "execution_count": null,
   "id": "a384f765",
   "metadata": {},
   "outputs": [],
   "source": [
    "# Be careful when considering a 1-tuple.\n",
    "print((10.5))\n",
    "print(type((10.5)))\n",
    "#\n",
    "print(\"\\n\")\n",
    "print((10.5,))\n",
    "print(type((10.5,)))"
   ]
  },
  {
   "cell_type": "markdown",
   "id": "4b9ac412",
   "metadata": {},
   "source": [
    "# Dictionaries\n",
    "\n",
    "Dictionaries store **key-value** pairs."
   ]
  },
  {
   "cell_type": "code",
   "execution_count": null,
   "id": "4207f328",
   "metadata": {},
   "outputs": [],
   "source": [
    "# Dictionary of a person\n",
    "obs_1 = {\n",
    "    \"species\": \"Ramphastos toco\",\n",
    "    \"abundance\": 5,\n",
    "    \"time\": \"2025-05-16T14:28:00+00:00\"\n",
    "        }\n",
    "\n",
    "print(obs_1)\n",
    "print(\"\\n\")\n",
    "\n",
    "# Access by key\n",
    "print(obs_1[\"species\"])\n",
    "print(obs_1[\"abundance\"])\n",
    "print(obs_1[\"time\"])"
   ]
  },
  {
   "cell_type": "code",
   "execution_count": null,
   "id": "59491170",
   "metadata": {},
   "outputs": [],
   "source": [
    "# It can get nested\n",
    "obs_2 = {\n",
    "    \"species\": \"Amphiprion ocellaris\",\n",
    "    \"abundance\": 3,\n",
    "    \"coordinates\": [-18.29, 147.70]\n",
    "    }\n",
    "\n",
    "print(obs_2)\n",
    "print(\"\\n\")\n",
    "\n",
    "# Access by key\n",
    "print(obs_2[\"species\"])\n",
    "print(obs_2[\"abundance\"])\n",
    "print(obs_2[\"coordinates\"])"
   ]
  },
  {
   "cell_type": "markdown",
   "id": "34688adf",
   "metadata": {},
   "source": [
    "# Opening files"
   ]
  },
  {
   "cell_type": "code",
   "execution_count": null,
   "id": "b53deb82",
   "metadata": {},
   "outputs": [],
   "source": [
    "# Open file for reading\n",
    "f = open(file=\"../data/cities.txt\", mode=\"r\")\n",
    "\n",
    "# Read the entire content of the file\n",
    "content = f.readlines()\n",
    "\n",
    "# Close the file\n",
    "f.close()\n",
    "\n",
    "print(content)\n",
    "print(type(content))"
   ]
  },
  {
   "cell_type": "code",
   "execution_count": null,
   "id": "402d350d",
   "metadata": {},
   "outputs": [],
   "source": [
    "# A better way is with a within a context block\n",
    "with open(file=\"../data/cities.txt\", mode=\"r\") as f:\n",
    "    cities = f.readlines()\n",
    "\n",
    "# Look at the content\n",
    "print(cities)\n",
    "print(type(cities))"
   ]
  },
  {
   "cell_type": "code",
   "execution_count": null,
   "id": "bfbaebc6",
   "metadata": {},
   "outputs": [],
   "source": [
    "# Clean up the first city name\n",
    "cities[0].strip().lower().capitalize()"
   ]
  },
  {
   "cell_type": "code",
   "execution_count": null,
   "id": "03faf55f",
   "metadata": {},
   "outputs": [],
   "source": [
    "# Combine it with list expansion explained earlier to clean all the names in one go\n",
    "cities_clean = [city.strip().lower().capitalize() for city in cities]\n",
    "\n",
    "# See the result\n",
    "print(cities_clean)"
   ]
  },
  {
   "cell_type": "code",
   "execution_count": null,
   "id": "edbf414f",
   "metadata": {},
   "outputs": [],
   "source": [
    "# Export cleaned city names with a context block\n",
    "with open(file=\"../data/cities_clean.txt\", mode=\"w\") as f:\n",
    "    # Write each city on a new line\n",
    "    for city in cities_clean:\n",
    "        # Add a newline character to separate each city\n",
    "        f.write(city + \"\\n\")"
   ]
  },
  {
   "cell_type": "markdown",
   "id": "c22aa801",
   "metadata": {},
   "source": [
    "# *ARGS and **KWARGS"
   ]
  },
  {
   "cell_type": "code",
   "execution_count": null,
   "id": "bdc95329",
   "metadata": {},
   "outputs": [],
   "source": [
    "def add2(x1, x2):\n",
    "    return x1 + x2\n",
    "\n",
    "def add3(x1, x2, x3):\n",
    "    return x1 + x2 + x3\n",
    "\n",
    "# Note: You enter them in the function definition with the *,\n",
    "# but you don't use them with the * in the function body\n",
    "def add_many(*args):\n",
    "    out = sum(args)\n",
    "    return out\n",
    "\n",
    "add_many(2, 3, 4, 5)"
   ]
  },
  {
   "cell_type": "code",
   "execution_count": null,
   "id": "469405e1",
   "metadata": {},
   "outputs": [],
   "source": [
    "# See the print function\n",
    "print"
   ]
  },
  {
   "cell_type": "code",
   "execution_count": null,
   "id": "56510643",
   "metadata": {},
   "outputs": [],
   "source": [
    "# It can get nested\n",
    "obs_2 = {\n",
    "    \"species\": \"Amphiprion ocellaris\",\n",
    "    \"abundance\": 3,\n",
    "    \"coordinates\": [-18.29, 147.70]\n",
    "    }\n",
    "\n",
    "print(obs_2)\n",
    "print(\"\\n\")\n",
    "\n",
    "# Access by key\n",
    "print(obs_2[\"species\"])\n",
    "print(obs_2[\"abundance\"])\n",
    "print(obs_2[\"coordinates\"])"
   ]
  },
  {
   "cell_type": "code",
   "execution_count": null,
   "id": "f8ef651b",
   "metadata": {},
   "outputs": [],
   "source": [
    "# Remember the two dicos\n",
    "print(obs_1)\n",
    "print(obs_2)"
   ]
  },
  {
   "cell_type": "code",
   "execution_count": null,
   "id": "bd75eaa7",
   "metadata": {},
   "outputs": [],
   "source": [
    "def print_info(**kwargs):\n",
    "    # Print info for all objects.\n",
    "    print(\"Description of a biodiversity occurrence.\")\n",
    "\n",
    "    # Function will behave differently depending on\n",
    "    # supplied **kwargs.\n",
    "    if \"species\" in kwargs:\n",
    "        print(f\"Species observed: {kwargs[\"species\"]}\")\n",
    "    if \"abundance\" in kwargs:\n",
    "        print(f\"Number of individuals: {kwargs[\"abundance\"]}\")\n",
    "    if \"coordinates\" in kwargs:\n",
    "        print(f\"Location: {kwargs[\"coordinates\"]}\")"
   ]
  },
  {
   "cell_type": "code",
   "execution_count": null,
   "id": "1906a383",
   "metadata": {},
   "outputs": [],
   "source": [
    "# Use it on obs_1\n",
    "print_info(**obs_1)"
   ]
  },
  {
   "cell_type": "code",
   "execution_count": null,
   "id": "ca7ff03c",
   "metadata": {},
   "outputs": [],
   "source": [
    "# Use it on obs_1\n",
    "print_info(**obs_2)"
   ]
  },
  {
   "cell_type": "markdown",
   "id": "4a85ec9b",
   "metadata": {},
   "source": [
    "# List unpacking"
   ]
  },
  {
   "cell_type": "code",
   "execution_count": null,
   "id": "8dbb7eb2",
   "metadata": {},
   "outputs": [],
   "source": [
    "# A list is made up of ordered elements (by their index that is)\n",
    "out = [10, 20, 30, 40]\n",
    "\n",
    "# A bad way to extract values\n",
    "a = out[0]\n",
    "b = out[1]\n",
    "c = out[2]\n",
    "d = out[3]\n",
    "\n",
    "# See their values\n",
    "print(\"Value of a:\", a)\n",
    "print(\"Value of b:\", b)\n",
    "print(\"Value of c:\", c)\n",
    "print(\"Value of d:\", d)"
   ]
  },
  {
   "cell_type": "code",
   "execution_count": null,
   "id": "20044330",
   "metadata": {},
   "outputs": [],
   "source": [
    "# A list\n",
    "out = [10, 20, 30, 40]\n",
    "\n",
    "# Extract the values of a list in one go\n",
    "a, b, c, d = out\n",
    "\n",
    "# See their values\n",
    "print(\"Value of a:\", a)\n",
    "print(\"Value of b:\", b)\n",
    "print(\"Value of c:\", c)\n",
    "print(\"Value of d:\", d)"
   ]
  },
  {
   "cell_type": "markdown",
   "id": "968d9246",
   "metadata": {},
   "source": [
    "# The _ object\n",
    "\n",
    "The `_` object has a meaning in Python"
   ]
  },
  {
   "cell_type": "code",
   "execution_count": null,
   "id": "8a0638f2",
   "metadata": {},
   "outputs": [],
   "source": [
    "# An operation that is returned to STDOUT\n",
    "3 + 3.5"
   ]
  },
  {
   "cell_type": "code",
   "execution_count": null,
   "id": "ddc6b5b8",
   "metadata": {},
   "outputs": [],
   "source": [
    "# See the value of _\n",
    "_"
   ]
  },
  {
   "cell_type": "code",
   "execution_count": null,
   "id": "85a38b82",
   "metadata": {},
   "outputs": [],
   "source": [
    "# A list\n",
    "out = [10, 20, 30, 40]\n",
    "\n",
    "# I want a and b, but do not care about c and d\n",
    "# I don't want to waste effort in naming them or\n",
    "# allotting memory for them\n",
    "a, b, _, _ = out\n",
    "\n",
    "# See their values\n",
    "print(\"Value of a:\", a)\n",
    "print(\"Value of b:\", b)"
   ]
  },
  {
   "cell_type": "markdown",
   "id": "0285b0dc",
   "metadata": {},
   "source": [
    "# Memory and whatnot"
   ]
  },
  {
   "cell_type": "code",
   "execution_count": null,
   "id": "1dbf172c",
   "metadata": {},
   "outputs": [],
   "source": [
    "for i in range(0, 19):\n",
    "    print(\"The number\", i, \"in hexadecimal is\", hex(i))"
   ]
  },
  {
   "cell_type": "code",
   "execution_count": null,
   "id": "8c1e2baf",
   "metadata": {},
   "outputs": [],
   "source": [
    "val = 3.8\n",
    "#\n",
    "print(id(val))\n",
    "print(hex(id(val)))\n",
    "#\n",
    "print(\"\\n\")\n",
    "#\n",
    "print(type(id(val)))\n",
    "print(type(hex(id(val))))"
   ]
  },
  {
   "cell_type": "code",
   "execution_count": null,
   "id": "88c11d38",
   "metadata": {},
   "outputs": [],
   "source": [
    "list_1 = [1.8]\n",
    "list_2 = list_1\n",
    "list_3 = list_1.copy()\n",
    "#\n",
    "print(\"Contents of list_1:\", list_1)\n",
    "print(\"Contents of list_2:\", list_2)\n",
    "print(\"Contents of list_3:\", list_3)\n",
    "#\n",
    "print(\"\\n\")\n",
    "#\n",
    "print(\"Unique identifier for list_1:\", id(list_1))\n",
    "print(\"Unique identifier for list_2:\", id(list_2))\n",
    "print(\"Unique identifier for list_3:\", id(list_3))"
   ]
  },
  {
   "cell_type": "code",
   "execution_count": null,
   "id": "179098c8",
   "metadata": {},
   "outputs": [],
   "source": [
    "# Innucuously change the value of the only element in list_2\n",
    "list_2[0] = 3\n",
    "\n",
    "# Look at the values again\n",
    "#\n",
    "print(\"Contents of list_1:\", list_1)\n",
    "print(\"Contents of list_2:\", list_2)\n",
    "print(\"Contents of list_3:\", list_3)"
   ]
  },
  {
   "cell_type": "markdown",
   "id": "c011e1ee",
   "metadata": {},
   "source": [
    "# Iterators and enumerate"
   ]
  },
  {
   "cell_type": "code",
   "execution_count": null,
   "id": "64d391bb",
   "metadata": {},
   "outputs": [],
   "source": [
    "values = [10, 20, 30, 40]\n",
    "print(values)"
   ]
  },
  {
   "cell_type": "code",
   "execution_count": null,
   "id": "b741acba",
   "metadata": {},
   "outputs": [],
   "source": [
    "for x in values:\n",
    "    print(x * 2)"
   ]
  },
  {
   "cell_type": "code",
   "execution_count": null,
   "id": "244ad02e",
   "metadata": {},
   "outputs": [],
   "source": [
    "for idx in range(0, len(values)):\n",
    "    print(f\"Value number {idx} times two is {2 * values[idx]}\")"
   ]
  },
  {
   "cell_type": "code",
   "execution_count": null,
   "id": "40a0a104",
   "metadata": {},
   "outputs": [],
   "source": [
    "# Consider enumerate\n",
    "print(enumerate(values))\n",
    "print(type(enumerate(values)))"
   ]
  },
  {
   "cell_type": "code",
   "execution_count": null,
   "id": "78785683",
   "metadata": {},
   "outputs": [],
   "source": [
    "for idx, val in enumerate(values):\n",
    "    print(f\"Value number {idx} times two is {2 * val}\")"
   ]
  },
  {
   "cell_type": "markdown",
   "id": "b530d6a0",
   "metadata": {},
   "source": [
    "# Packages"
   ]
  },
  {
   "cell_type": "code",
   "execution_count": null,
   "id": "5335e4f8",
   "metadata": {},
   "outputs": [],
   "source": [
    "# Importing a package is as simple as:\n",
    "import math"
   ]
  },
  {
   "cell_type": "code",
   "execution_count": null,
   "id": "a8c7d767",
   "metadata": {},
   "outputs": [],
   "source": [
    "# You can now use the methods of the math package\n",
    "math.sqrt(4)"
   ]
  },
  {
   "cell_type": "code",
   "execution_count": null,
   "id": "59b821c7",
   "metadata": {},
   "outputs": [],
   "source": [
    "# Print information about the package\n",
    "print(math)\n",
    "print(type(math))"
   ]
  },
  {
   "cell_type": "code",
   "execution_count": null,
   "id": "a4748969",
   "metadata": {},
   "outputs": [],
   "source": [
    "# Packages can be aliased\n",
    "import math as mt"
   ]
  },
  {
   "cell_type": "code",
   "execution_count": null,
   "id": "bc0cbf0e",
   "metadata": {},
   "outputs": [],
   "source": [
    "# Now the package \"mt\" is calleable as a separate object\n",
    "mt.sqrt(4)"
   ]
  },
  {
   "cell_type": "code",
   "execution_count": null,
   "id": "21f5c67f",
   "metadata": {},
   "outputs": [],
   "source": [
    "# You can also import individual functions as:\n",
    "from math import log, sin, cos, pi"
   ]
  },
  {
   "cell_type": "code",
   "execution_count": null,
   "id": "6072cdff",
   "metadata": {},
   "outputs": [],
   "source": [
    "# By doing so, these are accessible from the current namespace\n",
    "# This means you can call them directly\n",
    "print(\"The logarithm of 1:\", log(1))\n",
    "print(\"Cosine of pi:\", cos(pi))"
   ]
  },
  {
   "cell_type": "code",
   "execution_count": null,
   "id": "018680e8",
   "metadata": {},
   "outputs": [],
   "source": [
    "# Just so you know, you can also use:\n",
    "from math import *\n",
    "\n",
    "# This imports EVERY function from math into the current namespace\n",
    "# Not the best, but at least you know"
   ]
  },
  {
   "cell_type": "code",
   "execution_count": null,
   "id": "2082f5b7",
   "metadata": {},
   "outputs": [],
   "source": [
    "# Import the json module\n",
    "import json"
   ]
  },
  {
   "cell_type": "code",
   "execution_count": null,
   "id": "e8929b66",
   "metadata": {},
   "outputs": [],
   "source": [
    "# Load the pteropus.json file\n",
    "with open(file=\"../data/pteropus.json\", mode=\"r\") as f:\n",
    "    ptero = json.load(fp=f)"
   ]
  },
  {
   "cell_type": "code",
   "execution_count": null,
   "id": "87058aa5",
   "metadata": {},
   "outputs": [],
   "source": [
    "# Print it!\n",
    "print(ptero)\n",
    "print(type(ptero))"
   ]
  }
 ],
 "metadata": {
  "kernelspec": {
   "display_name": ".venv",
   "language": "python",
   "name": "python3"
  },
  "language_info": {
   "codemirror_mode": {
    "name": "ipython",
    "version": 3
   },
   "file_extension": ".py",
   "mimetype": "text/x-python",
   "name": "python",
   "nbconvert_exporter": "python",
   "pygments_lexer": "ipython3",
   "version": "3.13.3"
  }
 },
 "nbformat": 4,
 "nbformat_minor": 5
}
