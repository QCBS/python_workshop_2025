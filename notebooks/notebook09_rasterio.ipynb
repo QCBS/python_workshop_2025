{
 "cells": [
  {
   "cell_type": "markdown",
   "id": "217e718e",
   "metadata": {},
   "source": [
    "# Python workshop - 2025\n",
    "\n",
    "<div>\n",
    "    <img src=\"../images/qcbs_logo_v2.svg\" style=\"background-color: #f0f0f0; padding: 20px;\"/>\n",
    "</div>\n",
    "\n",
    "<div>\n",
    "    <img src=\"../images/python_logo_generic.svg\" style=\"background-color: #f0f0f0; padding: 20px;\"/>\n",
    "</div>\n",
    "\n",
    "**Last update**: 2025-05-19  \n",
    "**Author**: El-Amine Mimouni  \n",
    "**Affiliation**: Québec Centre for Biodiversity Science\n",
    "\n",
    "**Overview**: In this notebook, we will see how to work with raster data.\n",
    "\n",
    "---\n",
    "\n",
    "# Rasterio\n",
    "\n",
    "## General information\n",
    "\n",
    "Information on rasterio can be found at:\n",
    "[https://rasterio.readthedocs.io/en/stable/index.html](https://rasterio.readthedocs.io/en/stable/index.html)\n",
    "\n",
    "Though part of rasterio, information on affine can be found at:\n",
    "[https://affine.readthedocs.io/en/latest/](https://affine.readthedocs.io/en/latest/)"
   ]
  },
  {
   "cell_type": "code",
   "execution_count": null,
   "id": "9891e5c0",
   "metadata": {},
   "outputs": [],
   "source": [
    "# Today's star\n",
    "import rasterio\n",
    "import rasterio.plot\n",
    "import rasterio.mask\n",
    "\n",
    "# Other actors\n",
    "import numpy as np\n",
    "import pandas as pd\n",
    "import pyproj\n",
    "import geopandas as gpd\n",
    "import matplotlib.pyplot as plt"
   ]
  },
  {
   "cell_type": "code",
   "execution_count": null,
   "id": "7d196290",
   "metadata": {},
   "outputs": [],
   "source": [
    "# Change print options to show numbers in regular format\n",
    "# (i.e. non-scientific notation)\n",
    "np.set_printoptions(suppress=True)"
   ]
  },
  {
   "cell_type": "markdown",
   "id": "b22e1c61",
   "metadata": {},
   "source": [
    "# Image basics"
   ]
  },
  {
   "cell_type": "code",
   "execution_count": null,
   "id": "0d02c952",
   "metadata": {},
   "outputs": [],
   "source": [
    "# Read in an image\n",
    "# For the moment just get metadata\n",
    "with rasterio.open(fp=\"https://inaturalist-open-data.s3.amazonaws.com/photos/179312657/original.jpg\", mode=\"r\") as src:\n",
    "    # Extract the metadata\n",
    "    koala_meta = src.meta"
   ]
  },
  {
   "cell_type": "code",
   "execution_count": null,
   "id": "204639d7",
   "metadata": {},
   "outputs": [],
   "source": [
    "koala_meta"
   ]
  },
  {
   "cell_type": "code",
   "execution_count": null,
   "id": "5f8b5fec",
   "metadata": {},
   "outputs": [],
   "source": [
    "with rasterio.open(\"https://inaturalist-open-data.s3.amazonaws.com/photos/179312657/original.jpg\") as src:\n",
    "    band_r = src.read(1)\n",
    "    band_g = src.read(2)\n",
    "    band_b = src.read(3)\n",
    "\n",
    "# Stack bands into an RGB image and transpose for plotting\n",
    "# The parameter axis=-1 sets the new dimension (in this case\n",
    "# color channel) to be the last dimension (i.e. -1).\n",
    "rgb_image = np.stack(arrays=(band_r, band_g, band_b), axis=-1)\n",
    "\n",
    "# Too bad we can't see pillow..."
   ]
  },
  {
   "cell_type": "code",
   "execution_count": null,
   "id": "19c71662",
   "metadata": {},
   "outputs": [],
   "source": [
    "# Set up the plot\n",
    "fig, ax = plt.subplots(nrows=1, ncols=1, figsize=(14, 6))\n",
    "\n",
    "# Display the raster using imshow\n",
    "img = ax.imshow(X=rgb_image)\n",
    "\n",
    "# Label axes and title\n",
    "# We're entering dangerous LaTeX territory...\n",
    "ax.set_title(label=\"Picture of a koala ($\\\\mathit{Phascolarctos\\\\ cinereus}$)\\nnear Brisbane, Australia\")\n",
    "ax.set_xlabel(xlabel=\"Pixel row number\")\n",
    "ax.set_ylabel(ylabel=\"Pixel column number\")\n",
    "\n",
    "# Show plot (IRL/JK)\n",
    "plt.show()"
   ]
  },
  {
   "cell_type": "code",
   "execution_count": null,
   "id": "1437df57",
   "metadata": {},
   "outputs": [],
   "source": [
    "# Set up the plot\n",
    "fig, ax = plt.subplots(nrows=1, ncols=1, figsize=(14, 6))\n",
    "\n",
    "# Display the raster using imshow\n",
    "img = ax.imshow(X=band_g, cmap=\"gray\")\n",
    "\n",
    "# Label axes and title\n",
    "ax.set_title(label=\"Picture of a koala ($\\\\mathit{Phascolarctos\\\\ cinereus}$)\\nnear Brisbane, Australia\")\n",
    "ax.set_xlabel(xlabel=\"Pixel row number\")\n",
    "ax.set_ylabel(ylabel=\"Pixel column number\")\n",
    "\n",
    "# Add a scalebar\n",
    "fig.colorbar(img, ax=ax, shrink=1.0, label=\"Pixel intensity\")\n",
    "\n",
    "# Show plot (IRL/JK)\n",
    "plt.show()"
   ]
  },
  {
   "cell_type": "markdown",
   "id": "d717ff09",
   "metadata": {},
   "source": [
    "*Photo by [Penelope Lind](https://www.inaturalist.org/people/plind) on [iNaturalist](https://www.inaturalist.org/observations/106709637), licensed under [CC BY-NC 4.0](https://creativecommons.org/licenses/by-nc/4.0/).*"
   ]
  },
  {
   "cell_type": "markdown",
   "id": "402942c2",
   "metadata": {},
   "source": [
    "# Onwards with georeferenced data"
   ]
  },
  {
   "cell_type": "code",
   "execution_count": null,
   "id": "cd1c5871",
   "metadata": {},
   "outputs": [],
   "source": [
    "# Read in WorldClim data\n",
    "# For the moment just get metadata\n",
    "with rasterio.open(fp=\"/vsizip/vsicurl/https://geodata.ucdavis.edu/climate/worldclim/2_1/base/wc2.1_5m_bio.zip/wc2.1_5m_bio_3.tif\", mode=\"r\") as src:\n",
    "    # Extract the metadata\n",
    "    src_meta = src.meta\n",
    "    # This will be very useful later\n",
    "    src_extent = rasterio.plot.plotting_extent(src)"
   ]
  },
  {
   "cell_type": "code",
   "execution_count": null,
   "id": "4685f9cf",
   "metadata": {},
   "outputs": [],
   "source": [
    "# Look at the metadata\n",
    "print(\"Metadata dictionary:\")\n",
    "src_meta"
   ]
  },
  {
   "cell_type": "code",
   "execution_count": null,
   "id": "b9934a1c",
   "metadata": {},
   "outputs": [],
   "source": [
    "# CRS does not look to be our conventional PyProj CRS\n",
    "print(src_meta[\"crs\"])\n",
    "print(type(src_meta[\"crs\"]))"
   ]
  },
  {
   "cell_type": "code",
   "execution_count": null,
   "id": "c02f373c",
   "metadata": {},
   "outputs": [],
   "source": [
    "# Proofo PyProjo\n",
    "# Convert to pyproj CRS\n",
    "pyproj_crs = pyproj.CRS.from_user_input(src_meta[\"crs\"])\n",
    "\n",
    "# Look at it!\n",
    "print(pyproj_crs)\n",
    "print(type(pyproj_crs))"
   ]
  },
  {
   "cell_type": "code",
   "execution_count": null,
   "id": "2a8e20a5",
   "metadata": {},
   "outputs": [],
   "source": [
    "# Read in WorldClim data\n",
    "# This time extract band1\n",
    "# Note: Rasterio uses GDAL numbering so first band is 1\n",
    "with rasterio.open(fp=\"/vsizip/vsicurl/https://geodata.ucdavis.edu/climate/worldclim/2_1/base/wc2.1_5m_bio.zip/wc2.1_5m_bio_1.tif\", mode=\"r\") as src:\n",
    "    # Read in the first band\n",
    "    bio1 = src.read(1)\n",
    "\n",
    "# Set up the plot\n",
    "fig, ax = plt.subplots(nrows=1, ncols=1, figsize=(18, 10))\n",
    "\n",
    "# Display the raster using imshow\n",
    "#\n",
    "# Technically you'll only get the occasional overflow error,\n",
    "# but it is better to use img = ax.imshow() rather than just\n",
    "# using ax.imshow()\n",
    "img = ax.imshow(X=bio1, cmap=\"gray\")\n",
    "\n",
    "# Label axes and title\n",
    "ax.set_title(label=\"Annual mean temperature (BIO1)\")\n",
    "ax.set_xlabel(xlabel=\"Pixel row number\")\n",
    "ax.set_ylabel(ylabel=\"Pixel column number\")\n",
    "\n",
    "# Add a colorbar\n",
    "fig.colorbar(img, ax=ax, shrink=0.7, label=\"Annual mean temperature (in \\u00B0C)\")\n",
    "\n",
    "# Show plot (IRL/JK)\n",
    "plt.show()"
   ]
  },
  {
   "cell_type": "code",
   "execution_count": null,
   "id": "7ac910f7",
   "metadata": {},
   "outputs": [],
   "source": [
    "# Extract the affine matrix (src_trans)\n",
    "src_trans = src_meta[\"transform\"]\n",
    "\n",
    "# Look at it!\n",
    "print(\"The affine matrix (Affine version):\")\n",
    "print(src_trans)\n",
    "print(type(src_trans))"
   ]
  },
  {
   "cell_type": "code",
   "execution_count": null,
   "id": "0f4a59a5",
   "metadata": {},
   "outputs": [],
   "source": [
    "# It's an Affine type matrix, but still a matrix\n",
    "# (i.e. type are not so important here)\n",
    "A = np.array(object=src_trans).reshape(3, 3)\n",
    "\n",
    "print(\"The affine matrix (NumPy version):\")\n",
    "print(A)\n",
    "print(type(A))"
   ]
  },
  {
   "cell_type": "code",
   "execution_count": null,
   "id": "92121c97",
   "metadata": {},
   "outputs": [],
   "source": [
    "# The affine matrix is key to allowing translation from pixel-space\n",
    "# to geographic-space\n",
    "\n",
    "# For the first pixel (0, 0)\n",
    "first_pixel = np.array([[0, 0, 1]]).T\n",
    "\n",
    "# Note: For those of you that wonder, you could also use\n",
    "# Note^2: In the first case, the -1 implies \"as many as\n",
    "# necessary\" so that it conforms\n",
    "# first_pixel = np.array([[0, 0, 1]]).reshape((-1, 1))\n",
    "# first_pixel = np.array([[0], [0], [1]])\n",
    "\n",
    "\n",
    "# See the values of the first pixel\n",
    "print(\"Pixel-coordinates of the first pixel (with 1 appended):\")\n",
    "print(first_pixel)\n",
    "print(first_pixel.shape)"
   ]
  },
  {
   "cell_type": "code",
   "execution_count": null,
   "id": "12d30a77",
   "metadata": {},
   "outputs": [],
   "source": [
    "# The real world coordinates of the firs pixel is simply\n",
    "# the product with the affine matrix A\n",
    "\n",
    "# See the values of the first pixel\n",
    "print(\"\\nGeographic coordinates of the first pixel (with 1 appended):\")\n",
    "print(A @ first_pixel)"
   ]
  },
  {
   "cell_type": "code",
   "execution_count": null,
   "id": "775bd2fa",
   "metadata": {},
   "outputs": [],
   "source": [
    "# For the last pixel (width-1, height-1)\n",
    "last_pixel = np.array([[4320-1, 2160-1, 1]]).T\n",
    "\n",
    "# See the values of the first pixel\n",
    "print(\"Pixel-coordinates of the last pixel (with 1 appended):\")\n",
    "print(last_pixel)\n",
    "\n",
    "# See the values of the first pixel\n",
    "print(\"\\nGeographic coordinates of the last pixel (with 1 appended):\")\n",
    "print(A @ last_pixel)"
   ]
  },
  {
   "cell_type": "code",
   "execution_count": null,
   "id": "c3318128",
   "metadata": {},
   "outputs": [],
   "source": [
    "# For a random pixel (2156, 1845)\n",
    "rand_pixel = np.array([[2156, 1845, 1]]).T\n",
    "\n",
    "# See the values of the first pixel\n",
    "print(\"Pixel-coordinates of a random pixel (with 1 appended):\")\n",
    "print(rand_pixel)\n",
    "\n",
    "# See the values of the first pixel\n",
    "print(\"\\nGeographic coordinates of a random pixel (with 1 appended):\")\n",
    "print(A @ rand_pixel)"
   ]
  },
  {
   "cell_type": "code",
   "execution_count": null,
   "id": "4f34b1d3",
   "metadata": {},
   "outputs": [],
   "source": [
    "# Numerical algebra quizzzzzzzz\n",
    "print(\"The determinant of A:\")\n",
    "print(np.linalg.det(a=A))\n",
    "\n",
    "# It is not equal to 0, so the matrix can be inverted\n",
    "# Yipeeee"
   ]
  },
  {
   "cell_type": "code",
   "execution_count": null,
   "id": "5bd269f6",
   "metadata": {},
   "outputs": [],
   "source": [
    "# SPAT_COO = A * PIX_XY\n",
    "#\n",
    "# A * PIX_XY = SPAT_COO\n",
    "# Am1 * A * PIX_X1 = Am1 * SPAT_COO\n",
    "# I * PIX_X1 = Am1 * SPAT_COO\n",
    "# PIX_X1 = Am1 * SPAT_COO"
   ]
  },
  {
   "cell_type": "code",
   "execution_count": null,
   "id": "52faed93",
   "metadata": {},
   "outputs": [],
   "source": [
    "# Considering the inverse affine matrix means we can do the opposite translation\n",
    "\n",
    "# Inverse affine:\n",
    "# Using the affine object\n",
    "print(\"Inverse of A (Affine version):\")\n",
    "print(~src_trans)\n",
    "print(type(~src_trans))\n",
    "\n",
    "# Using the NumPy matrix\n",
    "Am1 = np.linalg.inv(a=A)\n",
    "\n",
    "# Look at it!\n",
    "print(\"\\nInverse of A (NumPy version):\")\n",
    "print(Am1)\n",
    "print(type(Am1))"
   ]
  },
  {
   "cell_type": "code",
   "execution_count": null,
   "id": "b7c02b3a",
   "metadata": {},
   "outputs": [],
   "source": [
    "# Load the first five observations of desert pea.\n",
    "# We can be quick about it, no need for intermediate steps.\n",
    "# I take the time to remind you that .loc[] is location based,\n",
    "# so that 5 observations will be selected.\n",
    "pea5 = pd.read_csv(filepath_or_buffer=\"../data/desert_pea.csv\").loc[0:4 ,[\"decimalLongitude\", \"decimalLatitude\"]]\n",
    "\n",
    "# Append a colmn of 1's\n",
    "pea5_1 = np.hstack((pea5, np.ones(5).reshape(5, 1)))\n",
    "\n",
    "print(\"\\nCoordinates of first five observations with a column of 1s:\")\n",
    "print(pea5_1.T)"
   ]
  },
  {
   "cell_type": "code",
   "execution_count": null,
   "id": "6fa0b952",
   "metadata": {},
   "outputs": [],
   "source": [
    "# See the values of each cells\n",
    "print(\"\\nPixel coordinates of first five observations with a column of 1s:\")\n",
    "print(Am1 @ pea5_1.T)\n",
    "\n",
    "print(\"\\nRounded pixel coordinates of first five observations with a column of 1s:\")\n",
    "print(np.round(Am1 @ pea5_1.T))"
   ]
  },
  {
   "cell_type": "code",
   "execution_count": null,
   "id": "4e97f850",
   "metadata": {},
   "outputs": [],
   "source": [
    "# Get the pixel coordinates\n",
    "pea5_pixel = np.round(Am1 @ pea5_1.T)"
   ]
  },
  {
   "cell_type": "code",
   "execution_count": null,
   "id": "a09f0678",
   "metadata": {},
   "outputs": [],
   "source": [
    "# Set up the plot\n",
    "fig, ax = plt.subplots(nrows=1, ncols=1, figsize=(18, 10))\n",
    "\n",
    "# Display the raster using imshow\n",
    "img = ax.imshow(X=bio1, cmap=\"gray\")\n",
    "\n",
    "# Add the first five desert peas!!!!!\n",
    "ax.scatter(x=pea5_pixel[0, :], y=pea5_pixel[1, :], marker=\"+\", color=\"red\", s=35)\n",
    "\n",
    "# Label axes and title\n",
    "ax.set_title(label=\"Annual mean temperature (BIO1))\")\n",
    "ax.set_xlabel(xlabel=\"Pixel row number\")\n",
    "ax.set_ylabel(ylabel=\"Pixel column number\")\n",
    "\n",
    "# Add a colorbar\n",
    "fig.colorbar(img, ax=ax, shrink=0.7, label=\"Annual mean temperature (in \\u00B0C)\")\n",
    "\n",
    "# Show plot\n",
    "plt.show()"
   ]
  },
  {
   "cell_type": "code",
   "execution_count": null,
   "id": "37bd15d6",
   "metadata": {},
   "outputs": [],
   "source": [
    "# Finally, considering actual spatial coordinates\n",
    "# See that thing we extracted before\n",
    "print(\"The extent of the image:\")\n",
    "print(src_extent)\n",
    "print(type(src_extent))"
   ]
  },
  {
   "cell_type": "code",
   "execution_count": null,
   "id": "0aced473",
   "metadata": {},
   "outputs": [],
   "source": [
    "# Set up the plot\n",
    "fig, ax = plt.subplots(nrows=1, ncols=1, figsize=(18, 10))\n",
    "\n",
    "# Display the raster using imshow\n",
    "img = ax.imshow(X=bio1, cmap=\"gray\", extent=src_extent)\n",
    "\n",
    "# Label axes and title\n",
    "ax.set_title(label=\"Annual mean temperature (BIO1)\")\n",
    "ax.set_xlabel(xlabel=\"Longitude\")\n",
    "ax.set_ylabel(ylabel=\"Latitude\")\n",
    "\n",
    "# Add a colorbar\n",
    "fig.colorbar(img, ax=ax, shrink=0.7, label=\"Annual mean temperature (in \\u00B0C)\")\n",
    "\n",
    "# Show plot\n",
    "plt.show()"
   ]
  },
  {
   "cell_type": "markdown",
   "id": "8455965f",
   "metadata": {},
   "source": [
    "# Masks and whatnot"
   ]
  },
  {
   "cell_type": "code",
   "execution_count": null,
   "id": "dc55cb72",
   "metadata": {},
   "outputs": [],
   "source": [
    "# ENOUGH IS ENOUGH\n",
    "\n",
    "# Look at the data\n",
    "print(bio1)\n",
    "print(type(bio1))\n",
    "\n",
    "# 10^30 is a sedecillion.\n",
    "# 10^36 is a duodecillion.\n",
    "# 10^39 is a tredecillion."
   ]
  },
  {
   "cell_type": "code",
   "execution_count": null,
   "id": "5e2949e9",
   "metadata": {},
   "outputs": [],
   "source": [
    "# Read in WorldClim data\n",
    "# This time extract band1\n",
    "# Note: Rasterio uses GDAL numbering so first band is 1 (AGAIN)\n",
    "with rasterio.open(fp=\"/vsizip/vsicurl/https://geodata.ucdavis.edu/climate/worldclim/2_1/base/wc2.1_5m_bio.zip/wc2.1_5m_bio_1.tif\", mode=\"r\") as src:\n",
    "    # Read in the first band\n",
    "    bio1_m = src.read(1, masked=True)\n",
    "\n",
    "# Set up the plot\n",
    "fig, ax = plt.subplots(nrows=1, ncols=1, figsize=(18, 10))\n",
    "\n",
    "# Display the raster using imshow\n",
    "img = ax.imshow(X=bio1_m, cmap=\"gray\", extent=src_extent)\n",
    "\n",
    "# Label axes and title\n",
    "ax.set_title(label=\"Annual mean temperature (BIO1))\")\n",
    "ax.set_xlabel(xlabel=\"Longitude\")\n",
    "ax.set_ylabel(ylabel=\"Latitude\")\n",
    "\n",
    "# Add a colorbar\n",
    "fig.colorbar(img, ax=ax, shrink=0.7, label=\"Annual mean temperature (in \\u00B0C)\")\n",
    "\n",
    "# Show plot\n",
    "plt.show()"
   ]
  },
  {
   "cell_type": "code",
   "execution_count": null,
   "id": "d329bc95",
   "metadata": {},
   "outputs": [],
   "source": [
    "# Look at the newly changed data\n",
    "print(bio1_m)\n",
    "print(type(bio1_m))"
   ]
  },
  {
   "cell_type": "code",
   "execution_count": null,
   "id": "a4b8f136",
   "metadata": {},
   "outputs": [],
   "source": [
    "# BTW JFK\n",
    "# If you want to see the available colormaps in matplotlib\n",
    "print(plt.colormaps())"
   ]
  },
  {
   "cell_type": "markdown",
   "id": "576015e2",
   "metadata": {},
   "source": [
    "# Rasters a numpy arrays\n",
    "\n",
    "This means we can do more than just plotting."
   ]
  },
  {
   "cell_type": "code",
   "execution_count": null,
   "id": "c8f2fdd6",
   "metadata": {},
   "outputs": [],
   "source": [
    "# Using the same method, fetch data for:\n",
    "# - BIO2 (mean diurnal range)\n",
    "# - BIO5 (maximum temperature of the warmest month)\n",
    "# - BIO6 (minimum temperature of the coldest month)\n",
    "\n",
    "# Different calls because they are on different .zip files.\n",
    "with rasterio.open(fp=\"/vsizip/vsicurl/https://geodata.ucdavis.edu/climate/worldclim/2_1/base/wc2.1_5m_bio.zip/wc2.1_5m_bio_2.tif\", mode=\"r\") as src:\n",
    "    bio2 = src.read(1, masked=True)\n",
    "\n",
    "with rasterio.open(fp=\"/vsizip/vsicurl/https://geodata.ucdavis.edu/climate/worldclim/2_1/base/wc2.1_5m_bio.zip/wc2.1_5m_bio_5.tif\", mode=\"r\") as src:\n",
    "    bio5 = src.read(1, masked=True)\n",
    "\n",
    "with rasterio.open(fp=\"/vsizip/vsicurl/https://geodata.ucdavis.edu/climate/worldclim/2_1/base/wc2.1_5m_bio.zip/wc2.1_5m_bio_6.tif\", mode=\"r\") as src:\n",
    "    bio6 = src.read(1, masked=True)"
   ]
  },
  {
   "cell_type": "code",
   "execution_count": null,
   "id": "6200fa96",
   "metadata": {},
   "outputs": [],
   "source": [
    "# Compute BIO3 (isothemality) \"by hand\" (if your hand was a computer)\n",
    "#\n",
    "bio3 = bio2 / (bio5 - bio6) * 100.0"
   ]
  },
  {
   "cell_type": "code",
   "execution_count": null,
   "id": "28c0c99a",
   "metadata": {},
   "outputs": [],
   "source": [
    "# Set up the plot\n",
    "fig, ax = plt.subplots(nrows=1, ncols=1, figsize=(18, 10))\n",
    "\n",
    "# Display the raster using imshow\n",
    "# BTW they all have the same extent so we can use the same one\n",
    "img = ax.imshow(X=bio3, cmap=\"magma\", extent=src_extent)\n",
    "\n",
    "# Label axes and title\n",
    "ax.set_title(label=\"Isothermality (BIO3))\")\n",
    "ax.set_xlabel(xlabel=\"Longitude\")\n",
    "ax.set_ylabel(ylabel=\"Latitude\")\n",
    "\n",
    "# Add a colorbar\n",
    "fig.colorbar(img, ax=ax, shrink=0.7, label=\"Isothermality\")\n",
    "\n",
    "# Show plot\n",
    "plt.show()"
   ]
  },
  {
   "cell_type": "code",
   "execution_count": null,
   "id": "c62c104a",
   "metadata": {},
   "outputs": [],
   "source": [
    "# Just for kicks, read the actual BIO3\n",
    "with rasterio.open(fp=\"/vsizip/vsicurl/https://geodata.ucdavis.edu/climate/worldclim/2_1/base/wc2.1_5m_bio.zip/wc2.1_5m_bio_3.tif\", mode=\"r\") as src:\n",
    "    bio3_web = src.read(1, masked=True)\n",
    "\n",
    "# Create a scatter plot comparing the two\n",
    "fig, ax = plt.subplots(nrows=1, ncols=1, figsize=(18, 10))\n",
    "ax.set_aspect(aspect=\"equal\", adjustable=\"datalim\")\n",
    "\n",
    "# Show scatterplot\n",
    "ax.scatter(bio3_web.flatten(), bio3.flatten(), s=10)\n",
    "\n",
    "# Add the 1:1 line (y = x)\n",
    "ax.plot([0, 100], [0, 100], color=\"red\", linestyle=\"dashed\", label=\"1:1 line\")\n",
    "\n",
    "# Labeling the axes and title\n",
    "ax.set_title(label=\"Comparison of two BIO3 variables\")\n",
    "ax.set_xlabel(xlabel=\"BIO3 obtained online\")\n",
    "ax.set_ylabel(ylabel=\"BIO3 computed in this workshop\")\n",
    "\n",
    "# Show legend\n",
    "ax.legend()\n",
    "\n",
    "# Add abcissa and ordinate\n",
    "ax.axvline(x=0, color=\"black\", linestyle=\"dashed\", linewidth=1)\n",
    "ax.axhline(y=0, color=\"black\", linestyle=\"dashed\", linewidth=1)\n",
    "\n",
    "# Show the plot\n",
    "plt.show()"
   ]
  },
  {
   "cell_type": "markdown",
   "id": "0be4eaa8",
   "metadata": {},
   "source": [
    "# Cropping rasters"
   ]
  },
  {
   "cell_type": "code",
   "execution_count": null,
   "id": "17ca473d",
   "metadata": {},
   "outputs": [],
   "source": [
    "# Go fetch the Australian territories data once more.\n",
    "# Convert it to EPSG4326, the same CRS as the WORLDCLIM data.\n",
    "gdf_aus = gpd.read_file(filename=\"https://www.abs.gov.au/statistics/standards/australian-statistical-geography-standard-asgs-edition-3/jul2021-jun2026/access-and-downloads/digital-boundary-files/STE_2021_AUST_SHP_GDA2020.zip\")\n",
    "gdf_aus.to_crs(crs=4326, inplace=True)"
   ]
  },
  {
   "cell_type": "code",
   "execution_count": null,
   "id": "fadb6cfa",
   "metadata": {},
   "outputs": [],
   "source": [
    "# Open the raster (WorldClim data) with rasterio\n",
    "with rasterio.open(fp=\"/vsizip/vsicurl/https://geodata.ucdavis.edu/climate/worldclim/2_1/base/wc2.1_5m_bio.zip/wc2.1_5m_bio_13.tif\") as src:\n",
    "    # DISREGARD THE LAST \"GEOMETRY\"\n",
    "    # WHY YOU EXIST FOR ONLY A LINK?!?!?!\n",
    "    out_array, out_transform = rasterio.mask.mask(dataset=src, shapes=[gdf_aus.geometry[6]], crop=True, filled=True)\n",
    "\n",
    "# IF JUST ONE IT NEEDS TO BE A LIST\n",
    "#    out_image, out_transform = mask(src, [gdf_aus.geometry[2]], crop=True, filled=True)\n",
    "#    out_image, out_transform = mask(src, gdf_aus.geometry[0:9], crop=False, filled=True)\n",
    "#    out_image, out_transform = mask(src, gdf_aus.geometry[0:4].to_list(), crop=True, filled=True)\n",
    "\n",
    "    # IMPORTANT: You need to update the metadata to reflect the newly\n",
    "    # cropped raster. It no longer has the same dimensions or affine\n",
    "    # matrix.\n",
    "    out_meta = src.meta.copy()\n",
    "    out_meta.update({\n",
    "        \"driver\": \"GTiff\",\n",
    "        \"count\": 1,\n",
    "        \"dtype\": \"float32\",\n",
    "        \"crs\": src.crs,\n",
    "        \"transform\": out_transform,\n",
    "        \"width\": out_array.shape[2],\n",
    "        \"height\": out_array.shape[1]\n",
    "    })\n",
    "\n",
    "# BTW: We use \"height\": out_array.shape[1] and \"width\": out_array.shape[2]\n",
    "# because the NumPy array is indexed by (band x height x width).\n",
    "# Check it out with out_array.shape."
   ]
  },
  {
   "cell_type": "code",
   "execution_count": null,
   "id": "4e151a6c",
   "metadata": {},
   "outputs": [],
   "source": [
    "# See that some things have CHANGED\n",
    "print(\"The cropped affine matrix (Affine version)\")\n",
    "print(out_meta[\"transform\"])"
   ]
  },
  {
   "cell_type": "code",
   "execution_count": null,
   "id": "4f7f9d6b",
   "metadata": {},
   "outputs": [],
   "source": [
    "# See that some things have CHANGED\n",
    "print(\"The width of the image\")\n",
    "print(out_meta[\"width\"])\n",
    "#\n",
    "print(\"\\nThe height of the image\")\n",
    "print(out_meta[\"height\"])"
   ]
  },
  {
   "cell_type": "code",
   "execution_count": null,
   "id": "216baa7a",
   "metadata": {},
   "outputs": [],
   "source": [
    "# Save the cropped raster to a new file\n",
    "# Pass the metadata as kwargs\n",
    "with rasterio.open(fp=\"../data/austo.tif\", mode=\"w\", **out_meta) as dest:\n",
    "    dest.write(out_array)"
   ]
  },
  {
   "cell_type": "code",
   "execution_count": null,
   "id": "ae32ced7",
   "metadata": {},
   "outputs": [],
   "source": [
    "# Open the raster file we created in the above cell to extract the data\n",
    "with rasterio.open(fp=\"../data/austo.tif\", mode=\"r\") as src:\n",
    "    bio13_crop = src.read(1, masked=True)\n",
    "\n",
    "    # Here SUPER important!\n",
    "    # You cropped the image, so the extent has changed\n",
    "    src_extent_crop = rasterio.plot.plotting_extent(src)"
   ]
  },
  {
   "cell_type": "code",
   "execution_count": null,
   "id": "223a2eaa",
   "metadata": {},
   "outputs": [],
   "source": [
    "# Set up the plot\n",
    "fig, ax = plt.subplots(nrows=1, ncols=1, figsize=(18, 10))\n",
    "\n",
    "# Display the raster using imshow\n",
    "img = ax.imshow(X=bio13_crop, cmap=\"turbo\", extent=src_extent_crop)\n",
    "\n",
    "# Label axes and title\n",
    "ax.set_title(label=\"Precipitation of the wettest month (BIO13)\\ncropped Australia - Northern Territory version\")\n",
    "ax.set_xlabel(xlabel=\"Longitude\")\n",
    "ax.set_ylabel(ylabel=\"Latitude\")\n",
    "\n",
    "# Add a colorbar\n",
    "fig.colorbar(img, ax=ax, shrink=0.7, label=\"Precipitation of the wettest month (in mm)\")\n",
    "\n",
    "# Overlay boundary\n",
    "gdf_aus.boundary.plot(ax=ax, color=\"red\", linewidth=0.5)\n",
    "\n",
    "plt.show()"
   ]
  },
  {
   "cell_type": "code",
   "execution_count": null,
   "id": "e0fccc0c",
   "metadata": {},
   "outputs": [],
   "source": [
    "# Set up the plot\n",
    "fig, ax = plt.subplots(nrows=1, ncols=1, figsize=(18, 10))\n",
    "\n",
    "# Display the raster using imshow\n",
    "#img = ax.imshow(X=bio13_crop, cmap=\"turbo\")\n",
    "img = ax.imshow(X=bio13_crop, cmap=\"turbo\", extent=src_extent_crop)\n",
    "\n",
    "# Label axes and title\n",
    "ax.set_title(label=\"Precipitation of the wettest month (BIO13)\\ncropped Australia - Northern Territory version\")\n",
    "ax.set_xlabel(xlabel=\"Longitude\")\n",
    "ax.set_ylabel(ylabel=\"Latitude\")\n",
    "\n",
    "# Add a colorbar\n",
    "fig.colorbar(img, ax=ax, shrink=1.0, label=\"Precipitation of the wettest month (in mm)\")\n",
    "\n",
    "# Show the plot\n",
    "plt.show()"
   ]
  }
 ],
 "metadata": {
  "kernelspec": {
   "display_name": ".venv",
   "language": "python",
   "name": "python3"
  },
  "language_info": {
   "codemirror_mode": {
    "name": "ipython",
    "version": 3
   },
   "file_extension": ".py",
   "mimetype": "text/x-python",
   "name": "python",
   "nbconvert_exporter": "python",
   "pygments_lexer": "ipython3",
   "version": "3.13.3"
  }
 },
 "nbformat": 4,
 "nbformat_minor": 5
}
